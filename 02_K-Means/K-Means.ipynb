{
 "cells": [
  {
   "cell_type": "markdown",
   "metadata": {},
   "source": [
    "# K-Means"
   ]
  },
  {
   "cell_type": "markdown",
   "metadata": {},
   "source": [
    "K-Means należy do grupy algorytmów nienadzorowanych. Jego zadaniem jest nadanie każdemu z punktów zbioru danych etykeity, przyporządkowującej go do jednej z grup - klastrów. Punkty znajdujace się wewnątrz tego samego klastra są bardziej podobne do siebie nawzajem nież do punktów z poza klastra. Załóżmy, że mamy zbiór danych $X = \\left \\{ x_{1}, ... , x_{N} \\right \\}$, który zawiera $N$ D-wymiarowych obserwacji. Dane jest również $K$ stanowiące liczbę klastró na jakie chcemy podzielić dane. Każdy z kalstrów reprezentowany jest przez centroid $\\mu _{k}$, zlokalizowany w \"środku cieżkości klastra\". Celem KMeans jest zminimalizowanie wartości funkcji $J$ zwanej inercją, która opisana jest poniższym wzorem: \n",
    "\n",
    "$$ J(r,\\mu ) = \\sum_{i}^{N} \\sum_{k}^{K} r_{ik}\\left \\| x_{i} - \\mu _{k} \\right \\|_{2}^{2} $$\n",
    "\n",
    "Gdzie:\n",
    "\n",
    "- $N$ - suma wszystkich punktów\n",
    "- $K$ - suma wszystkich kalstrów\n",
    "- $r_{ik}$ - binarny wskaźnik wskazujący czy $i-ty$ punkt należy do $k-tego$ klastra. Wskaźnik ma wartość 1, jeżli odległość $k-tego$ kalstra do $i-tego$ punkto jest najmniejsza spośród wszystkich klastrów oraz wartosć 0 w innym przypadku.\n",
    "\n",
    "$r_{ik} = \\left\\{\\begin{matrix}1, k=arg min_{j}\\left \\| x_{i} - \\mu _{j} \\right \\|^{2} \\\\ 0, \\end{matrix}\\right.$"
   ]
  },
  {
   "cell_type": "markdown",
   "metadata": {},
   "source": [
    "Analityczna minimalizacja inercji jest bardzo skomplikowanym zagadnieniem. KMeans rozwiazuje ten problem iteracyjnie. Najczęściej KMeans jest rozwiazywane przy pomocy algorytmu Lloyd'a:\n",
    "\n",
    "1. Wybierz K - ilość poszukiwanych klastrów.\n",
    "2. Wybierz K losowych punktów  - centroidów (nie koniecznie z analizowanego zbioru danych)\n",
    "3. Przypisz każdy z punktów do najbliższego centroidu, w ten sposób uformuje się K klastrów.\n",
    "4. Oblicz współrzędne nowych centroidow dla każdego klastra.\n",
    "5. Przypisz każdy punkt ze zbioru danych do najbliższego centroidu. Jeżeli nastąpiło jakieś przesunięcie centroid powrót do 4, w przeciwnym wypadku zakończ."
   ]
  },
  {
   "cell_type": "markdown",
   "metadata": {},
   "source": [
    "### 1. Import i wstępna obróbka danych"
   ]
  },
  {
   "cell_type": "code",
   "execution_count": 10,
   "metadata": {
    "collapsed": true
   },
   "outputs": [],
   "source": [
    "import numpy as np\n",
    "import pandas as pd"
   ]
  },
  {
   "cell_type": "code",
   "execution_count": 11,
   "metadata": {
    "collapsed": true
   },
   "outputs": [],
   "source": [
    "dataset = pd.read_csv('Mall_Customers.csv')"
   ]
  },
  {
   "cell_type": "code",
   "execution_count": 12,
   "metadata": {},
   "outputs": [
    {
     "data": {
      "text/html": [
       "<div>\n",
       "<style>\n",
       "    .dataframe thead tr:only-child th {\n",
       "        text-align: right;\n",
       "    }\n",
       "\n",
       "    .dataframe thead th {\n",
       "        text-align: left;\n",
       "    }\n",
       "\n",
       "    .dataframe tbody tr th {\n",
       "        vertical-align: top;\n",
       "    }\n",
       "</style>\n",
       "<table border=\"1\" class=\"dataframe\">\n",
       "  <thead>\n",
       "    <tr style=\"text-align: right;\">\n",
       "      <th></th>\n",
       "      <th>CustomerID</th>\n",
       "      <th>Genre</th>\n",
       "      <th>Age</th>\n",
       "      <th>Annual Income (k$)</th>\n",
       "      <th>Spending Score (1-100)</th>\n",
       "    </tr>\n",
       "  </thead>\n",
       "  <tbody>\n",
       "    <tr>\n",
       "      <th>0</th>\n",
       "      <td>1</td>\n",
       "      <td>Male</td>\n",
       "      <td>19</td>\n",
       "      <td>15</td>\n",
       "      <td>39</td>\n",
       "    </tr>\n",
       "    <tr>\n",
       "      <th>1</th>\n",
       "      <td>2</td>\n",
       "      <td>Male</td>\n",
       "      <td>21</td>\n",
       "      <td>15</td>\n",
       "      <td>81</td>\n",
       "    </tr>\n",
       "    <tr>\n",
       "      <th>2</th>\n",
       "      <td>3</td>\n",
       "      <td>Female</td>\n",
       "      <td>20</td>\n",
       "      <td>16</td>\n",
       "      <td>6</td>\n",
       "    </tr>\n",
       "    <tr>\n",
       "      <th>3</th>\n",
       "      <td>4</td>\n",
       "      <td>Female</td>\n",
       "      <td>23</td>\n",
       "      <td>16</td>\n",
       "      <td>77</td>\n",
       "    </tr>\n",
       "    <tr>\n",
       "      <th>4</th>\n",
       "      <td>5</td>\n",
       "      <td>Female</td>\n",
       "      <td>31</td>\n",
       "      <td>17</td>\n",
       "      <td>40</td>\n",
       "    </tr>\n",
       "  </tbody>\n",
       "</table>\n",
       "</div>"
      ],
      "text/plain": [
       "   CustomerID   Genre  Age  Annual Income (k$)  Spending Score (1-100)\n",
       "0           1    Male   19                  15                      39\n",
       "1           2    Male   21                  15                      81\n",
       "2           3  Female   20                  16                       6\n",
       "3           4  Female   23                  16                      77\n",
       "4           5  Female   31                  17                      40"
      ]
     },
     "execution_count": 12,
     "metadata": {},
     "output_type": "execute_result"
    }
   ],
   "source": [
    "dataset.head(5)"
   ]
  },
  {
   "cell_type": "markdown",
   "metadata": {},
   "source": [
    "Analizę przeprowadzimy w oparciu o dwie ostatnie kolumny zbioru danych: Annual Income (k$) oraz Spending Score (1-100)."
   ]
  },
  {
   "cell_type": "code",
   "execution_count": 13,
   "metadata": {
    "collapsed": true
   },
   "outputs": [],
   "source": [
    "X = dataset.iloc[:, [3, 4]].values"
   ]
  },
  {
   "cell_type": "markdown",
   "metadata": {
    "collapsed": true
   },
   "source": [
    "### 2. Wizualizacja danych wejściowych przy użyciu biblioteki seaborn"
   ]
  },
  {
   "cell_type": "markdown",
   "metadata": {},
   "source": [
    "Przed przystąpieniem do analizy zbioru danych za pomocą KMeans dobrą praktyką jest stworzenie wykresu opisującego analizowany zbiór danych (o ile jest to możliwe)."
   ]
  },
  {
   "cell_type": "code",
   "execution_count": 15,
   "metadata": {
    "collapsed": true
   },
   "outputs": [],
   "source": [
    "import seaborn as sns\n",
    "%matplotlib inline\n",
    "# Utworzony wykres pojawia sie wewnątrz zeszytu"
   ]
  },
  {
   "cell_type": "code",
   "execution_count": 19,
   "metadata": {
    "collapsed": true
   },
   "outputs": [],
   "source": [
    "sns.set()\n",
    "# Ustawiamy domyślne parametry estetyczne wykresu"
   ]
  },
  {
   "cell_type": "code",
   "execution_count": 18,
   "metadata": {},
   "outputs": [
    {
     "data": {
      "text/plain": [
       "<seaborn.axisgrid.PairGrid at 0x76396ceef0>"
      ]
     },
     "execution_count": 18,
     "metadata": {},
     "output_type": "execute_result"
    },
    {
     "data": {
      "image/png": "[encoded data removed]",
      "text/plain": [
       "<matplotlib.figure.Figure at 0x76396cef60>"
      ]
     },
     "metadata": {},
     "output_type": "display_data"
    }
   ],
   "source": [
    "sns.pairplot(data=dataset, x_vars='Annual Income (k$)', y_vars='Spending Score (1-100)', size=10)"
   ]
  },
  {
   "cell_type": "markdown",
   "metadata": {},
   "source": [
    "Wybrny zbiór danych jest mało skomplikowany i już na pierwszy rzut oka widać, że najprawdopodobniej najlepszym wyborem liczby poszukiwanych klastrów jest K = 5."
   ]
  },
  {
   "cell_type": "markdown",
   "metadata": {},
   "source": [
    "### 3. Poprawny wybór centroid"
   ]
  },
  {
   "cell_type": "markdown",
   "metadata": {},
   "source": [
    "Wybór ilości klastrów oraz wstępnej lokalizacji powiązanych z nimi centroid ma kluczowe znaczenie na poprawność oraz szybkość uzyskania końcowego wyniku. KMean z biblioteki sklearn pozwala wybrać wstępną lokalizację centroid na trzy sposoby: losowo, poprzez podanie listy punktów oraz przy pomocy algorytmu k-means++. Błędny wybur punktów startowych może spowodować tak zwane \"Initialization Trap\" co w rezultacie może doprowadzić między innymi do błędnego pdziału. Aby rozwiązać ten problem, zawarte w bibliotece sklearn KMeans, domyślnie stosuje algorytm L-Means++, który dąrzy do jak największego rozproszenia centroid.\n",
    "\n",
    "1. Wybierz losowo pierwszą centroidą $c_{1}$.\n",
    "2. Dla każdeg punktu obliczamy odległość do najbliższej centroidy.\n",
    "2. W kolejnych iteracjach dla $2 \\leq i \\leq k$ wybieramy centroidę $c_{i}$ kierując się następującymi zasadą: Prawdopodobieństwo wybrania punktu jako kolejnej centroidy, jest proporcjonalne do kwadratu jego odległosci do juz wybranych centroid."
   ]
  },
  {
   "cell_type": "code",
   "execution_count": null,
   "metadata": {
    "collapsed": true
   },
   "outputs": [],
   "source": []
  }
 ],
 "metadata": {
  "kernelspec": {
   "display_name": "Python 3",
   "language": "python",
   "name": "python3"
  },
  "language_info": {
   "codemirror_mode": {
    "name": "ipython",
    "version": 3
   },
   "file_extension": ".py",
   "mimetype": "text/x-python",
   "name": "python",
   "nbconvert_exporter": "python",
   "pygments_lexer": "ipython3",
   "version": "3.6.2"
  }
 },
 "nbformat": 4,
 "nbformat_minor": 2
}
