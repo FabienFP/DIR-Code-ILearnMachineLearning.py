{
 "cells": [
  {
   "cell_type": "code",
   "execution_count": 1,
   "metadata": {},
   "outputs": [
    {
     "name": "stdout",
     "output_type": "stream",
     "text": [
      "['sub_stacked.csv', 'Krishna_s_CatBoost_1_1_CB_1_1.csv', 'bagging_lgbm_submit_day7_8_with_mapping_3.csv']\n"
     ]
    }
   ],
   "source": [
    "import numpy as np\n",
    "import pandas as pd\n",
    "import os\n",
    "from sklearn.linear_model import LogisticRegression\n",
    "from scipy.special import expit, logit\n",
    "from sklearn.metrics import roc_auc_score\n",
    "\n",
    "print(os.listdir(\"input\"))"
   ]
  },
  {
   "cell_type": "code",
   "execution_count": 9,
   "metadata": {
    "collapsed": true
   },
   "outputs": [],
   "source": [
    "almost_zero = 1e-10\n",
    "almost_one = 1 - almost_zero\n",
    "LOGIT_WEIGHT = .8"
   ]
  },
  {
   "cell_type": "code",
   "execution_count": 10,
   "metadata": {
    "collapsed": true
   },
   "outputs": [],
   "source": [
    "models = {\n",
    "    'file1': 'input/bagging_lgbm_submit_day7_8_with_mapping_3.csv',\n",
    "    'file2': 'input/sub_stacked.csv',\n",
    "    'file3': 'input/Krishna_s_CatBoost_1_1_CB_1_1.csv'\n",
    "}"
   ]
  },
  {
   "cell_type": "code",
   "execution_count": 11,
   "metadata": {
    "collapsed": true
   },
   "outputs": [],
   "source": [
    "# Public leaderbaord scores, for comparison\n",
    "weights = {\n",
    "    'file1': 0.7,\n",
    "    'file2': 0.2,\n",
    "    'file3': 0.1\n",
    "}"
   ]
  },
  {
   "cell_type": "code",
   "execution_count": 12,
   "metadata": {},
   "outputs": [
    {
     "name": "stdout",
     "output_type": "stream",
     "text": [
      "0.9999999999999999\n"
     ]
    }
   ],
   "source": [
    "print (sum(weights.values()))"
   ]
  },
  {
   "cell_type": "code",
   "execution_count": 13,
   "metadata": {
    "collapsed": true
   },
   "outputs": [],
   "source": [
    "subs = {m:pd.read_csv(models[m]) for m in models}\n",
    "first_model = list(models.keys())[0]\n",
    "n = subs[first_model].shape[0]"
   ]
  },
  {
   "cell_type": "code",
   "execution_count": 14,
   "metadata": {
    "collapsed": true
   },
   "outputs": [],
   "source": [
    "ranks = {s:subs[s]['is_attributed'].rank()/n for s in subs}\n",
    "logits = {s:subs[s]['is_attributed'].clip(almost_zero,almost_one).apply(logit) for s in subs}"
   ]
  },
  {
   "cell_type": "code",
   "execution_count": 15,
   "metadata": {},
   "outputs": [
    {
     "name": "stdout",
     "output_type": "stream",
     "text": [
      "file1 1.8079053293576095\n",
      "file2 1.065925080982493\n",
      "file3 1.8096665582256892\n"
     ]
    }
   ],
   "source": [
    "logit_avg = 0\n",
    "rank_avg = 0\n",
    "for m in models:\n",
    "    s = logits[m].std()\n",
    "    print(m, s)\n",
    "    logit_avg = logit_avg + weights[m]*logits[m] / s\n",
    "    rank_avg = rank_avg + weights[m]*ranks[m]\n",
    "\n",
    "logit_rank_avg = logit_avg.rank()/n\n",
    "final_avg = LOGIT_WEIGHT*logit_rank_avg + (1-LOGIT_WEIGHT)*rank_avg"
   ]
  },
  {
   "cell_type": "code",
   "execution_count": 16,
   "metadata": {
    "collapsed": true
   },
   "outputs": [],
   "source": [
    "final_sub = pd.DataFrame()\n",
    "final_sub['click_id'] = subs[first_model]['click_id']\n",
    "final_sub['is_attributed'] = final_avg"
   ]
  },
  {
   "cell_type": "code",
   "execution_count": 17,
   "metadata": {},
   "outputs": [
    {
     "name": "stdout",
     "output_type": "stream",
     "text": [
      "   click_id  is_attributed\n",
      "0         0       0.875685\n",
      "1         1       0.538684\n",
      "2         2       0.148901\n",
      "3         3       0.579784\n",
      "4         4       0.507183\n"
     ]
    }
   ],
   "source": [
    "print( final_sub.head() )"
   ]
  },
  {
   "cell_type": "code",
   "execution_count": 18,
   "metadata": {
    "collapsed": true
   },
   "outputs": [],
   "source": [
    "final_sub.to_csv(\"output/stacking_2.csv\", index=False, float_format='%.8f')"
   ]
  },
  {
   "cell_type": "code",
   "execution_count": null,
   "metadata": {
    "collapsed": true
   },
   "outputs": [],
   "source": []
  }
 ],
 "metadata": {
  "kernelspec": {
   "display_name": "Python 3",
   "language": "python",
   "name": "python3"
  },
  "language_info": {
   "codemirror_mode": {
    "name": "ipython",
    "version": 3
   },
   "file_extension": ".py",
   "mimetype": "text/x-python",
   "name": "python",
   "nbconvert_exporter": "python",
   "pygments_lexer": "ipython3",
   "version": "3.6.3"
  }
 },
 "nbformat": 4,
 "nbformat_minor": 2
}
