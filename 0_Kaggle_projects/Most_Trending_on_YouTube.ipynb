{
 "cells": [
  {
   "cell_type": "markdown",
   "metadata": {},
   "source": [
    "# Trending YouTube Video Statistics\n",
    "### Data Exploration and Visualization With Python\n",
    "***"
   ]
  },
  {
   "cell_type": "markdown",
   "metadata": {},
   "source": [
    "<img src='https://upload.wikimedia.org/wikipedia/commons/e/e1/Logo_of_YouTube_%282015-2017%29.svg'>"
   ]
  },
  {
   "cell_type": "markdown",
   "metadata": {},
   "source": [
    "# Table of Contents\n",
    "\n",
    "* [1. Importing dataset and data preprocessing](#importing_dataset_and_data_preprocessing) <br>\n",
    " * [1.1. Importing essential libraries](#importing_essential_libraries) <br>\n",
    " * [1.2. Importing datasets](#importing_datasets) <br>\n",
    " * [1.3. Let's summarize the datasets](#lets_summarize_the_dataset) <br>\n",
    " * [1.4. Data preprocessing and feature engineering](#data_preprocessing_and_feature_engineering) <br>\n",
    "   * [1.4.1. Datetime format of Trending date and Publish time](#datetime_format_of_trending_date_and_publish_time) <br>\n",
    "   * [1.4.2. Assignment of the film category](#assignment_of_the_film_category) <br>\n",
    "   * [1.4.3. Dislike percentage](#dislike_percentage) <br>\n",
    "   * [1.4.4. What about duplicates?](#what_about_duplicates) <br>\n",
    "   * [1.4.5. Time to trend](#time_to_trend) <br>\n",
    "<br>\n",
    "* [2. Data Visualization](#data_visualization) <br>\n",
    " * [2.1. Best time to publish video](#best_time_to_publish_video) <br>\n",
    " * [2.2. It got viral](#it_got_viral) <br>\n",
    " * [2.3. Most influential creators](#most_influential_creators) <br>\n",
    " * [2.4. Variety of topics](#variety_of_topics) <br>\n",
    " * [2.5. Late bloomers](#late_bloomers) <br>\n",
    " * [2.6. No such thing as bad press, right?](#no_such_thing_as_bad_press_right) <br>"
   ]
  },
  {
   "cell_type": "markdown",
   "metadata": {},
   "source": [
    "## 1. Importing dataset and data preprocessing\n",
    "<a id=\"importing_dataset_and_data_preprocessing\"></a>"
   ]
  },
  {
   "cell_type": "markdown",
   "metadata": {},
   "source": [
    "### 1.1. Importing essential libraries\n",
    "<a id=\"importing_essential_libraries\"></a>"
   ]
  },
  {
   "cell_type": "code",
   "execution_count": 1,
   "metadata": {},
   "outputs": [
    {
     "data": {
      "text/html": [
       "<script>requirejs.config({paths: { 'plotly': ['https://cdn.plot.ly/plotly-latest.min']},});if(!window.Plotly) {{require(['plotly'],function(plotly) {window.Plotly=plotly;});}}</script>"
      ],
      "text/vnd.plotly.v1+html": [
       "<script>requirejs.config({paths: { 'plotly': ['https://cdn.plot.ly/plotly-latest.min']},});if(!window.Plotly) {{require(['plotly'],function(plotly) {window.Plotly=plotly;});}}</script>"
      ]
     },
     "metadata": {},
     "output_type": "display_data"
    }
   ],
   "source": [
    "import numpy as np\n",
    "import pandas as pd\n",
    "from scipy.optimize import curve_fit\n",
    "import seaborn as sns\n",
    "\n",
    "import matplotlib.pyplot as plt\n",
    "import matplotlib.colors as colors\n",
    "%matplotlib inline\n",
    "\n",
    "import plotly.offline as py\n",
    "py.init_notebook_mode(connected=True)\n",
    "import plotly.graph_objs as go\n",
    "import plotly.tools as tls"
   ]
  },
  {
   "cell_type": "markdown",
   "metadata": {},
   "source": [
    "### 1.2. Importing dataset\n",
    "<a id=\"importing_datasets\"></a>"
   ]
  },
  {
   "cell_type": "code",
   "execution_count": 2,
   "metadata": {
    "collapsed": true
   },
   "outputs": [],
   "source": [
    "us_videos = pd.read_csv('../00_Datasets/YouTube/USvideos.csv')\n",
    "us_videos_categories = pd.read_json('../00_Datasets/YouTube/US_category_id.json')"
   ]
  },
  {
   "cell_type": "markdown",
   "metadata": {},
   "source": [
    "### 1.3. Let's summarize the dataset\n",
    "<a id=\"lets_summarize_the_dataset\"></a>"
   ]
  },
  {
   "cell_type": "code",
   "execution_count": 3,
   "metadata": {},
   "outputs": [
    {
     "data": {
      "text/html": [
       "<div>\n",
       "<style>\n",
       "    .dataframe thead tr:only-child th {\n",
       "        text-align: right;\n",
       "    }\n",
       "\n",
       "    .dataframe thead th {\n",
       "        text-align: left;\n",
       "    }\n",
       "\n",
       "    .dataframe tbody tr th {\n",
       "        vertical-align: top;\n",
       "    }\n",
       "</style>\n",
       "<table border=\"1\" class=\"dataframe\">\n",
       "  <thead>\n",
       "    <tr style=\"text-align: right;\">\n",
       "      <th></th>\n",
       "      <th>video_id</th>\n",
       "      <th>trending_date</th>\n",
       "      <th>title</th>\n",
       "      <th>channel_title</th>\n",
       "      <th>category_id</th>\n",
       "      <th>publish_time</th>\n",
       "      <th>tags</th>\n",
       "      <th>views</th>\n",
       "      <th>likes</th>\n",
       "      <th>dislikes</th>\n",
       "      <th>comment_count</th>\n",
       "      <th>thumbnail_link</th>\n",
       "      <th>comments_disabled</th>\n",
       "      <th>ratings_disabled</th>\n",
       "      <th>video_error_or_removed</th>\n",
       "      <th>description</th>\n",
       "    </tr>\n",
       "  </thead>\n",
       "  <tbody>\n",
       "    <tr>\n",
       "      <th>0</th>\n",
       "      <td>2kyS6SvSYSE</td>\n",
       "      <td>17.14.11</td>\n",
       "      <td>WE WANT TO TALK ABOUT OUR MARRIAGE</td>\n",
       "      <td>CaseyNeistat</td>\n",
       "      <td>22</td>\n",
       "      <td>2017-11-13T17:13:01.000Z</td>\n",
       "      <td>SHANtell martin</td>\n",
       "      <td>748374</td>\n",
       "      <td>57527</td>\n",
       "      <td>2966</td>\n",
       "      <td>15954</td>\n",
       "      <td>https://i.ytimg.com/vi/2kyS6SvSYSE/default.jpg</td>\n",
       "      <td>False</td>\n",
       "      <td>False</td>\n",
       "      <td>False</td>\n",
       "      <td>SHANTELL'S CHANNEL - https://www.youtube.com/s...</td>\n",
       "    </tr>\n",
       "  </tbody>\n",
       "</table>\n",
       "</div>"
      ],
      "text/plain": [
       "      video_id trending_date                               title  \\\n",
       "0  2kyS6SvSYSE      17.14.11  WE WANT TO TALK ABOUT OUR MARRIAGE   \n",
       "\n",
       "  channel_title  category_id              publish_time             tags  \\\n",
       "0  CaseyNeistat           22  2017-11-13T17:13:01.000Z  SHANtell martin   \n",
       "\n",
       "    views  likes  dislikes  comment_count  \\\n",
       "0  748374  57527      2966          15954   \n",
       "\n",
       "                                   thumbnail_link  comments_disabled  \\\n",
       "0  https://i.ytimg.com/vi/2kyS6SvSYSE/default.jpg              False   \n",
       "\n",
       "   ratings_disabled  video_error_or_removed  \\\n",
       "0             False                   False   \n",
       "\n",
       "                                         description  \n",
       "0  SHANTELL'S CHANNEL - https://www.youtube.com/s...  "
      ]
     },
     "execution_count": 3,
     "metadata": {},
     "output_type": "execute_result"
    }
   ],
   "source": [
    "us_videos.head(1)"
   ]
  },
  {
   "cell_type": "code",
   "execution_count": 4,
   "metadata": {},
   "outputs": [
    {
     "name": "stdout",
     "output_type": "stream",
     "text": [
      "<class 'pandas.core.frame.DataFrame'>\n",
      "RangeIndex: 20967 entries, 0 to 20966\n",
      "Data columns (total 16 columns):\n",
      "video_id                  20967 non-null object\n",
      "trending_date             20967 non-null object\n",
      "title                     20967 non-null object\n",
      "channel_title             20967 non-null object\n",
      "category_id               20967 non-null int64\n",
      "publish_time              20967 non-null object\n",
      "tags                      20967 non-null object\n",
      "views                     20967 non-null int64\n",
      "likes                     20967 non-null int64\n",
      "dislikes                  20967 non-null int64\n",
      "comment_count             20967 non-null int64\n",
      "thumbnail_link            20967 non-null object\n",
      "comments_disabled         20967 non-null bool\n",
      "ratings_disabled          20967 non-null bool\n",
      "video_error_or_removed    20967 non-null bool\n",
      "description               20561 non-null object\n",
      "dtypes: bool(3), int64(5), object(8)\n",
      "memory usage: 2.1+ MB\n"
     ]
    }
   ],
   "source": [
    "us_videos.info()"
   ]
  },
  {
   "cell_type": "markdown",
   "metadata": {},
   "source": [
    "### 1.4. Data preprocessing and feature engineering\n",
    "<a id=\"data_preprocessing_and_feature_engineering\"></a>"
   ]
  },
  {
   "cell_type": "markdown",
   "metadata": {},
   "source": [
    "### 1.4.1. Datetime format of Trending date and Publish time\n",
    "<a id=\"datetime_format_of_trending_date_and_publish_time\"></a>"
   ]
  },
  {
   "cell_type": "markdown",
   "metadata": {},
   "source": [
    "<b>NOTE:</b> We immediately see, that in the first place we have to process the raw data loaded from the file. Firstly we will transform ```trending_date``` as well as ```publish_time``` from string to datetime format. This will allow us to easily perform arithmetic operations and compare these values. ```publish_time``` column will be divided into two separate ones ```publish_date``` and ```publish_time```. I am also curious what time it is best to publish videos to increase the likelihood of treanding. For this reason, I will create an additional column storing the time of publication - ```publish_hour``` ."
   ]
  },
  {
   "cell_type": "code",
   "execution_count": 5,
   "metadata": {
    "collapsed": true
   },
   "outputs": [],
   "source": [
    "# Transforming Trending date column to datetime format\n",
    "us_videos['trending_date'] = pd.to_datetime(us_videos['trending_date'], format='%y.%d.%m').dt.date\n",
    "\n",
    "# Transforming Trending date column to datetime format and splitting into two separate ones\n",
    "publish_time = pd.to_datetime(us_videos['publish_time'], format='%Y-%m-%dT%H:%M:%S.%fZ')\n",
    "us_videos['publish_date'] = publish_time.dt.date\n",
    "us_videos['publish_time'] = publish_time.dt.time\n",
    "us_videos['publish_hour'] = publish_time.dt.hour"
   ]
  },
  {
   "cell_type": "code",
   "execution_count": 6,
   "metadata": {
    "scrolled": true
   },
   "outputs": [
    {
     "data": {
      "text/html": [
       "<div>\n",
       "<style>\n",
       "    .dataframe thead tr:only-child th {\n",
       "        text-align: right;\n",
       "    }\n",
       "\n",
       "    .dataframe thead th {\n",
       "        text-align: left;\n",
       "    }\n",
       "\n",
       "    .dataframe tbody tr th {\n",
       "        vertical-align: top;\n",
       "    }\n",
       "</style>\n",
       "<table border=\"1\" class=\"dataframe\">\n",
       "  <thead>\n",
       "    <tr style=\"text-align: right;\">\n",
       "      <th></th>\n",
       "      <th>video_id</th>\n",
       "      <th>trending_date</th>\n",
       "      <th>title</th>\n",
       "      <th>channel_title</th>\n",
       "      <th>category_id</th>\n",
       "      <th>publish_time</th>\n",
       "      <th>tags</th>\n",
       "      <th>views</th>\n",
       "      <th>likes</th>\n",
       "      <th>dislikes</th>\n",
       "      <th>comment_count</th>\n",
       "      <th>thumbnail_link</th>\n",
       "      <th>comments_disabled</th>\n",
       "      <th>ratings_disabled</th>\n",
       "      <th>video_error_or_removed</th>\n",
       "      <th>description</th>\n",
       "      <th>publish_date</th>\n",
       "      <th>publish_hour</th>\n",
       "    </tr>\n",
       "  </thead>\n",
       "  <tbody>\n",
       "    <tr>\n",
       "      <th>0</th>\n",
       "      <td>2kyS6SvSYSE</td>\n",
       "      <td>2017-11-14</td>\n",
       "      <td>WE WANT TO TALK ABOUT OUR MARRIAGE</td>\n",
       "      <td>CaseyNeistat</td>\n",
       "      <td>22</td>\n",
       "      <td>17:13:01</td>\n",
       "      <td>SHANtell martin</td>\n",
       "      <td>748374</td>\n",
       "      <td>57527</td>\n",
       "      <td>2966</td>\n",
       "      <td>15954</td>\n",
       "      <td>https://i.ytimg.com/vi/2kyS6SvSYSE/default.jpg</td>\n",
       "      <td>False</td>\n",
       "      <td>False</td>\n",
       "      <td>False</td>\n",
       "      <td>SHANTELL'S CHANNEL - https://www.youtube.com/s...</td>\n",
       "      <td>2017-11-13</td>\n",
       "      <td>17</td>\n",
       "    </tr>\n",
       "  </tbody>\n",
       "</table>\n",
       "</div>"
      ],
      "text/plain": [
       "      video_id trending_date                               title  \\\n",
       "0  2kyS6SvSYSE    2017-11-14  WE WANT TO TALK ABOUT OUR MARRIAGE   \n",
       "\n",
       "  channel_title  category_id publish_time             tags   views  likes  \\\n",
       "0  CaseyNeistat           22     17:13:01  SHANtell martin  748374  57527   \n",
       "\n",
       "   dislikes  comment_count                                  thumbnail_link  \\\n",
       "0      2966          15954  https://i.ytimg.com/vi/2kyS6SvSYSE/default.jpg   \n",
       "\n",
       "   comments_disabled  ratings_disabled  video_error_or_removed  \\\n",
       "0              False             False                   False   \n",
       "\n",
       "                                         description publish_date  \\\n",
       "0  SHANTELL'S CHANNEL - https://www.youtube.com/s...   2017-11-13   \n",
       "\n",
       "   publish_hour  \n",
       "0            17  "
      ]
     },
     "execution_count": 6,
     "metadata": {},
     "output_type": "execute_result"
    }
   ],
   "source": [
    "us_videos.head(1)"
   ]
  },
  {
   "cell_type": "markdown",
   "metadata": {},
   "source": [
    "### 1.4.2. Assignment of the film category\n",
    "<a id=\"assignment_of_the_film_category\"></a>"
   ]
  },
  {
   "cell_type": "markdown",
   "metadata": {},
   "source": [
    "<b>NOTE:</b> Next we will connect the films with the categories they belong to. We will associate the information in two files: ```USvideos.csv``` and ```US_category_id.json``` ."
   ]
  },
  {
   "cell_type": "code",
   "execution_count": 7,
   "metadata": {
    "collapsed": true
   },
   "outputs": [],
   "source": [
    "# We'll use a very nice python featur - dictionary comprehension, to extract most important data from US_category_id.json\n",
    "categories = {category['id']: category['snippet']['title'] for category in us_videos_categories['items']}\n",
    "\n",
    "# Now we will create new column that will represent name of category\n",
    "us_videos.insert(4, 'category', us_videos['category_id'].astype(str).map(categories))"
   ]
  },
  {
   "cell_type": "markdown",
   "metadata": {},
   "source": [
    "### 1.4.3. Dislike percentage\n",
    "<a id=\"dislike_percentage\"></a>"
   ]
  },
  {
   "cell_type": "markdown",
   "metadata": {},
   "source": [
    "<b>NOTE:</b> We also count what percentage of assessments are negative ratings."
   ]
  },
  {
   "cell_type": "code",
   "execution_count": 8,
   "metadata": {
    "collapsed": true
   },
   "outputs": [],
   "source": [
    "us_videos['dislike_percentage'] = us_videos['dislikes'] / (us_videos['dislikes'] + us_videos['likes'])"
   ]
  },
  {
   "cell_type": "markdown",
   "metadata": {},
   "source": [
    "### 1.4.4. What about duplicates?\n",
    "<a id=\"what_about_duplicates\"></a>"
   ]
  },
  {
   "cell_type": "markdown",
   "metadata": {},
   "source": [
    "<b>NOTE:</b> Because many of the films have been trending you several times, we will create a separate datasets in which we will get rid of repetitions. Still, we leave the original dataset, because there is a lot of interesting information in it."
   ]
  },
  {
   "cell_type": "code",
   "execution_count": 9,
   "metadata": {
    "collapsed": true
   },
   "outputs": [],
   "source": [
    "us_videos_last = us_videos.drop_duplicates(subset=['video_id'], keep='last', inplace=False)\n",
    "us_videos_first = us_videos.drop_duplicates(subset=['video_id'], keep='first', inplace=False)"
   ]
  },
  {
   "cell_type": "code",
   "execution_count": 10,
   "metadata": {
    "scrolled": false
   },
   "outputs": [
    {
     "name": "stdout",
     "output_type": "stream",
     "text": [
      "us_videos dataset contains 20967 videos\n",
      "us_videos_first dataset contains 4416 videos\n",
      "us_videos_last dataset contains 4416 videos\n"
     ]
    }
   ],
   "source": [
    "print(\"us_videos dataset contains {} videos\".format(us_videos.shape[0]))\n",
    "print(\"us_videos_first dataset contains {} videos\".format(us_videos_first.shape[0]))\n",
    "print(\"us_videos_last dataset contains {} videos\".format(us_videos_last.shape[0]))"
   ]
  },
  {
   "cell_type": "markdown",
   "metadata": {},
   "source": [
    "### 1.4.5. Time to trend\n",
    "<a id=\"time_to_trend\"></a>"
   ]
  },
  {
   "cell_type": "markdown",
   "metadata": {},
   "source": [
    "<b>NOTE:</b> Lastly we will create new feature ```time to trend``` representing the time (in days) between publication and the day when it became trending."
   ]
  },
  {
   "cell_type": "code",
   "execution_count": 11,
   "metadata": {
    "scrolled": true
   },
   "outputs": [
    {
     "name": "stderr",
     "output_type": "stream",
     "text": [
      "/home/afghan/anaconda3/lib/python3.6/site-packages/ipykernel_launcher.py:1: SettingWithCopyWarning:\n",
      "\n",
      "\n",
      "A value is trying to be set on a copy of a slice from a DataFrame.\n",
      "Try using .loc[row_indexer,col_indexer] = value instead\n",
      "\n",
      "See the caveats in the documentation: http://pandas.pydata.org/pandas-docs/stable/indexing.html#indexing-view-versus-copy\n",
      "\n"
     ]
    }
   ],
   "source": [
    "us_videos_first[\"time_to_trend\"] = (us_videos_first.trending_date - us_videos_first.publish_date) / np.timedelta64(1, 'D')"
   ]
  },
  {
   "cell_type": "markdown",
   "metadata": {},
   "source": [
    "## 2. Data Visualization\n",
    "<a id=\"data_visualization\"></a>"
   ]
  },
  {
   "cell_type": "markdown",
   "metadata": {},
   "source": [
    "### 2.1. Best time to publish video\n",
    "<a id=\"best_time_to_publish_video\"></a>"
   ]
  },
  {
   "cell_type": "code",
   "execution_count": 55,
   "metadata": {},
   "outputs": [
    {
     "data": {
      "image/png": "[encoded data removed]",
      "text/plain": [
       "<matplotlib.figure.Figure at 0x7f19904cc4e0>"
      ]
     },
     "metadata": {},
     "output_type": "display_data"
    }
   ],
   "source": [
    "# Initialization of the list storing counters for subsequent publication hours\n",
    "publish_h = [0] * 24\n",
    "\n",
    "for index, row in us_videos_first.iterrows():\n",
    "    publish_h[row[\"publish_hour\"]] += 1\n",
    "    \n",
    "values = publish_h\n",
    "ind = np.arange(len(values))\n",
    "\n",
    "\n",
    "# Creating new plot\n",
    "fig = plt.figure(figsize=(20,10))\n",
    "ax = fig.add_subplot(111)\n",
    "ax.yaxis.grid()\n",
    "ax.xaxis.grid()\n",
    "bars = ax.bar(ind, values)\n",
    "\n",
    "# Sampling of Colormap\n",
    "for i, b in enumerate(bars):\n",
    "    b.set_color(plt.cm.RdYlGn(i / (len(values) - 1)))\n",
    "    \n",
    "plt.ylabel('Number of videos that got trending', fontsize=20)\n",
    "plt.xlabel('Time of publishing', fontsize=20)\n",
    "plt.title('Best time to publish video', fontsize=35, fontweight='bold')\n",
    "plt.xticks(np.arange(0, len(ind), len(ind)/6), [0, 4, 8, 12, 16, 20])\n",
    "\n",
    "plt.show()"
   ]
  },
  {
   "cell_type": "markdown",
   "metadata": {},
   "source": [
    "### 2.2. It got viral\n",
    "<a id=\"it_got_viral\"></a>"
   ]
  },
  {
   "cell_type": "code",
   "execution_count": 12,
   "metadata": {},
   "outputs": [
    {
     "name": "stderr",
     "output_type": "stream",
     "text": [
      "/home/afghan/anaconda3/lib/python3.6/site-packages/ipykernel_launcher.py:7: FutureWarning:\n",
      "\n",
      "using a dict on a Series for aggregation\n",
      "is deprecated and will be removed in a future version\n",
      "\n"
     ]
    },
    {
     "data": {
      "text/html": [
       "<table><tr><th>Photo</th><th>Channel Name</th><th style=\"width:250px;\">Title</th><th>Category</th><th>Publish Date</th></tr><tr><td><img src=\"https://i.ytimg.com/vi/sXP6vliZIHI/default.jpg\"style=\"width:100px;height:100px;\"></td><td>Cardi B</td><td>Cardi B - Bartier Cardi (feat. 21 Savage) [Official Audio]</td><td>People & Blogs</td><td>2017-12-22</td></tr><tr><td><img src=\"https://i.ytimg.com/vi/RHUxyXZBXY8/default.jpg\"style=\"width:100px;height:100px;\"></td><td>MigosVEVO</td><td>Migos - Stir Fry (Audio)</td><td>Music</td><td>2017-12-20</td></tr><tr><td><img src=\"https://i.ytimg.com/vi/8eo-L_3OWAQ/default.jpg\"style=\"width:100px;height:100px;\"></td><td>Ben Pluimer</td><td>Lucky the iPhone singing cockatiel is OVER it!</td><td>Film & Animation</td><td>2017-12-20</td></tr><tr><td><img src=\"https://i.ytimg.com/vi/XcSMdhfKga4/default.jpg\"style=\"width:100px;height:100px;\"></td><td>Universal Pictures</td><td>Mamma Mia! Here We Go Again - Trailer</td><td>Entertainment</td><td>2017-12-21</td></tr><tr><td><img src=\"https://i.ytimg.com/vi/XwDTzD75fT4/default.jpg\"style=\"width:100px;height:100px;\"></td><td>Atlantic Records</td><td>Kesha - This Is Me (from The Greatest Showman Soundtrack) [Official Audio]</td><td>Music</td><td>2017-12-22</td></tr><tr><td><img src=\"https://i.ytimg.com/vi/MSzytvDsPfo/default.jpg\"style=\"width:100px;height:100px;\"></td><td>Saturday Night Live</td><td>Cut for Time: Hallmark Channel Christmas Promo (James Franco) - SNL</td><td>Entertainment</td><td>2017-12-21</td></tr><tr><td><img src=\"https://i.ytimg.com/vi/cMD63TwzB1o/default.jpg\"style=\"width:100px;height:100px;\"></td><td>SZAVEVO</td><td>SZA - The Weekend (Official Video)</td><td>Music</td><td>2017-12-22</td></tr><tr><td><img src=\"https://i.ytimg.com/vi/tE5C3O71Xqo/default.jpg\"style=\"width:100px;height:100px;\"></td><td>Doug Ellison</td><td>SpaceX Iridium 4 Launch from Alhambra, CA</td><td>Science & Technology</td><td>2017-12-23</td></tr><tr><td><img src=\"https://i.ytimg.com/vi/ItL6vcUrpUs/default.jpg\"style=\"width:100px;height:100px;\"></td><td>Macklemore LLC</td><td>MACKLEMORE FEAT DAVE B & TRAVIS THOMPSON - CORNER STORE (Official Music Video)</td><td>Music</td><td>2017-12-21</td></tr><tr><td><img src=\"https://i.ytimg.com/vi/WS7f5xpGYn8/default.jpg\"style=\"width:100px;height:100px;\"></td><td>KatyPerryVEVO</td><td>Katy Perry - Hey Hey Hey (Official)</td><td>Music</td><td>2017-12-20</td></tr></table>"
      ],
      "text/plain": [
       "<IPython.core.display.HTML object>"
      ]
     },
     "metadata": {},
     "output_type": "display_data"
    }
   ],
   "source": [
    "from IPython.display import HTML, display\n",
    "\n",
    "# We choose the 10 most trending videos\n",
    "selected_columns = ['title', 'channel_title', 'thumbnail_link', 'publish_date', 'category']\n",
    "\n",
    "most_frequent = us_videos.groupby(selected_columns)['video_id'].agg(\n",
    "    {\"code_count\": len}).sort_values(\n",
    "    \"code_count\", ascending=False\n",
    ").head(10).reset_index()\n",
    "\n",
    "# Construction of HTML table with miniature photos assigned to the most popular movies\n",
    "table_content = ''\n",
    "max_title_length = 50\n",
    "\n",
    "for date, row in most_frequent.T.iteritems():\n",
    "    HTML_row = '<tr>'\n",
    "    HTML_row += '<td><img src=\"' + str(row[2]) + '\"style=\"width:100px;height:100px;\"></td>'\n",
    "    HTML_row += '<td>' + str(row[1]) + '</td>'\n",
    "    HTML_row += '<td>' + str(row[0])  + '</td>'\n",
    "    HTML_row += '<td>' + str(row[4]) + '</td>'\n",
    "    HTML_row += '<td>' + str(row[3]) + '</td>'\n",
    "    \n",
    "    table_content += HTML_row + '</tr>'\n",
    "\n",
    "display(HTML(\n",
    "    '<table><tr><th>Photo</th><th>Channel Name</th><th style=\"width:250px;\">Title</th><th>Category</th><th>Publish Date</th></tr>{}</table>'.format(table_content))\n",
    ")"
   ]
  },
  {
   "cell_type": "markdown",
   "metadata": {},
   "source": [
    "### 2.3. Most influential creators\n",
    "<a id=\"most_influential_creators\"></a>"
   ]
  },
  {
   "cell_type": "code",
   "execution_count": 13,
   "metadata": {
    "scrolled": false
   },
   "outputs": [
    {
     "name": "stderr",
     "output_type": "stream",
     "text": [
      "/home/afghan/anaconda3/lib/python3.6/site-packages/ipykernel_launcher.py:5: FutureWarning:\n",
      "\n",
      "using a dict on a Series for aggregation\n",
      "is deprecated and will be removed in a future version\n",
      "\n"
     ]
    },
    {
     "data": {
      "application/vnd.plotly.v1+json": {
       "data": [
        {
         "marker": {
          "color": "rgba(55, 128, 191, 0.7)",
          "line": {
           "color": "rgba(55, 128, 191, 1.0)",
           "width": 2
          }
         },
         "name": "Top creators",
         "orientation": "h",
         "type": "bar",
         "x": [
          73,
          75,
          76,
          76,
          76,
          80,
          82,
          84,
          85,
          85,
          86,
          87,
          89,
          91,
          91,
          91,
          92,
          94,
          97,
          99,
          100,
          100,
          101,
          101,
          102
         ],
         "y": [
          "TODAY",
          "Warner Bros. Pictures",
          "The Late Late Show with James ...",
          "ABC News",
          "Great Big Story",
          "Saturday Night Live",
          "Washington Post",
          "Screen Junkies",
          "Late Night with Seth Meyers",
          "Jimmy Kimmel Live",
          "INSIDER",
          "Life Noggin",
          "WWE",
          "CNN",
          "Refinery29",
          "The Late Show with Stephen Col...",
          "TheEllenShow",
          "Tom Scott",
          "The Tonight Show Starring Jimm...",
          "First We Feast",
          "NBA",
          "NFL",
          "Vox",
          "Netflix",
          "ESPN"
         ]
        }
       ],
       "layout": {
        "height": 600,
        "legend": {
         "x": 0.6,
         "y": 0.07
        },
        "margin": {
         "b": 80,
         "l": 180,
         "pad": 10,
         "r": 50,
         "t": 80
        },
        "paper_bgcolor": "rgb(244, 238, 225)",
        "plot_bgcolor": "rgb(244, 238, 225)",
        "title": "Most influential creators",
        "width": 900,
        "xaxis": {
         "anchor": "x",
         "rangemode": "tozero",
         "title": "Number of times video made by creator got trending"
        },
        "yaxis": {
         "anchor": "x",
         "rangemode": "tozero",
         "tickfont": {
          "size": 10
         },
         "ticklen": 1
        }
       }
      },
      "text/html": [
       "<div id=\"c69208f3-3bbf-4747-bdbb-83f739640920\" style=\"height: 600px; width: 900px;\" class=\"plotly-graph-div\"></div><script type=\"text/javascript\">require([\"plotly\"], function(Plotly) { window.PLOTLYENV=window.PLOTLYENV || {};window.PLOTLYENV.BASE_URL=\"https://plot.ly\";Plotly.newPlot(\"c69208f3-3bbf-4747-bdbb-83f739640920\", [{\"type\": \"bar\", \"y\": [\"TODAY\", \"Warner Bros. Pictures\", \"The Late Late Show with James ...\", \"ABC News\", \"Great Big Story\", \"Saturday Night Live\", \"Washington Post\", \"Screen Junkies\", \"Late Night with Seth Meyers\", \"Jimmy Kimmel Live\", \"INSIDER\", \"Life Noggin\", \"WWE\", \"CNN\", \"Refinery29\", \"The Late Show with Stephen Col...\", \"TheEllenShow\", \"Tom Scott\", \"The Tonight Show Starring Jimm...\", \"First We Feast\", \"NBA\", \"NFL\", \"Vox\", \"Netflix\", \"ESPN\"], \"x\": [73, 75, 76, 76, 76, 80, 82, 84, 85, 85, 86, 87, 89, 91, 91, 91, 92, 94, 97, 99, 100, 100, 101, 101, 102], \"name\": \"Top creators\", \"orientation\": \"h\", \"marker\": {\"color\": \"rgba(55, 128, 191, 0.7)\", \"line\": {\"color\": \"rgba(55, 128, 191, 1.0)\", \"width\": 2}}}], {\"title\": \"Most influential creators\", \"width\": 900, \"height\": 600, \"margin\": {\"l\": 180, \"r\": 50, \"b\": 80, \"t\": 80, \"pad\": 10}, \"paper_bgcolor\": \"rgb(244, 238, 225)\", \"plot_bgcolor\": \"rgb(244, 238, 225)\", \"yaxis\": {\"anchor\": \"x\", \"rangemode\": \"tozero\", \"tickfont\": {\"size\": 10}, \"ticklen\": 1}, \"xaxis\": {\"title\": \"Number of times video made by creator got trending\", \"anchor\": \"x\", \"rangemode\": \"tozero\"}, \"legend\": {\"x\": 0.6, \"y\": 0.07}}, {\"showLink\": true, \"linkText\": \"Export to plot.ly\"})});</script>"
      ],
      "text/vnd.plotly.v1+html": [
       "<div id=\"c69208f3-3bbf-4747-bdbb-83f739640920\" style=\"height: 600px; width: 900px;\" class=\"plotly-graph-div\"></div><script type=\"text/javascript\">require([\"plotly\"], function(Plotly) { window.PLOTLYENV=window.PLOTLYENV || {};window.PLOTLYENV.BASE_URL=\"https://plot.ly\";Plotly.newPlot(\"c69208f3-3bbf-4747-bdbb-83f739640920\", [{\"type\": \"bar\", \"y\": [\"TODAY\", \"Warner Bros. Pictures\", \"The Late Late Show with James ...\", \"ABC News\", \"Great Big Story\", \"Saturday Night Live\", \"Washington Post\", \"Screen Junkies\", \"Late Night with Seth Meyers\", \"Jimmy Kimmel Live\", \"INSIDER\", \"Life Noggin\", \"WWE\", \"CNN\", \"Refinery29\", \"The Late Show with Stephen Col...\", \"TheEllenShow\", \"Tom Scott\", \"The Tonight Show Starring Jimm...\", \"First We Feast\", \"NBA\", \"NFL\", \"Vox\", \"Netflix\", \"ESPN\"], \"x\": [73, 75, 76, 76, 76, 80, 82, 84, 85, 85, 86, 87, 89, 91, 91, 91, 92, 94, 97, 99, 100, 100, 101, 101, 102], \"name\": \"Top creators\", \"orientation\": \"h\", \"marker\": {\"color\": \"rgba(55, 128, 191, 0.7)\", \"line\": {\"color\": \"rgba(55, 128, 191, 1.0)\", \"width\": 2}}}], {\"title\": \"Most influential creators\", \"width\": 900, \"height\": 600, \"margin\": {\"l\": 180, \"r\": 50, \"b\": 80, \"t\": 80, \"pad\": 10}, \"paper_bgcolor\": \"rgb(244, 238, 225)\", \"plot_bgcolor\": \"rgb(244, 238, 225)\", \"yaxis\": {\"anchor\": \"x\", \"rangemode\": \"tozero\", \"tickfont\": {\"size\": 10}, \"ticklen\": 1}, \"xaxis\": {\"title\": \"Number of times video made by creator got trending\", \"anchor\": \"x\", \"rangemode\": \"tozero\"}, \"legend\": {\"x\": 0.6, \"y\": 0.07}}, {\"showLink\": true, \"linkText\": \"Export to plot.ly\"})});</script>"
      ]
     },
     "metadata": {},
     "output_type": "display_data"
    }
   ],
   "source": [
    "max_title_length = 30\n",
    "number_of_creators = 25\n",
    "\n",
    "top_creators = us_videos.groupby(['channel_title'])['channel_title'].agg(\n",
    "    {\"code_count\": len}).sort_values(\n",
    "    \"code_count\", ascending=False\n",
    ").head(number_of_creators).reset_index()\n",
    "\n",
    "trace1 = go.Bar(\n",
    "    y = [(x if len(x) <= max_title_length else x[:max_title_length] + \"...\") for x in top_creators.channel_title.values][::-1],\n",
    "    x = top_creators['code_count'].tolist()[::-1],\n",
    "    name = \"Top creators\",\n",
    "    orientation = 'h',\n",
    "    marker=dict(\n",
    "        color='rgba(55, 128, 191, 0.7)',\n",
    "        line=dict(\n",
    "            color='rgba(55, 128, 191, 1.0)',\n",
    "            width=2,\n",
    "        )\n",
    "    ),\n",
    ")\n",
    "\n",
    "data = [trace1]\n",
    "\n",
    "layout = go.Layout(\n",
    "    title = 'Most influential creators',\n",
    "    width=900,\n",
    "    height=600,\n",
    "    margin=go.Margin(\n",
    "        l=180,\n",
    "        r=50,\n",
    "        b=80,\n",
    "        t=80,\n",
    "        pad=10\n",
    "    ),\n",
    "    paper_bgcolor='rgb(244, 238, 225)',\n",
    "    plot_bgcolor='rgb(244, 238, 225)',\n",
    "    yaxis = dict(\n",
    "        anchor = 'x',\n",
    "        rangemode='tozero',\n",
    "        tickfont=dict(\n",
    "            size=10\n",
    "        ),\n",
    "        ticklen=1\n",
    "    ), \n",
    "    xaxis = dict(\n",
    "        title= 'Number of times video made by creator got trending',\n",
    "        anchor = 'x',\n",
    "        rangemode='tozero'\n",
    "    ), \n",
    "    legend=dict(x=0.6, y=0.07)\n",
    ")\n",
    "\n",
    "fig = go.Figure(data=data, layout=layout)\n",
    "py.iplot(fig)"
   ]
  },
  {
   "cell_type": "markdown",
   "metadata": {},
   "source": [
    "### 2.4. Variety of topics\n",
    "<a id=\"variety_of_topics\"></a>"
   ]
  },
  {
   "cell_type": "code",
   "execution_count": 14,
   "metadata": {},
   "outputs": [
    {
     "name": "stderr",
     "output_type": "stream",
     "text": [
      "/home/afghan/anaconda3/lib/python3.6/site-packages/ipykernel_launcher.py:5: FutureWarning:\n",
      "\n",
      "using a dict on a Series for aggregation\n",
      "is deprecated and will be removed in a future version\n",
      "\n"
     ]
    },
    {
     "data": {
      "application/vnd.plotly.v1+json": {
       "data": [
        {
         "marker": {
          "color": "rgba(55, 128, 191, 0.7)",
          "line": {
           "color": "rgba(55, 128, 191, 1.0)",
           "width": 2
          }
         },
         "name": "Top categories",
         "orientation": "h",
         "type": "bar",
         "x": [
          851,
          1124,
          1183,
          1258,
          1674,
          1782,
          1789,
          1909,
          3098,
          4870
         ],
         "y": [
          "Education",
          "Sports",
          "Film & Animation",
          "Science & Technology",
          "People & Blogs",
          "Comedy",
          "News & Politics",
          "Howto & Style",
          "Music",
          "Entertainment"
         ]
        }
       ],
       "layout": {
        "height": 600,
        "legend": {
         "x": 0.6,
         "y": 0.07
        },
        "margin": {
         "b": 80,
         "l": 180,
         "pad": 10,
         "r": 50,
         "t": 80
        },
        "paper_bgcolor": "rgb(244, 238, 225)",
        "plot_bgcolor": "rgb(244, 238, 225)",
        "title": "Most popular categories",
        "width": 900,
        "xaxis": {
         "anchor": "x",
         "rangemode": "tozero",
         "title": "The number of times the video of a given category was trending"
        },
        "yaxis": {
         "anchor": "x",
         "rangemode": "tozero",
         "tickfont": {
          "size": 10
         },
         "ticklen": 1
        }
       }
      },
      "text/html": [
       "<div id=\"8991cc24-0583-4a6e-9a50-1be4d61c0d73\" style=\"height: 600px; width: 900px;\" class=\"plotly-graph-div\"></div><script type=\"text/javascript\">require([\"plotly\"], function(Plotly) { window.PLOTLYENV=window.PLOTLYENV || {};window.PLOTLYENV.BASE_URL=\"https://plot.ly\";Plotly.newPlot(\"8991cc24-0583-4a6e-9a50-1be4d61c0d73\", [{\"type\": \"bar\", \"y\": [\"Education\", \"Sports\", \"Film & Animation\", \"Science & Technology\", \"People & Blogs\", \"Comedy\", \"News & Politics\", \"Howto & Style\", \"Music\", \"Entertainment\"], \"x\": [851, 1124, 1183, 1258, 1674, 1782, 1789, 1909, 3098, 4870], \"name\": \"Top categories\", \"orientation\": \"h\", \"marker\": {\"color\": \"rgba(55, 128, 191, 0.7)\", \"line\": {\"color\": \"rgba(55, 128, 191, 1.0)\", \"width\": 2}}}], {\"title\": \"Most popular categories\", \"width\": 900, \"height\": 600, \"margin\": {\"l\": 180, \"r\": 50, \"b\": 80, \"t\": 80, \"pad\": 10}, \"paper_bgcolor\": \"rgb(244, 238, 225)\", \"plot_bgcolor\": \"rgb(244, 238, 225)\", \"yaxis\": {\"anchor\": \"x\", \"rangemode\": \"tozero\", \"tickfont\": {\"size\": 10}, \"ticklen\": 1}, \"xaxis\": {\"title\": \"The number of times the video of a given category was trending\", \"anchor\": \"x\", \"rangemode\": \"tozero\"}, \"legend\": {\"x\": 0.6, \"y\": 0.07}}, {\"showLink\": true, \"linkText\": \"Export to plot.ly\"})});</script>"
      ],
      "text/vnd.plotly.v1+html": [
       "<div id=\"8991cc24-0583-4a6e-9a50-1be4d61c0d73\" style=\"height: 600px; width: 900px;\" class=\"plotly-graph-div\"></div><script type=\"text/javascript\">require([\"plotly\"], function(Plotly) { window.PLOTLYENV=window.PLOTLYENV || {};window.PLOTLYENV.BASE_URL=\"https://plot.ly\";Plotly.newPlot(\"8991cc24-0583-4a6e-9a50-1be4d61c0d73\", [{\"type\": \"bar\", \"y\": [\"Education\", \"Sports\", \"Film & Animation\", \"Science & Technology\", \"People & Blogs\", \"Comedy\", \"News & Politics\", \"Howto & Style\", \"Music\", \"Entertainment\"], \"x\": [851, 1124, 1183, 1258, 1674, 1782, 1789, 1909, 3098, 4870], \"name\": \"Top categories\", \"orientation\": \"h\", \"marker\": {\"color\": \"rgba(55, 128, 191, 0.7)\", \"line\": {\"color\": \"rgba(55, 128, 191, 1.0)\", \"width\": 2}}}], {\"title\": \"Most popular categories\", \"width\": 900, \"height\": 600, \"margin\": {\"l\": 180, \"r\": 50, \"b\": 80, \"t\": 80, \"pad\": 10}, \"paper_bgcolor\": \"rgb(244, 238, 225)\", \"plot_bgcolor\": \"rgb(244, 238, 225)\", \"yaxis\": {\"anchor\": \"x\", \"rangemode\": \"tozero\", \"tickfont\": {\"size\": 10}, \"ticklen\": 1}, \"xaxis\": {\"title\": \"The number of times the video of a given category was trending\", \"anchor\": \"x\", \"rangemode\": \"tozero\"}, \"legend\": {\"x\": 0.6, \"y\": 0.07}}, {\"showLink\": true, \"linkText\": \"Export to plot.ly\"})});</script>"
      ]
     },
     "metadata": {},
     "output_type": "display_data"
    }
   ],
   "source": [
    "max_title_length = 30\n",
    "number_of_creators = 10\n",
    "\n",
    "top_creators = us_videos.groupby(['category'])['category'].agg(\n",
    "    {\"code_count\": len}).sort_values(\n",
    "    \"code_count\", ascending=False\n",
    ").head(number_of_creators).reset_index()\n",
    "\n",
    "trace1 = go.Bar(\n",
    "    y = [(x if len(x) <= max_title_length else x[:max_title_length] + \"...\") for x in top_creators.category.values][::-1],\n",
    "    x = top_creators['code_count'].tolist()[::-1],\n",
    "    name = \"Top categories\",\n",
    "    orientation = 'h',\n",
    "    marker=dict(\n",
    "        color='rgba(55, 128, 191, 0.7)',\n",
    "        line=dict(\n",
    "            color='rgba(55, 128, 191, 1.0)',\n",
    "            width=2,\n",
    "        )\n",
    "    ),\n",
    ")\n",
    "\n",
    "data = [trace1]\n",
    "\n",
    "layout = go.Layout(\n",
    "    title = 'Most popular categories',\n",
    "    width=900,\n",
    "    height=600,\n",
    "    margin=go.Margin(\n",
    "        l=180,\n",
    "        r=50,\n",
    "        b=80,\n",
    "        t=80,\n",
    "        pad=10\n",
    "    ),\n",
    "    paper_bgcolor='rgb(244, 238, 225)',\n",
    "    plot_bgcolor='rgb(244, 238, 225)',\n",
    "    yaxis = dict(\n",
    "        anchor = 'x',\n",
    "        rangemode='tozero',\n",
    "        tickfont=dict(\n",
    "            size=10\n",
    "        ),\n",
    "        ticklen=1\n",
    "    ), \n",
    "    xaxis = dict(\n",
    "        title= 'The number of times the video of a given category was trending',\n",
    "        anchor = 'x',\n",
    "        rangemode='tozero'\n",
    "    ), \n",
    "    legend=dict(x=0.6, y=0.07)\n",
    ")\n",
    "\n",
    "fig = go.Figure(data=data, layout=layout)\n",
    "py.iplot(fig)"
   ]
  },
  {
   "cell_type": "markdown",
   "metadata": {},
   "source": [
    "### 2.5. Late bloomers\n",
    "<a id=\"late_bloomers\"></a>\n",
    "This section dedicated to videos that waited the longest before they became trending. I also checked how many views they had when they hit the YouTube home page."
   ]
  },
  {
   "cell_type": "code",
   "execution_count": 15,
   "metadata": {
    "scrolled": false
   },
   "outputs": [
    {
     "data": {
      "application/vnd.plotly.v1+json": {
       "data": [
        {
         "marker": {
          "color": "rgba(55, 128, 191, 0.7)",
          "line": {
           "color": "rgba(55, 128, 191, 1.0)",
           "width": 2
          }
         },
         "name": "Number of days",
         "type": "bar",
         "x": [
          "Budweiser - Original...",
          "Kramer vs Kramer-Clo...",
          "Behind The Sounds: T...",
          "SAOIRSE RONAN - MORO...",
          "Amazon.com commercia...",
          "The Smithereens - Bl...",
          "The Cranberries - Dr...",
          "TimRollins part1",
          "Christmas Day 2000",
          "The perfect ice - Ic...",
          "Blade Vs Deacon Fros...",
          "The Royal Tenenbaums...",
          "LL sound in Welsh",
          "washing dishes by ha...",
          "Imperial-class Star ...",
          "Martin Luther King -...",
          "二贵摔跤 - tienghoa.net",
          "Live in the now!",
          "U.S. v. Whistleblowe...",
          "Nick Andopolis: Drum..."
         ],
         "y": [
          4215,
          3563,
          3448,
          3398,
          3176,
          3113,
          3044,
          3027,
          2933,
          2862,
          2839,
          2823,
          2820,
          2816,
          2653,
          2489,
          2463,
          2424,
          2411,
          2361
         ]
        },
        {
         "marker": {
          "color": "rgba(219, 64, 82, 0.7)",
          "line": {
           "color": "rgba(219, 64, 82, 1.0)",
           "width": 2
          }
         },
         "name": "total views",
         "type": "bar",
         "x": [
          "Budweiser - Original...",
          "Kramer vs Kramer-Clo...",
          "Behind The Sounds: T...",
          "SAOIRSE RONAN - MORO...",
          "Amazon.com commercia...",
          "The Smithereens - Bl...",
          "The Cranberries - Dr...",
          "TimRollins part1",
          "Christmas Day 2000",
          "The perfect ice - Ic...",
          "Blade Vs Deacon Fros...",
          "The Royal Tenenbaums...",
          "LL sound in Welsh",
          "washing dishes by ha...",
          "Imperial-class Star ...",
          "Martin Luther King -...",
          "二贵摔跤 - tienghoa.net",
          "Live in the now!",
          "U.S. v. Whistleblowe...",
          "Nick Andopolis: Drum..."
         ],
         "y": [
          258506,
          49942,
          86744,
          26482,
          15382,
          45096,
          113672,
          14289,
          2863,
          94694,
          163780,
          25796,
          48682,
          73685,
          17273,
          2896,
          16823,
          95085,
          33797,
          50867
         ],
         "yaxis": "y2"
        }
       ],
       "layout": {
        "barmode": "group",
        "height": 500,
        "legend": {
         "x": 0.1,
         "y": 0.05
        },
        "margin": {
         "b": 120,
         "l": 75,
         "pad": 10,
         "r": 75,
         "t": 80
        },
        "paper_bgcolor": "rgb(244, 238, 225)",
        "plot_bgcolor": "rgb(244, 238, 225)",
        "title": "Late bloomers",
        "width": 900,
        "yaxis": {
         "anchor": "x",
         "rangemode": "tozero",
         "title": "Number of days until becoming trending"
        },
        "yaxis2": {
         "anchor": "x",
         "dtick": 61000,
         "overlaying": "y",
         "rangemode": "tozero",
         "side": "right",
         "tickfont": {
          "color": "rgb(148, 103, 189)"
         },
         "title": "Total number of views",
         "titlefont": {
          "color": "rgb(148, 103, 189)"
         }
        }
       }
      },
      "text/html": [
       "<div id=\"759278dc-1148-4297-a772-0a9dbdae40ae\" style=\"height: 500px; width: 900px;\" class=\"plotly-graph-div\"></div><script type=\"text/javascript\">require([\"plotly\"], function(Plotly) { window.PLOTLYENV=window.PLOTLYENV || {};window.PLOTLYENV.BASE_URL=\"https://plot.ly\";Plotly.newPlot(\"759278dc-1148-4297-a772-0a9dbdae40ae\", [{\"type\": \"bar\", \"x\": [\"Budweiser - Original...\", \"Kramer vs Kramer-Clo...\", \"Behind The Sounds: T...\", \"SAOIRSE RONAN - MORO...\", \"Amazon.com commercia...\", \"The Smithereens - Bl...\", \"The Cranberries - Dr...\", \"TimRollins part1\", \"Christmas Day 2000\", \"The perfect ice - Ic...\", \"Blade Vs Deacon Fros...\", \"The Royal Tenenbaums...\", \"LL sound in Welsh\", \"washing dishes by ha...\", \"Imperial-class Star ...\", \"Martin Luther King -...\", \"\\u4e8c\\u8d35\\u6454\\u8de4 - tienghoa.net\", \"Live in the now!\", \"U.S. v. Whistleblowe...\", \"Nick Andopolis: Drum...\"], \"y\": [4215.0, 3563.0, 3448.0, 3398.0, 3176.0, 3113.0, 3044.0, 3027.0, 2933.0, 2862.0, 2839.0, 2823.0, 2820.0, 2816.0, 2653.0, 2489.0, 2463.0, 2424.0, 2411.0, 2361.0], \"name\": \"Number of days\", \"marker\": {\"color\": \"rgba(55, 128, 191, 0.7)\", \"line\": {\"color\": \"rgba(55, 128, 191, 1.0)\", \"width\": 2}}}, {\"type\": \"bar\", \"x\": [\"Budweiser - Original...\", \"Kramer vs Kramer-Clo...\", \"Behind The Sounds: T...\", \"SAOIRSE RONAN - MORO...\", \"Amazon.com commercia...\", \"The Smithereens - Bl...\", \"The Cranberries - Dr...\", \"TimRollins part1\", \"Christmas Day 2000\", \"The perfect ice - Ic...\", \"Blade Vs Deacon Fros...\", \"The Royal Tenenbaums...\", \"LL sound in Welsh\", \"washing dishes by ha...\", \"Imperial-class Star ...\", \"Martin Luther King -...\", \"\\u4e8c\\u8d35\\u6454\\u8de4 - tienghoa.net\", \"Live in the now!\", \"U.S. v. Whistleblowe...\", \"Nick Andopolis: Drum...\"], \"y\": [258506, 49942, 86744, 26482, 15382, 45096, 113672, 14289, 2863, 94694, 163780, 25796, 48682, 73685, 17273, 2896, 16823, 95085, 33797, 50867], \"name\": \"total views\", \"marker\": {\"color\": \"rgba(219, 64, 82, 0.7)\", \"line\": {\"color\": \"rgba(219, 64, 82, 1.0)\", \"width\": 2}}, \"yaxis\": \"y2\"}], {\"barmode\": \"group\", \"title\": \"Late bloomers\", \"width\": 900, \"height\": 500, \"margin\": {\"l\": 75, \"r\": 75, \"b\": 120, \"t\": 80, \"pad\": 10}, \"paper_bgcolor\": \"rgb(244, 238, 225)\", \"plot_bgcolor\": \"rgb(244, 238, 225)\", \"yaxis\": {\"title\": \"Number of days until becoming trending\", \"anchor\": \"x\", \"rangemode\": \"tozero\"}, \"yaxis2\": {\"title\": \"Total number of views\", \"titlefont\": {\"color\": \"rgb(148, 103, 189)\"}, \"tickfont\": {\"color\": \"rgb(148, 103, 189)\"}, \"overlaying\": \"y\", \"side\": \"right\", \"anchor\": \"x\", \"rangemode\": \"tozero\", \"dtick\": 61000}, \"legend\": {\"x\": 0.1, \"y\": 0.05}}, {\"showLink\": true, \"linkText\": \"Export to plot.ly\"})});</script>"
      ],
      "text/vnd.plotly.v1+html": [
       "<div id=\"759278dc-1148-4297-a772-0a9dbdae40ae\" style=\"height: 500px; width: 900px;\" class=\"plotly-graph-div\"></div><script type=\"text/javascript\">require([\"plotly\"], function(Plotly) { window.PLOTLYENV=window.PLOTLYENV || {};window.PLOTLYENV.BASE_URL=\"https://plot.ly\";Plotly.newPlot(\"759278dc-1148-4297-a772-0a9dbdae40ae\", [{\"type\": \"bar\", \"x\": [\"Budweiser - Original...\", \"Kramer vs Kramer-Clo...\", \"Behind The Sounds: T...\", \"SAOIRSE RONAN - MORO...\", \"Amazon.com commercia...\", \"The Smithereens - Bl...\", \"The Cranberries - Dr...\", \"TimRollins part1\", \"Christmas Day 2000\", \"The perfect ice - Ic...\", \"Blade Vs Deacon Fros...\", \"The Royal Tenenbaums...\", \"LL sound in Welsh\", \"washing dishes by ha...\", \"Imperial-class Star ...\", \"Martin Luther King -...\", \"\\u4e8c\\u8d35\\u6454\\u8de4 - tienghoa.net\", \"Live in the now!\", \"U.S. v. Whistleblowe...\", \"Nick Andopolis: Drum...\"], \"y\": [4215.0, 3563.0, 3448.0, 3398.0, 3176.0, 3113.0, 3044.0, 3027.0, 2933.0, 2862.0, 2839.0, 2823.0, 2820.0, 2816.0, 2653.0, 2489.0, 2463.0, 2424.0, 2411.0, 2361.0], \"name\": \"Number of days\", \"marker\": {\"color\": \"rgba(55, 128, 191, 0.7)\", \"line\": {\"color\": \"rgba(55, 128, 191, 1.0)\", \"width\": 2}}}, {\"type\": \"bar\", \"x\": [\"Budweiser - Original...\", \"Kramer vs Kramer-Clo...\", \"Behind The Sounds: T...\", \"SAOIRSE RONAN - MORO...\", \"Amazon.com commercia...\", \"The Smithereens - Bl...\", \"The Cranberries - Dr...\", \"TimRollins part1\", \"Christmas Day 2000\", \"The perfect ice - Ic...\", \"Blade Vs Deacon Fros...\", \"The Royal Tenenbaums...\", \"LL sound in Welsh\", \"washing dishes by ha...\", \"Imperial-class Star ...\", \"Martin Luther King -...\", \"\\u4e8c\\u8d35\\u6454\\u8de4 - tienghoa.net\", \"Live in the now!\", \"U.S. v. Whistleblowe...\", \"Nick Andopolis: Drum...\"], \"y\": [258506, 49942, 86744, 26482, 15382, 45096, 113672, 14289, 2863, 94694, 163780, 25796, 48682, 73685, 17273, 2896, 16823, 95085, 33797, 50867], \"name\": \"total views\", \"marker\": {\"color\": \"rgba(219, 64, 82, 0.7)\", \"line\": {\"color\": \"rgba(219, 64, 82, 1.0)\", \"width\": 2}}, \"yaxis\": \"y2\"}], {\"barmode\": \"group\", \"title\": \"Late bloomers\", \"width\": 900, \"height\": 500, \"margin\": {\"l\": 75, \"r\": 75, \"b\": 120, \"t\": 80, \"pad\": 10}, \"paper_bgcolor\": \"rgb(244, 238, 225)\", \"plot_bgcolor\": \"rgb(244, 238, 225)\", \"yaxis\": {\"title\": \"Number of days until becoming trending\", \"anchor\": \"x\", \"rangemode\": \"tozero\"}, \"yaxis2\": {\"title\": \"Total number of views\", \"titlefont\": {\"color\": \"rgb(148, 103, 189)\"}, \"tickfont\": {\"color\": \"rgb(148, 103, 189)\"}, \"overlaying\": \"y\", \"side\": \"right\", \"anchor\": \"x\", \"rangemode\": \"tozero\", \"dtick\": 61000}, \"legend\": {\"x\": 0.1, \"y\": 0.05}}, {\"showLink\": true, \"linkText\": \"Export to plot.ly\"})});</script>"
      ]
     },
     "metadata": {},
     "output_type": "display_data"
    }
   ],
   "source": [
    "max_title_length = 20\n",
    "number_of_late_bloomers = 20\n",
    "\n",
    "late_bloomers = us_videos_first.sort_values([\"time_to_trend\"], ascending=False).head(number_of_late_bloomers)\n",
    "late_bloomers_title = [(x if len(x) <= max_title_length else x[:max_title_length] + \"...\") for x in late_bloomers.title.values]\n",
    "late_bloomers_days = late_bloomers.time_to_trend.values\n",
    "late_bloomers_views = late_bloomers.views.values\n",
    "\n",
    "trace1 = go.Bar(\n",
    "    x = late_bloomers_title,\n",
    "    y = late_bloomers_days,\n",
    "    name='Number of days',\n",
    "    marker=dict(\n",
    "        color='rgba(55, 128, 191, 0.7)',\n",
    "        line=dict(\n",
    "            color='rgba(55, 128, 191, 1.0)',\n",
    "            width=2,\n",
    "        )\n",
    "    )\n",
    ")\n",
    "trace2 = go.Bar(\n",
    "    x = late_bloomers_title,\n",
    "    y = late_bloomers_views,\n",
    "    name='total views',\n",
    "    marker=dict(\n",
    "        color='rgba(219, 64, 82, 0.7)',\n",
    "        line=dict(\n",
    "            color='rgba(219, 64, 82, 1.0)',\n",
    "            width=2,\n",
    "        )\n",
    "    ),\n",
    "    yaxis='y2'\n",
    ")\n",
    "\n",
    "\n",
    "data = [trace1, trace2]\n",
    "layout = go.Layout(\n",
    "    barmode='group',\n",
    "    title = 'Late bloomers',\n",
    "    width=900,\n",
    "    height=500,\n",
    "    margin=go.Margin(\n",
    "        l=75,\n",
    "        r=75,\n",
    "        b=120,\n",
    "        t=80,\n",
    "        pad=10\n",
    "    ),\n",
    "    paper_bgcolor='rgb(244, 238, 225)',\n",
    "    plot_bgcolor='rgb(244, 238, 225)',\n",
    "    yaxis = dict(\n",
    "        title= 'Number of days until becoming trending',\n",
    "        anchor = 'x',\n",
    "        rangemode='tozero'\n",
    "    ),   \n",
    "    yaxis2=dict(\n",
    "        title='Total number of views',\n",
    "        titlefont=dict(\n",
    "            color='rgb(148, 103, 189)'\n",
    "        ),\n",
    "        tickfont=dict(\n",
    "            color='rgb(148, 103, 189)'\n",
    "        ),\n",
    "        overlaying='y',\n",
    "        side='right',\n",
    "        anchor = 'x',\n",
    "        rangemode = 'tozero',\n",
    "        dtick = 61000\n",
    "    ),\n",
    "    #legend=dict(x=-.1, y=1.2)\n",
    "    legend=dict(x=0.1, y=0.05)\n",
    ")\n",
    "\n",
    "fig = go.Figure(data=data, layout=layout)\n",
    "py.iplot(fig)"
   ]
  },
  {
   "cell_type": "markdown",
   "metadata": {},
   "source": [
    "### 2.6. No such thing as bad press, right?\n",
    "<a id=\"no_such_thing_as_bad_press_right\"></a>\n",
    "This section dedicated to videos that has gained popularity on YT by being disliked."
   ]
  },
  {
   "cell_type": "code",
   "execution_count": 16,
   "metadata": {},
   "outputs": [
    {
     "data": {
      "application/vnd.plotly.v1+json": {
       "data": [
        {
         "marker": {
          "color": "rgba(55, 128, 191, 0.7)",
          "line": {
           "color": "rgba(55, 128, 191, 1.0)",
           "width": 2
          }
         },
         "name": "Number of likes",
         "type": "bar",
         "x": [
          "Budweiser - Original...",
          "Kramer vs Kramer-Clo...",
          "Behind The Sounds: T...",
          "SAOIRSE RONAN - MORO...",
          "Amazon.com commercia...",
          "The Smithereens - Bl...",
          "The Cranberries - Dr...",
          "TimRollins part1",
          "Christmas Day 2000",
          "The perfect ice - Ic...",
          "Blade Vs Deacon Fros...",
          "The Royal Tenenbaums...",
          "LL sound in Welsh",
          "washing dishes by ha...",
          "Imperial-class Star ...",
          "Martin Luther King -...",
          "二贵摔跤 - tienghoa.net",
          "Live in the now!",
          "U.S. v. Whistleblowe...",
          "Nick Andopolis: Drum..."
         ],
         "y": [
          835378,
          1149185,
          1207457,
          9100,
          1167488,
          32892,
          4870,
          761852,
          754791,
          365439
         ]
        },
        {
         "marker": {
          "color": "rgba(219, 64, 82, 0.7)",
          "line": {
           "color": "rgba(219, 64, 82, 1.0)",
           "width": 2
          }
         },
         "name": "Number of dislikes",
         "type": "bar",
         "x": [
          "Budweiser - Original...",
          "Kramer vs Kramer-Clo...",
          "Behind The Sounds: T...",
          "SAOIRSE RONAN - MORO...",
          "Amazon.com commercia...",
          "The Smithereens - Bl...",
          "The Cranberries - Dr...",
          "TimRollins part1",
          "Christmas Day 2000",
          "The perfect ice - Ic...",
          "Blade Vs Deacon Fros...",
          "The Royal Tenenbaums...",
          "LL sound in Welsh",
          "washing dishes by ha...",
          "Imperial-class Star ...",
          "Martin Luther King -...",
          "二贵摔跤 - tienghoa.net",
          "Live in the now!",
          "U.S. v. Whistleblowe...",
          "Nick Andopolis: Drum..."
         ],
         "y": [
          629120,
          483924,
          280675,
          218841,
          147643,
          117128,
          110707,
          86475,
          65326,
          63579
         ]
        },
        {
         "marker": {
          "size": 15,
          "symbol": "hexagon-dot"
         },
         "mode": "markers",
         "name": "Dislike percentage",
         "type": "scatter",
         "x": [
          "Budweiser - Original...",
          "Kramer vs Kramer-Clo...",
          "Behind The Sounds: T...",
          "SAOIRSE RONAN - MORO...",
          "Amazon.com commercia...",
          "The Smithereens - Bl...",
          "The Cranberries - Dr...",
          "TimRollins part1",
          "Christmas Day 2000",
          "The perfect ice - Ic...",
          "Blade Vs Deacon Fros...",
          "The Royal Tenenbaums...",
          "LL sound in Welsh",
          "washing dishes by ha...",
          "Imperial-class Star ...",
          "Martin Luther King -...",
          "二贵摔跤 - tienghoa.net",
          "Live in the now!",
          "U.S. v. Whistleblowe...",
          "Nick Andopolis: Drum..."
         ],
         "y": [
          0.4295806481128687,
          0.29632069874086786,
          0.1886089406047313,
          0.9600773884470104,
          0.11226486182745293,
          0.7807492334355419,
          0.9578635887763136,
          0.1019359280088928,
          0.07965448832300757,
          0.14819657916451057
         ],
         "yaxis": "y2"
        }
       ],
       "layout": {
        "barmode": "group",
        "height": 500,
        "legend": {
         "x": 0.75,
         "y": 1
        },
        "margin": {
         "b": 120,
         "l": 75,
         "pad": 10,
         "r": 75,
         "t": 80
        },
        "paper_bgcolor": "rgb(244, 238, 225)",
        "plot_bgcolor": "rgb(244, 238, 225)",
        "title": "No such thing as bad press, right?",
        "width": 900,
        "yaxis": {
         "anchor": "x",
         "rangemode": "tozero",
         "title": "Number of likes/dislikes"
        },
        "yaxis2": {
         "anchor": "x",
         "dtick": 0.165,
         "overlaying": "y",
         "rangemode": "tozero",
         "side": "right",
         "tickfont": {
          "color": "rgb(148, 103, 189)"
         },
         "title": "Dislike percentage",
         "titlefont": {
          "color": "rgb(148, 103, 189)"
         }
        }
       }
      },
      "text/html": [
       "<div id=\"151fad67-369c-4ba4-9db4-3f803b3d11a1\" style=\"height: 500px; width: 900px;\" class=\"plotly-graph-div\"></div><script type=\"text/javascript\">require([\"plotly\"], function(Plotly) { window.PLOTLYENV=window.PLOTLYENV || {};window.PLOTLYENV.BASE_URL=\"https://plot.ly\";Plotly.newPlot(\"151fad67-369c-4ba4-9db4-3f803b3d11a1\", [{\"type\": \"bar\", \"x\": [\"Budweiser - Original...\", \"Kramer vs Kramer-Clo...\", \"Behind The Sounds: T...\", \"SAOIRSE RONAN - MORO...\", \"Amazon.com commercia...\", \"The Smithereens - Bl...\", \"The Cranberries - Dr...\", \"TimRollins part1\", \"Christmas Day 2000\", \"The perfect ice - Ic...\", \"Blade Vs Deacon Fros...\", \"The Royal Tenenbaums...\", \"LL sound in Welsh\", \"washing dishes by ha...\", \"Imperial-class Star ...\", \"Martin Luther King -...\", \"\\u4e8c\\u8d35\\u6454\\u8de4 - tienghoa.net\", \"Live in the now!\", \"U.S. v. Whistleblowe...\", \"Nick Andopolis: Drum...\"], \"y\": [835378, 1149185, 1207457, 9100, 1167488, 32892, 4870, 761852, 754791, 365439], \"name\": \"Number of likes\", \"marker\": {\"color\": \"rgba(55, 128, 191, 0.7)\", \"line\": {\"color\": \"rgba(55, 128, 191, 1.0)\", \"width\": 2}}}, {\"type\": \"bar\", \"x\": [\"Budweiser - Original...\", \"Kramer vs Kramer-Clo...\", \"Behind The Sounds: T...\", \"SAOIRSE RONAN - MORO...\", \"Amazon.com commercia...\", \"The Smithereens - Bl...\", \"The Cranberries - Dr...\", \"TimRollins part1\", \"Christmas Day 2000\", \"The perfect ice - Ic...\", \"Blade Vs Deacon Fros...\", \"The Royal Tenenbaums...\", \"LL sound in Welsh\", \"washing dishes by ha...\", \"Imperial-class Star ...\", \"Martin Luther King -...\", \"\\u4e8c\\u8d35\\u6454\\u8de4 - tienghoa.net\", \"Live in the now!\", \"U.S. v. Whistleblowe...\", \"Nick Andopolis: Drum...\"], \"y\": [629120, 483924, 280675, 218841, 147643, 117128, 110707, 86475, 65326, 63579], \"name\": \"Number of dislikes\", \"marker\": {\"color\": \"rgba(219, 64, 82, 0.7)\", \"line\": {\"color\": \"rgba(219, 64, 82, 1.0)\", \"width\": 2}}}, {\"type\": \"scatter\", \"x\": [\"Budweiser - Original...\", \"Kramer vs Kramer-Clo...\", \"Behind The Sounds: T...\", \"SAOIRSE RONAN - MORO...\", \"Amazon.com commercia...\", \"The Smithereens - Bl...\", \"The Cranberries - Dr...\", \"TimRollins part1\", \"Christmas Day 2000\", \"The perfect ice - Ic...\", \"Blade Vs Deacon Fros...\", \"The Royal Tenenbaums...\", \"LL sound in Welsh\", \"washing dishes by ha...\", \"Imperial-class Star ...\", \"Martin Luther King -...\", \"\\u4e8c\\u8d35\\u6454\\u8de4 - tienghoa.net\", \"Live in the now!\", \"U.S. v. Whistleblowe...\", \"Nick Andopolis: Drum...\"], \"y\": [0.4295806481128687, 0.29632069874086786, 0.1886089406047313, 0.9600773884470104, 0.11226486182745293, 0.7807492334355419, 0.9578635887763136, 0.1019359280088928, 0.07965448832300757, 0.14819657916451057], \"name\": \"Dislike percentage\", \"mode\": \"markers\", \"marker\": {\"symbol\": \"hexagon-dot\", \"size\": 15}, \"yaxis\": \"y2\"}], {\"barmode\": \"group\", \"title\": \"No such thing as bad press, right?\", \"width\": 900, \"height\": 500, \"margin\": {\"l\": 75, \"r\": 75, \"b\": 120, \"t\": 80, \"pad\": 10}, \"paper_bgcolor\": \"rgb(244, 238, 225)\", \"plot_bgcolor\": \"rgb(244, 238, 225)\", \"yaxis\": {\"title\": \"Number of likes/dislikes\", \"anchor\": \"x\", \"rangemode\": \"tozero\"}, \"yaxis2\": {\"title\": \"Dislike percentage\", \"titlefont\": {\"color\": \"rgb(148, 103, 189)\"}, \"tickfont\": {\"color\": \"rgb(148, 103, 189)\"}, \"overlaying\": \"y\", \"side\": \"right\", \"anchor\": \"x\", \"rangemode\": \"tozero\", \"dtick\": 0.165}, \"legend\": {\"x\": 0.75, \"y\": 1}}, {\"showLink\": true, \"linkText\": \"Export to plot.ly\"})});</script>"
      ],
      "text/vnd.plotly.v1+html": [
       "<div id=\"151fad67-369c-4ba4-9db4-3f803b3d11a1\" style=\"height: 500px; width: 900px;\" class=\"plotly-graph-div\"></div><script type=\"text/javascript\">require([\"plotly\"], function(Plotly) { window.PLOTLYENV=window.PLOTLYENV || {};window.PLOTLYENV.BASE_URL=\"https://plot.ly\";Plotly.newPlot(\"151fad67-369c-4ba4-9db4-3f803b3d11a1\", [{\"type\": \"bar\", \"x\": [\"Budweiser - Original...\", \"Kramer vs Kramer-Clo...\", \"Behind The Sounds: T...\", \"SAOIRSE RONAN - MORO...\", \"Amazon.com commercia...\", \"The Smithereens - Bl...\", \"The Cranberries - Dr...\", \"TimRollins part1\", \"Christmas Day 2000\", \"The perfect ice - Ic...\", \"Blade Vs Deacon Fros...\", \"The Royal Tenenbaums...\", \"LL sound in Welsh\", \"washing dishes by ha...\", \"Imperial-class Star ...\", \"Martin Luther King -...\", \"\\u4e8c\\u8d35\\u6454\\u8de4 - tienghoa.net\", \"Live in the now!\", \"U.S. v. Whistleblowe...\", \"Nick Andopolis: Drum...\"], \"y\": [835378, 1149185, 1207457, 9100, 1167488, 32892, 4870, 761852, 754791, 365439], \"name\": \"Number of likes\", \"marker\": {\"color\": \"rgba(55, 128, 191, 0.7)\", \"line\": {\"color\": \"rgba(55, 128, 191, 1.0)\", \"width\": 2}}}, {\"type\": \"bar\", \"x\": [\"Budweiser - Original...\", \"Kramer vs Kramer-Clo...\", \"Behind The Sounds: T...\", \"SAOIRSE RONAN - MORO...\", \"Amazon.com commercia...\", \"The Smithereens - Bl...\", \"The Cranberries - Dr...\", \"TimRollins part1\", \"Christmas Day 2000\", \"The perfect ice - Ic...\", \"Blade Vs Deacon Fros...\", \"The Royal Tenenbaums...\", \"LL sound in Welsh\", \"washing dishes by ha...\", \"Imperial-class Star ...\", \"Martin Luther King -...\", \"\\u4e8c\\u8d35\\u6454\\u8de4 - tienghoa.net\", \"Live in the now!\", \"U.S. v. Whistleblowe...\", \"Nick Andopolis: Drum...\"], \"y\": [629120, 483924, 280675, 218841, 147643, 117128, 110707, 86475, 65326, 63579], \"name\": \"Number of dislikes\", \"marker\": {\"color\": \"rgba(219, 64, 82, 0.7)\", \"line\": {\"color\": \"rgba(219, 64, 82, 1.0)\", \"width\": 2}}}, {\"type\": \"scatter\", \"x\": [\"Budweiser - Original...\", \"Kramer vs Kramer-Clo...\", \"Behind The Sounds: T...\", \"SAOIRSE RONAN - MORO...\", \"Amazon.com commercia...\", \"The Smithereens - Bl...\", \"The Cranberries - Dr...\", \"TimRollins part1\", \"Christmas Day 2000\", \"The perfect ice - Ic...\", \"Blade Vs Deacon Fros...\", \"The Royal Tenenbaums...\", \"LL sound in Welsh\", \"washing dishes by ha...\", \"Imperial-class Star ...\", \"Martin Luther King -...\", \"\\u4e8c\\u8d35\\u6454\\u8de4 - tienghoa.net\", \"Live in the now!\", \"U.S. v. Whistleblowe...\", \"Nick Andopolis: Drum...\"], \"y\": [0.4295806481128687, 0.29632069874086786, 0.1886089406047313, 0.9600773884470104, 0.11226486182745293, 0.7807492334355419, 0.9578635887763136, 0.1019359280088928, 0.07965448832300757, 0.14819657916451057], \"name\": \"Dislike percentage\", \"mode\": \"markers\", \"marker\": {\"symbol\": \"hexagon-dot\", \"size\": 15}, \"yaxis\": \"y2\"}], {\"barmode\": \"group\", \"title\": \"No such thing as bad press, right?\", \"width\": 900, \"height\": 500, \"margin\": {\"l\": 75, \"r\": 75, \"b\": 120, \"t\": 80, \"pad\": 10}, \"paper_bgcolor\": \"rgb(244, 238, 225)\", \"plot_bgcolor\": \"rgb(244, 238, 225)\", \"yaxis\": {\"title\": \"Number of likes/dislikes\", \"anchor\": \"x\", \"rangemode\": \"tozero\"}, \"yaxis2\": {\"title\": \"Dislike percentage\", \"titlefont\": {\"color\": \"rgb(148, 103, 189)\"}, \"tickfont\": {\"color\": \"rgb(148, 103, 189)\"}, \"overlaying\": \"y\", \"side\": \"right\", \"anchor\": \"x\", \"rangemode\": \"tozero\", \"dtick\": 0.165}, \"legend\": {\"x\": 0.75, \"y\": 1}}, {\"showLink\": true, \"linkText\": \"Export to plot.ly\"})});</script>"
      ]
     },
     "metadata": {},
     "output_type": "display_data"
    }
   ],
   "source": [
    "max_title_length = 20\n",
    "number_of_late_bloomers = 10\n",
    "\n",
    "most_disliked = us_videos_first.sort_values([\"dislikes\"], ascending=False).head(number_of_late_bloomers)\n",
    "most_disliked_title = [(x if len(x) <= max_title_length else x[:max_title_length] + \"...\") for x in late_bloomers.title.values]\n",
    "most_disliked_l_number = most_disliked.likes.values\n",
    "most_disliked_dl_number = most_disliked.dislikes.values\n",
    "most_disliked_dl_percentage = most_disliked.dislike_percentage.values\n",
    "\n",
    "trace1 = go.Bar(\n",
    "    x = most_disliked_title,\n",
    "    y = most_disliked_l_number,\n",
    "    name='Number of likes',\n",
    "    marker=dict(\n",
    "        color='rgba(55, 128, 191, 0.7)',\n",
    "        line=dict(\n",
    "            color='rgba(55, 128, 191, 1.0)',\n",
    "            width=2,\n",
    "        )\n",
    "    )\n",
    ")\n",
    "trace2 = go.Bar(\n",
    "    x = most_disliked_title,\n",
    "    y = most_disliked_dl_number,\n",
    "    name='Number of dislikes',\n",
    "    marker=dict(\n",
    "        color='rgba(219, 64, 82, 0.7)',\n",
    "        line=dict(\n",
    "            color='rgba(219, 64, 82, 1.0)',\n",
    "            width=2,\n",
    "        )\n",
    "    )\n",
    ")\n",
    "\n",
    "trace3 = go.Scatter(\n",
    "    x = most_disliked_title,\n",
    "    y = most_disliked_dl_percentage,\n",
    "    name='Dislike percentage',\n",
    "    mode = 'markers',\n",
    "    marker=dict(\n",
    "        symbol=\"hexagon-dot\",\n",
    "        size=15\n",
    "    ),\n",
    "    yaxis='y2'\n",
    ")\n",
    "\n",
    "data = [trace1, trace2, trace3]\n",
    "layout = go.Layout(\n",
    "    barmode='group',\n",
    "    title = 'No such thing as bad press, right?',\n",
    "    width=900,\n",
    "    height=500,\n",
    "    margin=go.Margin(\n",
    "        l=75,\n",
    "        r=75,\n",
    "        b=120,\n",
    "        t=80,\n",
    "        pad=10\n",
    "    ),\n",
    "    paper_bgcolor='rgb(244, 238, 225)',\n",
    "    plot_bgcolor='rgb(244, 238, 225)',\n",
    "    yaxis = dict(\n",
    "        title= 'Number of likes/dislikes',\n",
    "        anchor = 'x',\n",
    "        rangemode='tozero'\n",
    "    ),   \n",
    "    yaxis2=dict(\n",
    "        title='Dislike percentage',\n",
    "        titlefont=dict(\n",
    "            color='rgb(148, 103, 189)'\n",
    "        ),\n",
    "        tickfont=dict(\n",
    "            color='rgb(148, 103, 189)'\n",
    "        ),\n",
    "        overlaying='y',\n",
    "        side='right',\n",
    "        anchor = 'x',\n",
    "        rangemode = 'tozero',\n",
    "        dtick = 0.165\n",
    "    ),\n",
    "    legend=dict(x=0.75, y=1)\n",
    ")\n",
    "\n",
    "fig = go.Figure(data=data, layout=layout)\n",
    "py.iplot(fig)"
   ]
  },
  {
   "cell_type": "code",
   "execution_count": 17,
   "metadata": {},
   "outputs": [
    {
     "data": {
      "image/png": "[encoded data removed]",
      "text/plain": [
       "<matplotlib.figure.Figure at 0x7f1991bfd940>"
      ]
     },
     "metadata": {},
     "output_type": "display_data"
    }
   ],
   "source": [
    "plt.figure(figsize=(16,8))\n",
    "sns.set_style(\"whitegrid\")\n",
    "plt.title('Videos vews according to their Likes and Dislikes', fontsize=20, fontweight='bold', y=1.05,)\n",
    "plt.xlabel('Likes', fontsize=15)\n",
    "plt.ylabel('Dislkes', fontsize=15)\n",
    "\n",
    "likes = us_videos_first[\"likes\"].values\n",
    "dislikes = us_videos_first[\"dislikes\"].values\n",
    "views = us_videos_first[\"views\"].values\n",
    "\n",
    "plt.scatter(likes, dislikes, s = views/10000, edgecolors='black')\n",
    "plt.show()"
   ]
  },
  {
   "cell_type": "markdown",
   "metadata": {},
   "source": [
    "# To be continued... :)"
   ]
  }
 ],
 "metadata": {
  "kernelspec": {
   "display_name": "Python 3",
   "language": "python",
   "name": "python3"
  },
  "language_info": {
   "codemirror_mode": {
    "name": "ipython",
    "version": 3
   },
   "file_extension": ".py",
   "mimetype": "text/x-python",
   "name": "python",
   "nbconvert_exporter": "python",
   "pygments_lexer": "ipython3",
   "version": "3.6.3"
  }
 },
 "nbformat": 4,
 "nbformat_minor": 2
}
