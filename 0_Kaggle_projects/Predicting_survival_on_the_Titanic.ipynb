{
 "cells": [
  {
   "cell_type": "markdown",
   "metadata": {},
   "source": [
    "# Predicting survival on the Titanic"
   ]
  },
  {
   "cell_type": "markdown",
   "metadata": {},
   "source": [
    "<b>*Piotr Skalski - 09.10.2017*</b>"
   ]
  },
  {
   "cell_type": "markdown",
   "metadata": {},
   "source": [
    "# Table of Contents"
   ]
  },
  {
   "cell_type": "markdown",
   "metadata": {},
   "source": [
    "* [1. Introduction](#introduction)\n",
    "* [2. Importing dataset and preparation of data](#importing_dataset_and_preparation_of_data)\n",
    "<br>\n",
    "   * [2.1. Dataset import](#dataset_import)\n",
    "   * [2.2. Let's try to summarize the Dataset](#lets_summarize_the_dataset)\n",
    "   * [2.3. Data preprocessing and feature engineering](#data_preprocessing_and_feature_engineering)\n",
    "<br>   \n",
    "      * [2.3.1. Pclass](#pclass)\n",
    "      * [2.3.2. Sex](#sex)\n",
    "      * [2.3.3. Family Size](#family_size)\n",
    "      * [2.3.4. Embarked](#embarked)\n",
    "      * [2.3.5. Fare](#fare)\n",
    "      * [2.3.6. Age](#age)\n",
    "      * [2.3.7. Cabin](#cabin)\n",
    "      * [2.3.8. Title](#title)\n",
    "      * [2.3.9. Data Cleaning](#data_cleaning)\n",
    "      * [2.3.10. Correlation Heatmap](#correlation_heatmap)\n",
    "<br>      \n",
    "* [3. Classification](#classification)\n",
    "<br>\n",
    "   * [3.1. Dataset preperation](#dataset_preperation)\n",
    "   * [3.2. Decision Tree Classifier](#decision_tree_classifier)\n",
    "   * [3.3. Random Forest Classifier](#random_forest_classifier)\n",
    "   * [3.4. K Neighbors Classifier](#k_neighbors_classifier)\n",
    "   * [3.2. Decision Tree Classifier](#decision_tree_classifier)"
   ]
  },
  {
   "cell_type": "markdown",
   "metadata": {},
   "source": [
    "<img src='https://upload.wikimedia.org/wikipedia/commons/2/2a/Titanic_in_Southampton.jpg'>"
   ]
  },
  {
   "cell_type": "markdown",
   "metadata": {},
   "source": [
    "## 1. Introduction\n",
    "<a id=\"introduction\"></a>"
   ]
  },
  {
   "cell_type": "markdown",
   "metadata": {},
   "source": [
    "Not so long ago I got intrested in Machine Learning, set up Kaggle account and spend last few weeks studding script of other users. I feel it's high time for me, to try my skills in Titanic dataset competition. I will focus on data visualizations, but also try my best in predictiong survival of passengers. As I said, I am quitey new to Machine Learning, so I am grateful for any feedback and guidelines.\n",
    "\n",
    "Lets import essential libraries and get started:"
   ]
  },
  {
   "cell_type": "code",
   "execution_count": 1,
   "metadata": {},
   "outputs": [
    {
     "data": {
      "text/html": [
       "<script>requirejs.config({paths: { 'plotly': ['https://cdn.plot.ly/plotly-latest.min']},});if(!window.Plotly) {{require(['plotly'],function(plotly) {window.Plotly=plotly;});}}</script>"
      ],
      "text/vnd.plotly.v1+html": [
       "<script>requirejs.config({paths: { 'plotly': ['https://cdn.plot.ly/plotly-latest.min']},});if(!window.Plotly) {{require(['plotly'],function(plotly) {window.Plotly=plotly;});}}</script>"
      ]
     },
     "metadata": {},
     "output_type": "display_data"
    }
   ],
   "source": [
    "# scientific computing\n",
    "import numpy as np\n",
    "# data analysis\n",
    "import pandas as pd\n",
    "# missing values by columns\n",
    "import missingno as msno\n",
    "\n",
    "# using regular expression\n",
    "import re\n",
    "\n",
    "# visualization\n",
    "import seaborn as sns\n",
    "import matplotlib.pyplot as plt\n",
    "%matplotlib inline\n",
    "\n",
    "import plotly.offline as py\n",
    "py.init_notebook_mode(connected=True)\n",
    "import plotly.graph_objs as go\n",
    "import plotly.tools as tls"
   ]
  },
  {
   "cell_type": "markdown",
   "metadata": {},
   "source": [
    "## 2. Importing dataset and preparation of data\n",
    "<a id=\"importing_dataset_and_preparation_of_data\"></a>"
   ]
  },
  {
   "cell_type": "markdown",
   "metadata": {},
   "source": [
    "### 2.1. Dataset import\n",
    "<a id=\"dataset_import\"></a>"
   ]
  },
  {
   "cell_type": "code",
   "execution_count": 2,
   "metadata": {},
   "outputs": [],
   "source": [
    "# Importing the dataset\n",
    "dataset_test = pd.read_csv('../00_Datasets/Titanic_test.csv', header = 0, dtype={'Age': np.float64})\n",
    "dataset_train = pd.read_csv('../00_Datasets/Titanic_train.csv', header = 0, dtype={'Age': np.float64})\n",
    "full_data = [dataset_test, dataset_train]"
   ]
  },
  {
   "cell_type": "markdown",
   "metadata": {},
   "source": [
    "### 2.2. Let's try to summarize the Dataset\n",
    "<a id=\"lets_summarize_the_dataset\"></a>"
   ]
  },
  {
   "cell_type": "code",
   "execution_count": 3,
   "metadata": {},
   "outputs": [
    {
     "data": {
      "text/html": [
       "<div>\n",
       "<style>\n",
       "    .dataframe thead tr:only-child th {\n",
       "        text-align: right;\n",
       "    }\n",
       "\n",
       "    .dataframe thead th {\n",
       "        text-align: left;\n",
       "    }\n",
       "\n",
       "    .dataframe tbody tr th {\n",
       "        vertical-align: top;\n",
       "    }\n",
       "</style>\n",
       "<table border=\"1\" class=\"dataframe\">\n",
       "  <thead>\n",
       "    <tr style=\"text-align: right;\">\n",
       "      <th></th>\n",
       "      <th>PassengerId</th>\n",
       "      <th>Survived</th>\n",
       "      <th>Pclass</th>\n",
       "      <th>Name</th>\n",
       "      <th>Sex</th>\n",
       "      <th>Age</th>\n",
       "      <th>SibSp</th>\n",
       "      <th>Parch</th>\n",
       "      <th>Ticket</th>\n",
       "      <th>Fare</th>\n",
       "      <th>Cabin</th>\n",
       "      <th>Embarked</th>\n",
       "    </tr>\n",
       "  </thead>\n",
       "  <tbody>\n",
       "    <tr>\n",
       "      <th>0</th>\n",
       "      <td>1</td>\n",
       "      <td>0</td>\n",
       "      <td>3</td>\n",
       "      <td>Braund, Mr. Owen Harris</td>\n",
       "      <td>male</td>\n",
       "      <td>22.0</td>\n",
       "      <td>1</td>\n",
       "      <td>0</td>\n",
       "      <td>A/5 21171</td>\n",
       "      <td>7.2500</td>\n",
       "      <td>NaN</td>\n",
       "      <td>S</td>\n",
       "    </tr>\n",
       "    <tr>\n",
       "      <th>1</th>\n",
       "      <td>2</td>\n",
       "      <td>1</td>\n",
       "      <td>1</td>\n",
       "      <td>Cumings, Mrs. John Bradley (Florence Briggs Th...</td>\n",
       "      <td>female</td>\n",
       "      <td>38.0</td>\n",
       "      <td>1</td>\n",
       "      <td>0</td>\n",
       "      <td>PC 17599</td>\n",
       "      <td>71.2833</td>\n",
       "      <td>C85</td>\n",
       "      <td>C</td>\n",
       "    </tr>\n",
       "    <tr>\n",
       "      <th>2</th>\n",
       "      <td>3</td>\n",
       "      <td>1</td>\n",
       "      <td>3</td>\n",
       "      <td>Heikkinen, Miss. Laina</td>\n",
       "      <td>female</td>\n",
       "      <td>26.0</td>\n",
       "      <td>0</td>\n",
       "      <td>0</td>\n",
       "      <td>STON/O2. 3101282</td>\n",
       "      <td>7.9250</td>\n",
       "      <td>NaN</td>\n",
       "      <td>S</td>\n",
       "    </tr>\n",
       "    <tr>\n",
       "      <th>3</th>\n",
       "      <td>4</td>\n",
       "      <td>1</td>\n",
       "      <td>1</td>\n",
       "      <td>Futrelle, Mrs. Jacques Heath (Lily May Peel)</td>\n",
       "      <td>female</td>\n",
       "      <td>35.0</td>\n",
       "      <td>1</td>\n",
       "      <td>0</td>\n",
       "      <td>113803</td>\n",
       "      <td>53.1000</td>\n",
       "      <td>C123</td>\n",
       "      <td>S</td>\n",
       "    </tr>\n",
       "    <tr>\n",
       "      <th>4</th>\n",
       "      <td>5</td>\n",
       "      <td>0</td>\n",
       "      <td>3</td>\n",
       "      <td>Allen, Mr. William Henry</td>\n",
       "      <td>male</td>\n",
       "      <td>35.0</td>\n",
       "      <td>0</td>\n",
       "      <td>0</td>\n",
       "      <td>373450</td>\n",
       "      <td>8.0500</td>\n",
       "      <td>NaN</td>\n",
       "      <td>S</td>\n",
       "    </tr>\n",
       "  </tbody>\n",
       "</table>\n",
       "</div>"
      ],
      "text/plain": [
       "   PassengerId  Survived  Pclass  \\\n",
       "0            1         0       3   \n",
       "1            2         1       1   \n",
       "2            3         1       3   \n",
       "3            4         1       1   \n",
       "4            5         0       3   \n",
       "\n",
       "                                                Name     Sex   Age  SibSp  \\\n",
       "0                            Braund, Mr. Owen Harris    male  22.0      1   \n",
       "1  Cumings, Mrs. John Bradley (Florence Briggs Th...  female  38.0      1   \n",
       "2                             Heikkinen, Miss. Laina  female  26.0      0   \n",
       "3       Futrelle, Mrs. Jacques Heath (Lily May Peel)  female  35.0      1   \n",
       "4                           Allen, Mr. William Henry    male  35.0      0   \n",
       "\n",
       "   Parch            Ticket     Fare Cabin Embarked  \n",
       "0      0         A/5 21171   7.2500   NaN        S  \n",
       "1      0          PC 17599  71.2833   C85        C  \n",
       "2      0  STON/O2. 3101282   7.9250   NaN        S  \n",
       "3      0            113803  53.1000  C123        S  \n",
       "4      0            373450   8.0500   NaN        S  "
      ]
     },
     "execution_count": 3,
     "metadata": {},
     "output_type": "execute_result"
    }
   ],
   "source": [
    "dataset_train.head(5)"
   ]
  },
  {
   "cell_type": "code",
   "execution_count": 4,
   "metadata": {},
   "outputs": [
    {
     "name": "stdout",
     "output_type": "stream",
     "text": [
      "<class 'pandas.core.frame.DataFrame'>\n",
      "RangeIndex: 891 entries, 0 to 890\n",
      "Data columns (total 12 columns):\n",
      "PassengerId    891 non-null int64\n",
      "Survived       891 non-null int64\n",
      "Pclass         891 non-null int64\n",
      "Name           891 non-null object\n",
      "Sex            891 non-null object\n",
      "Age            714 non-null float64\n",
      "SibSp          891 non-null int64\n",
      "Parch          891 non-null int64\n",
      "Ticket         891 non-null object\n",
      "Fare           891 non-null float64\n",
      "Cabin          204 non-null object\n",
      "Embarked       889 non-null object\n",
      "dtypes: float64(2), int64(5), object(5)\n",
      "memory usage: 83.6+ KB\n",
      "________________________________________\n",
      "<class 'pandas.core.frame.DataFrame'>\n",
      "RangeIndex: 418 entries, 0 to 417\n",
      "Data columns (total 11 columns):\n",
      "PassengerId    418 non-null int64\n",
      "Pclass         418 non-null int64\n",
      "Name           418 non-null object\n",
      "Sex            418 non-null object\n",
      "Age            332 non-null float64\n",
      "SibSp          418 non-null int64\n",
      "Parch          418 non-null int64\n",
      "Ticket         418 non-null object\n",
      "Fare           417 non-null float64\n",
      "Cabin          91 non-null object\n",
      "Embarked       418 non-null object\n",
      "dtypes: float64(2), int64(4), object(5)\n",
      "memory usage: 36.0+ KB\n"
     ]
    }
   ],
   "source": [
    "dataset_train.info()\n",
    "print('_'*40)\n",
    "dataset_test.info()"
   ]
  },
  {
   "cell_type": "markdown",
   "metadata": {},
   "source": [
    "<b>NOTE:</b> Let's use \"Missingno\" package, which is a most useful and convenient tool in visualising missing values in the dataset."
   ]
  },
  {
   "cell_type": "code",
   "execution_count": 5,
   "metadata": {},
   "outputs": [
    {
     "data": {
      "image/png": "[encoded data removed]",
      "text/plain": [
       "<matplotlib.figure.Figure at 0xd7fdd2ce10>"
      ]
     },
     "metadata": {},
     "output_type": "display_data"
    }
   ],
   "source": [
    "msno.matrix(df=dataset_train, figsize=(15, 5), color=(255/255, 83/255, 51/255))"
   ]
  },
  {
   "cell_type": "code",
   "execution_count": 6,
   "metadata": {},
   "outputs": [
    {
     "data": {
      "image/png": "[encoded data removed]",
      "text/plain": [
       "<matplotlib.figure.Figure at 0xd7fdcb2a90>"
      ]
     },
     "metadata": {},
     "output_type": "display_data"
    }
   ],
   "source": [
    "msno.matrix(df=dataset_test, figsize=(15, 5), color=(255/255, 83/255, 51/255))"
   ]
  },
  {
   "cell_type": "markdown",
   "metadata": {},
   "source": [
    "<b>NOTE:</b> Right away we see that data set contains columns that require correcting. Cabin and Age features are incomplete. Moreover five features are strings and aren't really useful in current form. Our job is to preprocess data and extract from those columns essential informations."
   ]
  },
  {
   "cell_type": "markdown",
   "metadata": {},
   "source": [
    "### 2.3. Data preprocessing and feature engineering\n",
    "<a id=\"data_preprocessing_and_feature_engineering\"></a>"
   ]
  },
  {
   "cell_type": "markdown",
   "metadata": {},
   "source": [
    "<b>NOTE:</b> This part of script is based on <a href=\"https://www.kaggle.com/sinakhorami/titanic-best-working-classifier\">Titanic best working Classifier</a> by Sina."
   ]
  },
  {
   "cell_type": "markdown",
   "metadata": {},
   "source": [
    "### 2.3.1. Pclass\n",
    "<a id=\"pclass\"></a>"
   ]
  },
  {
   "cell_type": "markdown",
   "metadata": {},
   "source": [
    "<b>NOTE:</b> There are no missing values on this feature and it is already a numerical value. Let's check it's impact on our train set:"
   ]
  },
  {
   "cell_type": "code",
   "execution_count": 7,
   "metadata": {},
   "outputs": [
    {
     "name": "stdout",
     "output_type": "stream",
     "text": [
      "   Pclass  Survived\n",
      "0       1  0.629630\n",
      "1       2  0.472826\n",
      "2       3  0.242363\n"
     ]
    }
   ],
   "source": [
    "print (dataset_train[['Pclass', 'Survived']].groupby(['Pclass'], as_index=False).mean())"
   ]
  },
  {
   "cell_type": "code",
   "execution_count": 8,
   "metadata": {},
   "outputs": [
    {
     "data": {
      "application/vnd.plotly.v1+json": {
       "data": [
        {
         "marker": {
          "color": "rgba(55, 128, 191, 0.7)",
          "line": {
           "color": "rgba(55, 128, 191, 1.0)",
           "width": 2
          }
         },
         "name": "Survived",
         "type": "bar",
         "x": [
          "First",
          "Second",
          "Third"
         ],
         "y": [
          136,
          87,
          119
         ]
        },
        {
         "marker": {
          "color": "rgba(219, 64, 82, 0.7)",
          "line": {
           "color": "rgba(219, 64, 82, 1.0)",
           "width": 2
          }
         },
         "name": "Drowned",
         "type": "bar",
         "x": [
          "First",
          "Second",
          "Third"
         ],
         "y": [
          80,
          97,
          372
         ]
        }
       ],
       "layout": {
        "barmode": "stack",
        "height": 500,
        "paper_bgcolor": "rgb(243, 243, 243)",
        "plot_bgcolor": "rgb(243, 243, 243)",
        "title": "Survival vs Class",
        "width": 1000,
        "xaxis": {
         "title": "Class"
        },
        "yaxis": {
         "title": "Number of passengers"
        }
       }
      },
      "text/html": [
       "<div id=\"99225143-5449-4cff-8e18-55a1bc712e7a\" style=\"height: 500px; width: 1000px;\" class=\"plotly-graph-div\"></div><script type=\"text/javascript\">require([\"plotly\"], function(Plotly) { window.PLOTLYENV=window.PLOTLYENV || {};window.PLOTLYENV.BASE_URL=\"https://plot.ly\";Plotly.newPlot(\"99225143-5449-4cff-8e18-55a1bc712e7a\", [{\"type\": \"bar\", \"x\": [\"First\", \"Second\", \"Third\"], \"y\": [136, 87, 119], \"name\": \"Survived\", \"marker\": {\"color\": \"rgba(55, 128, 191, 0.7)\", \"line\": {\"color\": \"rgba(55, 128, 191, 1.0)\", \"width\": 2}}}, {\"type\": \"bar\", \"x\": [\"First\", \"Second\", \"Third\"], \"y\": [80, 97, 372], \"name\": \"Drowned\", \"marker\": {\"color\": \"rgba(219, 64, 82, 0.7)\", \"line\": {\"color\": \"rgba(219, 64, 82, 1.0)\", \"width\": 2}}}], {\"barmode\": \"stack\", \"title\": \"Survival vs Class\", \"width\": 1000, \"height\": 500, \"paper_bgcolor\": \"rgb(243, 243, 243)\", \"plot_bgcolor\": \"rgb(243, 243, 243)\", \"yaxis\": {\"title\": \"Number of passengers\"}, \"xaxis\": {\"title\": \"Class\"}}, {\"showLink\": true, \"linkText\": \"Export to plot.ly\"})});</script>"
      ],
      "text/vnd.plotly.v1+html": [
       "<div id=\"99225143-5449-4cff-8e18-55a1bc712e7a\" style=\"height: 500px; width: 1000px;\" class=\"plotly-graph-div\"></div><script type=\"text/javascript\">require([\"plotly\"], function(Plotly) { window.PLOTLYENV=window.PLOTLYENV || {};window.PLOTLYENV.BASE_URL=\"https://plot.ly\";Plotly.newPlot(\"99225143-5449-4cff-8e18-55a1bc712e7a\", [{\"type\": \"bar\", \"x\": [\"First\", \"Second\", \"Third\"], \"y\": [136, 87, 119], \"name\": \"Survived\", \"marker\": {\"color\": \"rgba(55, 128, 191, 0.7)\", \"line\": {\"color\": \"rgba(55, 128, 191, 1.0)\", \"width\": 2}}}, {\"type\": \"bar\", \"x\": [\"First\", \"Second\", \"Third\"], \"y\": [80, 97, 372], \"name\": \"Drowned\", \"marker\": {\"color\": \"rgba(219, 64, 82, 0.7)\", \"line\": {\"color\": \"rgba(219, 64, 82, 1.0)\", \"width\": 2}}}], {\"barmode\": \"stack\", \"title\": \"Survival vs Class\", \"width\": 1000, \"height\": 500, \"paper_bgcolor\": \"rgb(243, 243, 243)\", \"plot_bgcolor\": \"rgb(243, 243, 243)\", \"yaxis\": {\"title\": \"Number of passengers\"}, \"xaxis\": {\"title\": \"Class\"}}, {\"showLink\": true, \"linkText\": \"Export to plot.ly\"})});</script>"
      ]
     },
     "metadata": {},
     "output_type": "display_data"
    }
   ],
   "source": [
    "passengers_by_class = dataset_train[['Pclass', 'Survived']].groupby(['Pclass']).count()\n",
    "passengers_by_class_sur = dataset_train[['Pclass', 'Survived']].groupby(['Pclass']).sum()\n",
    "\n",
    "trace1 = go.Bar(\n",
    "    x = ['First', 'Second', 'Third'],\n",
    "    y = passengers_by_class_sur['Survived'].tolist(),\n",
    "    name='Survived',\n",
    "    marker=dict(\n",
    "        color='rgba(55, 128, 191, 0.7)',\n",
    "        line=dict(\n",
    "            color='rgba(55, 128, 191, 1.0)',\n",
    "            width=2,\n",
    "        )\n",
    "    )\n",
    ")\n",
    "trace2 = go.Bar(\n",
    "    x = ['First', 'Second', 'Third'],\n",
    "    y = (passengers_by_class['Survived'] - passengers_by_class_sur['Survived']).tolist(),\n",
    "    name='Drowned',\n",
    "    marker=dict(\n",
    "        color='rgba(219, 64, 82, 0.7)',\n",
    "        line=dict(\n",
    "            color='rgba(219, 64, 82, 1.0)',\n",
    "            width=2,\n",
    "        )\n",
    "    )\n",
    ")\n",
    "\n",
    "data = [trace1, trace2]\n",
    "layout = go.Layout(\n",
    "    barmode='stack',\n",
    "    title = 'Survival vs Class',\n",
    "    width=1000,\n",
    "    height=500,\n",
    "    paper_bgcolor='rgb(243, 243, 243)',\n",
    "    plot_bgcolor='rgb(243, 243, 243)',\n",
    "    yaxis = dict(title= 'Number of passengers'),\n",
    "    xaxis = dict(title= 'Class')\n",
    ")\n",
    "\n",
    "fig = go.Figure(data=data, layout=layout)\n",
    "py.iplot(fig)"
   ]
  },
  {
   "cell_type": "markdown",
   "metadata": {},
   "source": [
    "### 2.3.2. Sex\n",
    "<a id=\"sex\"></a>"
   ]
  },
  {
   "cell_type": "markdown",
   "metadata": {},
   "source": [
    "<b>NOTE:</b> This feature is also complete but this time it is not a numerical value. We will need to conduct feature mapping."
   ]
  },
  {
   "cell_type": "code",
   "execution_count": 9,
   "metadata": {
    "collapsed": true
   },
   "outputs": [],
   "source": [
    "for dataset in full_data:\n",
    "    dataset['Sex'] = dataset['Sex'].map( {'female': 0, 'male': 1} ).astype(int)"
   ]
  },
  {
   "cell_type": "code",
   "execution_count": 10,
   "metadata": {},
   "outputs": [
    {
     "name": "stdout",
     "output_type": "stream",
     "text": [
      "   Sex  Survived\n",
      "0    0  0.742038\n",
      "1    1  0.188908\n"
     ]
    }
   ],
   "source": [
    "print (dataset_train[[\"Sex\", \"Survived\"]].groupby(['Sex'], as_index=False).mean())"
   ]
  },
  {
   "cell_type": "code",
   "execution_count": 11,
   "metadata": {},
   "outputs": [
    {
     "data": {
      "application/vnd.plotly.v1+json": {
       "data": [
        {
         "marker": {
          "color": "rgba(55, 128, 191, 0.7)",
          "line": {
           "color": "rgba(55, 128, 191, 1.0)",
           "width": 2
          }
         },
         "name": "Survived",
         "type": "bar",
         "x": [
          "Femail",
          "Mail"
         ],
         "y": [
          233,
          109
         ]
        },
        {
         "marker": {
          "color": "rgba(219, 64, 82, 0.7)",
          "line": {
           "color": "rgba(219, 64, 82, 1.0)",
           "width": 2
          }
         },
         "name": "Drowned",
         "type": "bar",
         "x": [
          "Femail",
          "Mail"
         ],
         "y": [
          81,
          468
         ]
        }
       ],
       "layout": {
        "barmode": "stack",
        "height": 500,
        "paper_bgcolor": "rgb(243, 243, 243)",
        "plot_bgcolor": "rgb(243, 243, 243)",
        "title": "Survival vs Sex",
        "width": 1000,
        "xaxis": {
         "title": "Sex"
        },
        "yaxis": {
         "title": "Number of passengers"
        }
       }
      },
      "text/html": [
       "<div id=\"e759105f-b924-4970-9847-81f7194a331b\" style=\"height: 500px; width: 1000px;\" class=\"plotly-graph-div\"></div><script type=\"text/javascript\">require([\"plotly\"], function(Plotly) { window.PLOTLYENV=window.PLOTLYENV || {};window.PLOTLYENV.BASE_URL=\"https://plot.ly\";Plotly.newPlot(\"e759105f-b924-4970-9847-81f7194a331b\", [{\"type\": \"bar\", \"x\": [\"Femail\", \"Mail\"], \"y\": [233, 109], \"name\": \"Survived\", \"marker\": {\"color\": \"rgba(55, 128, 191, 0.7)\", \"line\": {\"color\": \"rgba(55, 128, 191, 1.0)\", \"width\": 2}}}, {\"type\": \"bar\", \"x\": [\"Femail\", \"Mail\"], \"y\": [81, 468], \"name\": \"Drowned\", \"marker\": {\"color\": \"rgba(219, 64, 82, 0.7)\", \"line\": {\"color\": \"rgba(219, 64, 82, 1.0)\", \"width\": 2}}}], {\"barmode\": \"stack\", \"title\": \"Survival vs Sex\", \"width\": 1000, \"height\": 500, \"paper_bgcolor\": \"rgb(243, 243, 243)\", \"plot_bgcolor\": \"rgb(243, 243, 243)\", \"yaxis\": {\"title\": \"Number of passengers\"}, \"xaxis\": {\"title\": \"Sex\"}}, {\"showLink\": true, \"linkText\": \"Export to plot.ly\"})});</script>"
      ],
      "text/vnd.plotly.v1+html": [
       "<div id=\"e759105f-b924-4970-9847-81f7194a331b\" style=\"height: 500px; width: 1000px;\" class=\"plotly-graph-div\"></div><script type=\"text/javascript\">require([\"plotly\"], function(Plotly) { window.PLOTLYENV=window.PLOTLYENV || {};window.PLOTLYENV.BASE_URL=\"https://plot.ly\";Plotly.newPlot(\"e759105f-b924-4970-9847-81f7194a331b\", [{\"type\": \"bar\", \"x\": [\"Femail\", \"Mail\"], \"y\": [233, 109], \"name\": \"Survived\", \"marker\": {\"color\": \"rgba(55, 128, 191, 0.7)\", \"line\": {\"color\": \"rgba(55, 128, 191, 1.0)\", \"width\": 2}}}, {\"type\": \"bar\", \"x\": [\"Femail\", \"Mail\"], \"y\": [81, 468], \"name\": \"Drowned\", \"marker\": {\"color\": \"rgba(219, 64, 82, 0.7)\", \"line\": {\"color\": \"rgba(219, 64, 82, 1.0)\", \"width\": 2}}}], {\"barmode\": \"stack\", \"title\": \"Survival vs Sex\", \"width\": 1000, \"height\": 500, \"paper_bgcolor\": \"rgb(243, 243, 243)\", \"plot_bgcolor\": \"rgb(243, 243, 243)\", \"yaxis\": {\"title\": \"Number of passengers\"}, \"xaxis\": {\"title\": \"Sex\"}}, {\"showLink\": true, \"linkText\": \"Export to plot.ly\"})});</script>"
      ]
     },
     "metadata": {},
     "output_type": "display_data"
    }
   ],
   "source": [
    "passengers_by_sex = dataset_train[['Sex', 'Survived']].groupby(['Sex']).count()\n",
    "passengers_by_sex_sur = dataset_train[['Sex', 'Survived']].groupby(['Sex']).sum()\n",
    "\n",
    "trace1 = go.Bar(\n",
    "    x = ['Femail', 'Mail'],\n",
    "    y = passengers_by_sex_sur['Survived'].tolist(),\n",
    "    name='Survived',\n",
    "    marker=dict(\n",
    "        color='rgba(55, 128, 191, 0.7)',\n",
    "        line=dict(\n",
    "            color='rgba(55, 128, 191, 1.0)',\n",
    "            width=2,\n",
    "        )\n",
    "    )\n",
    ")\n",
    "trace2 = go.Bar(\n",
    "    x = ['Femail', 'Mail'],\n",
    "    y = (passengers_by_sex['Survived'] - passengers_by_sex_sur['Survived']).tolist(),\n",
    "    name='Drowned',\n",
    "    marker=dict(\n",
    "        color='rgba(219, 64, 82, 0.7)',\n",
    "        line=dict(\n",
    "            color='rgba(219, 64, 82, 1.0)',\n",
    "            width=2,\n",
    "        )\n",
    "    )\n",
    ")\n",
    "\n",
    "data = [trace1, trace2]\n",
    "layout = go.Layout(\n",
    "    barmode='stack',\n",
    "    title = 'Survival vs Sex',\n",
    "    width=1000,\n",
    "    height=500,\n",
    "    paper_bgcolor='rgb(243, 243, 243)',\n",
    "    plot_bgcolor='rgb(243, 243, 243)',\n",
    "    yaxis = dict(title= 'Number of passengers'),\n",
    "    xaxis = dict(title= 'Sex')\n",
    ")\n",
    "\n",
    "fig = go.Figure(data=data, layout=layout)\n",
    "py.iplot(fig)"
   ]
  },
  {
   "cell_type": "markdown",
   "metadata": {},
   "source": [
    "### 2.3.3. Family Size\n",
    "<a id=\"family_size\"></a>"
   ]
  },
  {
   "cell_type": "markdown",
   "metadata": {},
   "source": [
    "<b>NOTE:</b> Using the number of siblings/spouse and the number of children/parents we can create new feature called Family Size."
   ]
  },
  {
   "cell_type": "code",
   "execution_count": 12,
   "metadata": {},
   "outputs": [
    {
     "name": "stdout",
     "output_type": "stream",
     "text": [
      "   FamilySize  Survived\n",
      "0           1  0.303538\n",
      "1           2  0.552795\n",
      "2           3  0.578431\n",
      "3           4  0.724138\n",
      "4           5  0.200000\n",
      "5           6  0.136364\n",
      "6           7  0.333333\n",
      "7           8  0.000000\n",
      "8          11  0.000000\n"
     ]
    }
   ],
   "source": [
    "for dataset in full_data:\n",
    "    dataset['FamilySize'] = dataset['SibSp'] + dataset['Parch'] + 1\n",
    "print (dataset_train[['FamilySize', 'Survived']].groupby(['FamilySize'], as_index=False).mean())"
   ]
  },
  {
   "cell_type": "code",
   "execution_count": 13,
   "metadata": {},
   "outputs": [
    {
     "data": {
      "application/vnd.plotly.v1+json": {
       "data": [
        {
         "marker": {
          "color": "rgba(55, 128, 191, 0.7)",
          "line": {
           "color": "rgba(55, 128, 191, 1.0)",
           "width": 2
          }
         },
         "name": "Survived",
         "type": "bar",
         "x": [
          1,
          2,
          3,
          4,
          5,
          6,
          7,
          8,
          11
         ],
         "y": [
          163,
          89,
          59,
          21,
          3,
          3,
          4,
          0,
          0
         ]
        },
        {
         "marker": {
          "color": "rgba(219, 64, 82, 0.7)",
          "line": {
           "color": "rgba(219, 64, 82, 1.0)",
           "width": 2
          }
         },
         "name": "Drowned",
         "type": "bar",
         "x": [
          1,
          2,
          3,
          4,
          5,
          6,
          7,
          8,
          11
         ],
         "y": [
          374,
          72,
          43,
          8,
          12,
          19,
          8,
          6,
          7
         ]
        },
        {
         "mode": "lines+markers",
         "name": "Survival %",
         "type": "scatter",
         "x": [
          1,
          2,
          3,
          4,
          5,
          6,
          7,
          8,
          11
         ],
         "y": [
          30.353817504655492,
          55.27950310559006,
          57.84313725490196,
          72.41379310344827,
          20,
          13.636363636363637,
          33.333333333333336,
          0,
          0
         ],
         "yaxis": "y2"
        }
       ],
       "layout": {
        "barmode": "group",
        "height": 600,
        "paper_bgcolor": "rgb(243, 243, 243)",
        "plot_bgcolor": "rgb(243, 243, 243)",
        "title": "Survival vs Size of Family",
        "width": 1000,
        "xaxis": {
         "title": "Size of Family"
        },
        "yaxis": {
         "anchor": "x",
         "rangemode": "tozero",
         "title": "Number of passengers"
        },
        "yaxis2": {
         "anchor": "x",
         "dtick": 9.8,
         "overlaying": "y",
         "rangemode": "tozero",
         "side": "right",
         "tickfont": {
          "color": "rgb(148, 103, 189)"
         },
         "title": "Survival %",
         "titlefont": {
          "color": "rgb(148, 103, 189)"
         }
        }
       }
      },
      "text/html": [
       "<div id=\"ff5ae36f-b66f-4e14-a031-6654e17b7366\" style=\"height: 600px; width: 1000px;\" class=\"plotly-graph-div\"></div><script type=\"text/javascript\">require([\"plotly\"], function(Plotly) { window.PLOTLYENV=window.PLOTLYENV || {};window.PLOTLYENV.BASE_URL=\"https://plot.ly\";Plotly.newPlot(\"ff5ae36f-b66f-4e14-a031-6654e17b7366\", [{\"type\": \"bar\", \"x\": [1, 2, 3, 4, 5, 6, 7, 8, 11], \"y\": [163, 89, 59, 21, 3, 3, 4, 0, 0], \"name\": \"Survived\", \"marker\": {\"color\": \"rgba(55, 128, 191, 0.7)\", \"line\": {\"color\": \"rgba(55, 128, 191, 1.0)\", \"width\": 2}}}, {\"type\": \"bar\", \"x\": [1, 2, 3, 4, 5, 6, 7, 8, 11], \"y\": [374, 72, 43, 8, 12, 19, 8, 6, 7], \"name\": \"Drowned\", \"marker\": {\"color\": \"rgba(219, 64, 82, 0.7)\", \"line\": {\"color\": \"rgba(219, 64, 82, 1.0)\", \"width\": 2}}}, {\"type\": \"scatter\", \"x\": [1, 2, 3, 4, 5, 6, 7, 8, 11], \"y\": [30.353817504655492, 55.27950310559006, 57.84313725490196, 72.41379310344827, 20.0, 13.636363636363637, 33.333333333333336, 0.0, 0.0], \"name\": \"Survival %\", \"mode\": \"lines+markers\", \"yaxis\": \"y2\"}], {\"barmode\": \"group\", \"title\": \"Survival vs Size of Family\", \"width\": 1000, \"height\": 600, \"paper_bgcolor\": \"rgb(243, 243, 243)\", \"plot_bgcolor\": \"rgb(243, 243, 243)\", \"yaxis\": {\"title\": \"Number of passengers\", \"anchor\": \"x\", \"rangemode\": \"tozero\"}, \"xaxis\": {\"title\": \"Size of Family\"}, \"yaxis2\": {\"title\": \"Survival %\", \"titlefont\": {\"color\": \"rgb(148, 103, 189)\"}, \"tickfont\": {\"color\": \"rgb(148, 103, 189)\"}, \"overlaying\": \"y\", \"side\": \"right\", \"anchor\": \"x\", \"rangemode\": \"tozero\", \"dtick\": 9.8}}, {\"showLink\": true, \"linkText\": \"Export to plot.ly\"})});</script>"
      ],
      "text/vnd.plotly.v1+html": [
       "<div id=\"ff5ae36f-b66f-4e14-a031-6654e17b7366\" style=\"height: 600px; width: 1000px;\" class=\"plotly-graph-div\"></div><script type=\"text/javascript\">require([\"plotly\"], function(Plotly) { window.PLOTLYENV=window.PLOTLYENV || {};window.PLOTLYENV.BASE_URL=\"https://plot.ly\";Plotly.newPlot(\"ff5ae36f-b66f-4e14-a031-6654e17b7366\", [{\"type\": \"bar\", \"x\": [1, 2, 3, 4, 5, 6, 7, 8, 11], \"y\": [163, 89, 59, 21, 3, 3, 4, 0, 0], \"name\": \"Survived\", \"marker\": {\"color\": \"rgba(55, 128, 191, 0.7)\", \"line\": {\"color\": \"rgba(55, 128, 191, 1.0)\", \"width\": 2}}}, {\"type\": \"bar\", \"x\": [1, 2, 3, 4, 5, 6, 7, 8, 11], \"y\": [374, 72, 43, 8, 12, 19, 8, 6, 7], \"name\": \"Drowned\", \"marker\": {\"color\": \"rgba(219, 64, 82, 0.7)\", \"line\": {\"color\": \"rgba(219, 64, 82, 1.0)\", \"width\": 2}}}, {\"type\": \"scatter\", \"x\": [1, 2, 3, 4, 5, 6, 7, 8, 11], \"y\": [30.353817504655492, 55.27950310559006, 57.84313725490196, 72.41379310344827, 20.0, 13.636363636363637, 33.333333333333336, 0.0, 0.0], \"name\": \"Survival %\", \"mode\": \"lines+markers\", \"yaxis\": \"y2\"}], {\"barmode\": \"group\", \"title\": \"Survival vs Size of Family\", \"width\": 1000, \"height\": 600, \"paper_bgcolor\": \"rgb(243, 243, 243)\", \"plot_bgcolor\": \"rgb(243, 243, 243)\", \"yaxis\": {\"title\": \"Number of passengers\", \"anchor\": \"x\", \"rangemode\": \"tozero\"}, \"xaxis\": {\"title\": \"Size of Family\"}, \"yaxis2\": {\"title\": \"Survival %\", \"titlefont\": {\"color\": \"rgb(148, 103, 189)\"}, \"tickfont\": {\"color\": \"rgb(148, 103, 189)\"}, \"overlaying\": \"y\", \"side\": \"right\", \"anchor\": \"x\", \"rangemode\": \"tozero\", \"dtick\": 9.8}}, {\"showLink\": true, \"linkText\": \"Export to plot.ly\"})});</script>"
      ]
     },
     "metadata": {},
     "output_type": "display_data"
    }
   ],
   "source": [
    "family_labels = dataset_train.sort_values(\"FamilySize\")[\"FamilySize\"].unique()\n",
    "family = dataset_train[['FamilySize', 'Survived']].groupby(['FamilySize']).count()\n",
    "family_sur = dataset_train[['FamilySize', 'Survived']].groupby(['FamilySize']).sum()\n",
    "\n",
    "trace1 = go.Bar(\n",
    "    x = family_labels.tolist(),\n",
    "    y = family_sur['Survived'].tolist(),\n",
    "    name='Survived',\n",
    "    marker=dict(\n",
    "        color='rgba(55, 128, 191, 0.7)',\n",
    "        line=dict(\n",
    "            color='rgba(55, 128, 191, 1.0)',\n",
    "            width=2,\n",
    "        )\n",
    "    )\n",
    ")\n",
    "trace2 = go.Bar(\n",
    "    x = family_labels.tolist(),\n",
    "    y = (family['Survived'] - family_sur['Survived']).tolist(),\n",
    "    name='Drowned',\n",
    "    marker=dict(\n",
    "        color='rgba(219, 64, 82, 0.7)',\n",
    "        line=dict(\n",
    "            color='rgba(219, 64, 82, 1.0)',\n",
    "            width=2,\n",
    "        )\n",
    "    )\n",
    ")\n",
    "\n",
    "trace3 = go.Scatter(\n",
    "    x = family_labels.tolist(),\n",
    "    y = (family_sur['Survived'] * 100 / family['Survived']).tolist(),\n",
    "    name='Survival %',\n",
    "    mode = 'lines+markers',\n",
    "    yaxis='y2'\n",
    ")\n",
    "\n",
    "data = [trace1, trace2, trace3]\n",
    "layout = go.Layout(\n",
    "    barmode='group',\n",
    "    title = 'Survival vs Size of Family',\n",
    "    width=1000,\n",
    "    height=600,\n",
    "    paper_bgcolor='rgb(243, 243, 243)',\n",
    "    plot_bgcolor='rgb(243, 243, 243)',\n",
    "    yaxis = dict(\n",
    "        title= 'Number of passengers',\n",
    "        anchor = 'x',\n",
    "        rangemode='tozero'\n",
    "    ),\n",
    "    xaxis = dict(title= 'Size of Family'),\n",
    "    \n",
    "    yaxis2=dict(\n",
    "        title='Survival %',\n",
    "        titlefont=dict(\n",
    "            color='rgb(148, 103, 189)'\n",
    "        ),\n",
    "        tickfont=dict(\n",
    "            color='rgb(148, 103, 189)'\n",
    "        ),\n",
    "        overlaying='y',\n",
    "        side='right',\n",
    "        anchor = 'x',\n",
    "        rangemode = 'tozero',\n",
    "        dtick = 9.8\n",
    "    )\n",
    ")\n",
    "\n",
    "fig = go.Figure(data=data, layout=layout)\n",
    "py.iplot(fig)"
   ]
  },
  {
   "cell_type": "markdown",
   "metadata": {},
   "source": [
    "<b>NOTE:</b> It seems that new feature has a good effect on our prediction, but let's go further and categorize people to check whether they are alone in this ship or not."
   ]
  },
  {
   "cell_type": "code",
   "execution_count": 14,
   "metadata": {},
   "outputs": [
    {
     "name": "stdout",
     "output_type": "stream",
     "text": [
      "   IsAlone  Survived\n",
      "0        0  0.505650\n",
      "1        1  0.303538\n"
     ]
    }
   ],
   "source": [
    "for dataset in full_data:\n",
    "    dataset['IsAlone'] = 0\n",
    "    dataset.loc[dataset['FamilySize'] == 1, 'IsAlone'] = 1\n",
    "print (dataset_train[['IsAlone', 'Survived']].groupby(['IsAlone'], as_index=False).mean())"
   ]
  },
  {
   "cell_type": "markdown",
   "metadata": {},
   "source": [
    "### 2.3.4. Embarked\n",
    "<a id=\"embarked\"></a>"
   ]
  },
  {
   "cell_type": "markdown",
   "metadata": {},
   "source": [
    "<b>NOTE:</b> The embarked feature contains information about port of embarkation, unfortunately it has some missing values. We try to fill those with the most occurred value ( 'S' ). Next we will map string values into numeric ones."
   ]
  },
  {
   "cell_type": "code",
   "execution_count": 15,
   "metadata": {},
   "outputs": [
    {
     "name": "stdout",
     "output_type": "stream",
     "text": [
      "   Embarked  Survived\n",
      "0         0  0.339009\n",
      "1         1  0.553571\n",
      "2         2  0.389610\n"
     ]
    }
   ],
   "source": [
    "for dataset in full_data:\n",
    "    # Filling missing values with most occurred one\n",
    "    dataset['Embarked'] = dataset['Embarked'].fillna('S')\n",
    "    \n",
    "    # Mapping Embarked\n",
    "    dataset['Embarked'] = dataset['Embarked'].map( {'S': 0, 'C': 1, 'Q': 2} ).astype(int)\n",
    "    \n",
    "print (dataset_train[['Embarked', 'Survived']].groupby(['Embarked'], as_index=False).mean())"
   ]
  },
  {
   "cell_type": "markdown",
   "metadata": {},
   "source": [
    "### 2.3.5. Fare\n",
    "<a id=\"fare\"></a>"
   ]
  },
  {
   "cell_type": "markdown",
   "metadata": {},
   "source": [
    "<b>NOTE:</b> Fare feature also has some missing value. We replace those values with the median, then we categorize it into 4 ranges and map them into numerical categories."
   ]
  },
  {
   "cell_type": "code",
   "execution_count": 16,
   "metadata": {},
   "outputs": [
    {
     "name": "stdout",
     "output_type": "stream",
     "text": [
      "   Fare  Survived\n",
      "0     0  0.197309\n",
      "1     1  0.308756\n",
      "2     2  0.445415\n",
      "3     3  0.581081\n"
     ]
    }
   ],
   "source": [
    "for dataset in full_data:\n",
    "    # Fill NA/NaN values using the specified method\n",
    "    dataset['Fare'] = dataset['Fare'].fillna(dataset_train['Fare'].median())\n",
    "    dataset['CategoricalFare'] = pd.qcut(dataset_train['Fare'], 4)\n",
    "    \n",
    "    # Mapping Fare\n",
    "    dataset.loc[ dataset['Fare'] <= 7.91, 'Fare'] \t\t\t\t\t\t        = 0\n",
    "    dataset.loc[(dataset['Fare'] > 7.91) & (dataset['Fare'] <= 14.454), 'Fare'] = 1\n",
    "    dataset.loc[(dataset['Fare'] > 14.454) & (dataset['Fare'] <= 31), 'Fare']   = 2\n",
    "    dataset.loc[ dataset['Fare'] > 31, 'Fare'] \t\t\t\t\t\t\t        = 3\n",
    "    dataset['Fare'] = dataset['Fare'].astype(int)\n",
    "    \n",
    "print (dataset_train[['Fare', 'Survived']].groupby(['Fare'], as_index=False).mean())"
   ]
  },
  {
   "cell_type": "code",
   "execution_count": 17,
   "metadata": {},
   "outputs": [
    {
     "data": {
      "application/vnd.plotly.v1+json": {
       "data": [
        {
         "marker": {
          "color": "rgba(55, 128, 191, 0.7)",
          "line": {
           "color": "rgba(55, 128, 191, 1.0)",
           "width": 2
          }
         },
         "name": "Survived",
         "type": "bar",
         "x": [
          "Low",
          "Medium",
          "High",
          "Premium"
         ],
         "y": [
          44,
          67,
          102,
          129
         ]
        },
        {
         "marker": {
          "color": "rgba(219, 64, 82, 0.7)",
          "line": {
           "color": "rgba(219, 64, 82, 1.0)",
           "width": 2
          }
         },
         "name": "Drowned",
         "type": "bar",
         "x": [
          "Low",
          "Medium",
          "High",
          "Premium"
         ],
         "y": [
          179,
          150,
          127,
          93
         ]
        }
       ],
       "layout": {
        "barmode": "stack",
        "height": 500,
        "paper_bgcolor": "rgb(243, 243, 243)",
        "plot_bgcolor": "rgb(243, 243, 243)",
        "title": "Survival vs Fare",
        "width": 1000,
        "xaxis": {
         "title": "Fare"
        },
        "yaxis": {
         "title": "Number of passengers"
        }
       }
      },
      "text/html": [
       "<div id=\"22c4b992-4886-4068-950d-13f8d7721647\" style=\"height: 500px; width: 1000px;\" class=\"plotly-graph-div\"></div><script type=\"text/javascript\">require([\"plotly\"], function(Plotly) { window.PLOTLYENV=window.PLOTLYENV || {};window.PLOTLYENV.BASE_URL=\"https://plot.ly\";Plotly.newPlot(\"22c4b992-4886-4068-950d-13f8d7721647\", [{\"type\": \"bar\", \"x\": [\"Low\", \"Medium\", \"High\", \"Premium\"], \"y\": [44, 67, 102, 129], \"name\": \"Survived\", \"marker\": {\"color\": \"rgba(55, 128, 191, 0.7)\", \"line\": {\"color\": \"rgba(55, 128, 191, 1.0)\", \"width\": 2}}}, {\"type\": \"bar\", \"x\": [\"Low\", \"Medium\", \"High\", \"Premium\"], \"y\": [179, 150, 127, 93], \"name\": \"Drowned\", \"marker\": {\"color\": \"rgba(219, 64, 82, 0.7)\", \"line\": {\"color\": \"rgba(219, 64, 82, 1.0)\", \"width\": 2}}}], {\"barmode\": \"stack\", \"title\": \"Survival vs Fare\", \"width\": 1000, \"height\": 500, \"paper_bgcolor\": \"rgb(243, 243, 243)\", \"plot_bgcolor\": \"rgb(243, 243, 243)\", \"yaxis\": {\"title\": \"Number of passengers\"}, \"xaxis\": {\"title\": \"Fare\"}}, {\"showLink\": true, \"linkText\": \"Export to plot.ly\"})});</script>"
      ],
      "text/vnd.plotly.v1+html": [
       "<div id=\"22c4b992-4886-4068-950d-13f8d7721647\" style=\"height: 500px; width: 1000px;\" class=\"plotly-graph-div\"></div><script type=\"text/javascript\">require([\"plotly\"], function(Plotly) { window.PLOTLYENV=window.PLOTLYENV || {};window.PLOTLYENV.BASE_URL=\"https://plot.ly\";Plotly.newPlot(\"22c4b992-4886-4068-950d-13f8d7721647\", [{\"type\": \"bar\", \"x\": [\"Low\", \"Medium\", \"High\", \"Premium\"], \"y\": [44, 67, 102, 129], \"name\": \"Survived\", \"marker\": {\"color\": \"rgba(55, 128, 191, 0.7)\", \"line\": {\"color\": \"rgba(55, 128, 191, 1.0)\", \"width\": 2}}}, {\"type\": \"bar\", \"x\": [\"Low\", \"Medium\", \"High\", \"Premium\"], \"y\": [179, 150, 127, 93], \"name\": \"Drowned\", \"marker\": {\"color\": \"rgba(219, 64, 82, 0.7)\", \"line\": {\"color\": \"rgba(219, 64, 82, 1.0)\", \"width\": 2}}}], {\"barmode\": \"stack\", \"title\": \"Survival vs Fare\", \"width\": 1000, \"height\": 500, \"paper_bgcolor\": \"rgb(243, 243, 243)\", \"plot_bgcolor\": \"rgb(243, 243, 243)\", \"yaxis\": {\"title\": \"Number of passengers\"}, \"xaxis\": {\"title\": \"Fare\"}}, {\"showLink\": true, \"linkText\": \"Export to plot.ly\"})});</script>"
      ]
     },
     "metadata": {},
     "output_type": "display_data"
    }
   ],
   "source": [
    "fare = dataset_train[['Fare', 'Survived']].groupby(['Fare']).count()\n",
    "fare_sur = dataset_train[['Fare', 'Survived']].groupby(['Fare']).sum()\n",
    "\n",
    "trace1 = go.Bar(\n",
    "    x = ['Low', 'Medium', 'High', 'Premium'],\n",
    "    y = fare_sur['Survived'].tolist(),\n",
    "    name='Survived',\n",
    "    marker=dict(\n",
    "        color='rgba(55, 128, 191, 0.7)',\n",
    "        line=dict(\n",
    "            color='rgba(55, 128, 191, 1.0)',\n",
    "            width=2,\n",
    "        )\n",
    "    )\n",
    ")\n",
    "trace2 = go.Bar(\n",
    "    x = ['Low', 'Medium', 'High', 'Premium'],\n",
    "    y = (fare['Survived'] - fare_sur['Survived']).tolist(),\n",
    "    name='Drowned',\n",
    "    marker=dict(\n",
    "        color='rgba(219, 64, 82, 0.7)',\n",
    "        line=dict(\n",
    "            color='rgba(219, 64, 82, 1.0)',\n",
    "            width=2,\n",
    "        )\n",
    "    )\n",
    ")\n",
    "\n",
    "data = [trace1, trace2]\n",
    "layout = go.Layout(\n",
    "    barmode='stack',\n",
    "    title = 'Survival vs Fare',\n",
    "    width=1000,\n",
    "    height=500,\n",
    "    paper_bgcolor='rgb(243, 243, 243)',\n",
    "    plot_bgcolor='rgb(243, 243, 243)',\n",
    "    yaxis = dict(title= 'Number of passengers'),\n",
    "    xaxis = dict(title= 'Fare')\n",
    ")\n",
    "\n",
    "fig = go.Figure(data=data, layout=layout)\n",
    "py.iplot(fig)"
   ]
  },
  {
   "cell_type": "markdown",
   "metadata": {},
   "source": [
    "### 2.3.6. Age\n",
    "<a id=\"age\"></a>"
   ]
  },
  {
   "cell_type": "markdown",
   "metadata": {},
   "source": [
    "<b>NOTE:</b> We have plenty of missing values in this feature. We fill blanks with random numbers between (mean - std) and (mean + std), then we categorize age into 5 range  and map them into numerical categories."
   ]
  },
  {
   "cell_type": "code",
   "execution_count": 18,
   "metadata": {},
   "outputs": [
    {
     "name": "stdout",
     "output_type": "stream",
     "text": [
      "  CategoricalAge  Survived\n",
      "0  (-0.08, 16.0]  0.508621\n",
      "1   (16.0, 32.0]  0.361364\n",
      "2   (32.0, 48.0]  0.364706\n",
      "3   (48.0, 64.0]  0.434783\n",
      "4   (64.0, 80.0]  0.090909\n"
     ]
    },
    {
     "name": "stderr",
     "output_type": "stream",
     "text": [
      "C:\\Users\\AFGHAN92\\Anaconda3\\lib\\site-packages\\ipykernel_launcher.py:7: SettingWithCopyWarning:\n",
      "\n",
      "\n",
      "A value is trying to be set on a copy of a slice from a DataFrame\n",
      "\n",
      "See the caveats in the documentation: http://pandas.pydata.org/pandas-docs/stable/indexing.html#indexing-view-versus-copy\n",
      "\n"
     ]
    }
   ],
   "source": [
    "for dataset in full_data:\n",
    "    age_avg \t   = dataset['Age'].mean()\n",
    "    age_std \t   = dataset['Age'].std()\n",
    "    age_null_count = dataset['Age'].isnull().sum()\n",
    "    \n",
    "    age_null_random_list = np.random.randint(age_avg - age_std, age_avg + age_std, size=age_null_count)\n",
    "    dataset['Age'][np.isnan(dataset['Age'])] = age_null_random_list\n",
    "    dataset['Age'] = dataset['Age'].astype(int)\n",
    "    \n",
    "    dataset['CategoricalAge'] = pd.cut(dataset_train['Age'], 5)\n",
    "    \n",
    "print (dataset_train[['CategoricalAge', 'Survived']].groupby(['CategoricalAge'], as_index=False).mean())"
   ]
  },
  {
   "cell_type": "code",
   "execution_count": 19,
   "metadata": {},
   "outputs": [
    {
     "data": {
      "image/png": "[encoded data removed]",
      "text/plain": [
       "<matplotlib.figure.Figure at 0xd782d49f98>"
      ]
     },
     "metadata": {},
     "output_type": "display_data"
    }
   ],
   "source": [
    "plt.figure(figsize=(16,8))\n",
    "sns.set_style(\"whitegrid\")\n",
    "plt.title('Age distribution', fontsize=20, fontweight='bold', y=1.05,)\n",
    "plt.xlabel('Number of people', fontsize=15)\n",
    "plt.ylabel('Age', fontsize=15)\n",
    "sns.countplot(x=\"Age\", data=dataset_test, palette=\"hls\");\n",
    "plt.show()"
   ]
  },
  {
   "cell_type": "code",
   "execution_count": 20,
   "metadata": {},
   "outputs": [],
   "source": [
    "for dataset in full_data:\n",
    "    # Mapping Age\n",
    "    dataset.loc[ dataset['Age'] <= 16, 'Age'] \t\t\t\t\t       = 0\n",
    "    dataset.loc[(dataset['Age'] > 16) & (dataset['Age'] <= 32), 'Age'] = 1\n",
    "    dataset.loc[(dataset['Age'] > 32) & (dataset['Age'] <= 48), 'Age'] = 2\n",
    "    dataset.loc[(dataset['Age'] > 48) & (dataset['Age'] <= 64), 'Age'] = 3\n",
    "    dataset.loc[ dataset['Age'] > 64, 'Age']                           = 4"
   ]
  },
  {
   "cell_type": "code",
   "execution_count": 21,
   "metadata": {},
   "outputs": [
    {
     "data": {
      "application/vnd.plotly.v1+json": {
       "data": [
        {
         "marker": {
          "color": "rgba(55, 128, 191, 0.7)",
          "line": {
           "color": "rgba(55, 128, 191, 1.0)",
           "width": 2
          }
         },
         "name": "Survived",
         "type": "bar",
         "x": [
          "[0 - 16]",
          "(16 - 32]",
          "(32 - 48]",
          "(48 - 64]",
          "(64 - ...]"
         ],
         "y": [
          59,
          159,
          93,
          30,
          1
         ]
        },
        {
         "marker": {
          "color": "rgba(219, 64, 82, 0.7)",
          "line": {
           "color": "rgba(219, 64, 82, 1.0)",
           "width": 2
          }
         },
         "name": "Drowned",
         "type": "bar",
         "x": [
          "[0 - 16]",
          "(16 - 32]",
          "(32 - 48]",
          "(48 - 64]",
          "(64 - ...]"
         ],
         "y": [
          57,
          281,
          162,
          39,
          10
         ]
        },
        {
         "mode": "lines+markers",
         "name": "Survival %",
         "type": "scatter",
         "x": [
          "[0 - 16]",
          "(16 - 32]",
          "(32 - 48]",
          "(48 - 64]",
          "(64 - ...]"
         ],
         "y": [
          50.86206896551724,
          36.13636363636363,
          36.470588235294116,
          43.47826086956522,
          9.090909090909092
         ],
         "yaxis": "y2"
        }
       ],
       "layout": {
        "barmode": "stack",
        "height": 500,
        "paper_bgcolor": "rgb(243, 243, 243)",
        "plot_bgcolor": "rgb(243, 243, 243)",
        "title": "Survival vs Age",
        "width": 1000,
        "xaxis": {
         "title": "Age"
        },
        "yaxis": {
         "title": "Number of passengers"
        },
        "yaxis2": {
         "anchor": "x",
         "dtick": 11.2,
         "overlaying": "y",
         "rangemode": "tozero",
         "side": "right",
         "tickfont": {
          "color": "rgb(148, 103, 189)"
         },
         "title": "Survival %",
         "titlefont": {
          "color": "rgb(148, 103, 189)"
         }
        }
       }
      },
      "text/html": [
       "<div id=\"d6fb9611-504a-4f92-8de3-a25c9836b3c3\" style=\"height: 500px; width: 1000px;\" class=\"plotly-graph-div\"></div><script type=\"text/javascript\">require([\"plotly\"], function(Plotly) { window.PLOTLYENV=window.PLOTLYENV || {};window.PLOTLYENV.BASE_URL=\"https://plot.ly\";Plotly.newPlot(\"d6fb9611-504a-4f92-8de3-a25c9836b3c3\", [{\"type\": \"bar\", \"x\": [\"[0 - 16]\", \"(16 - 32]\", \"(32 - 48]\", \"(48 - 64]\", \"(64 - ...]\"], \"y\": [59, 159, 93, 30, 1], \"name\": \"Survived\", \"marker\": {\"color\": \"rgba(55, 128, 191, 0.7)\", \"line\": {\"color\": \"rgba(55, 128, 191, 1.0)\", \"width\": 2}}}, {\"type\": \"bar\", \"x\": [\"[0 - 16]\", \"(16 - 32]\", \"(32 - 48]\", \"(48 - 64]\", \"(64 - ...]\"], \"y\": [57, 281, 162, 39, 10], \"name\": \"Drowned\", \"marker\": {\"color\": \"rgba(219, 64, 82, 0.7)\", \"line\": {\"color\": \"rgba(219, 64, 82, 1.0)\", \"width\": 2}}}, {\"type\": \"scatter\", \"x\": [\"[0 - 16]\", \"(16 - 32]\", \"(32 - 48]\", \"(48 - 64]\", \"(64 - ...]\"], \"y\": [50.86206896551724, 36.13636363636363, 36.470588235294116, 43.47826086956522, 9.090909090909092], \"name\": \"Survival %\", \"mode\": \"lines+markers\", \"yaxis\": \"y2\"}], {\"barmode\": \"stack\", \"title\": \"Survival vs Age\", \"width\": 1000, \"height\": 500, \"paper_bgcolor\": \"rgb(243, 243, 243)\", \"plot_bgcolor\": \"rgb(243, 243, 243)\", \"yaxis\": {\"title\": \"Number of passengers\"}, \"xaxis\": {\"title\": \"Age\"}, \"yaxis2\": {\"title\": \"Survival %\", \"titlefont\": {\"color\": \"rgb(148, 103, 189)\"}, \"tickfont\": {\"color\": \"rgb(148, 103, 189)\"}, \"overlaying\": \"y\", \"side\": \"right\", \"anchor\": \"x\", \"rangemode\": \"tozero\", \"dtick\": 11.2}}, {\"showLink\": true, \"linkText\": \"Export to plot.ly\"})});</script>"
      ],
      "text/vnd.plotly.v1+html": [
       "<div id=\"d6fb9611-504a-4f92-8de3-a25c9836b3c3\" style=\"height: 500px; width: 1000px;\" class=\"plotly-graph-div\"></div><script type=\"text/javascript\">require([\"plotly\"], function(Plotly) { window.PLOTLYENV=window.PLOTLYENV || {};window.PLOTLYENV.BASE_URL=\"https://plot.ly\";Plotly.newPlot(\"d6fb9611-504a-4f92-8de3-a25c9836b3c3\", [{\"type\": \"bar\", \"x\": [\"[0 - 16]\", \"(16 - 32]\", \"(32 - 48]\", \"(48 - 64]\", \"(64 - ...]\"], \"y\": [59, 159, 93, 30, 1], \"name\": \"Survived\", \"marker\": {\"color\": \"rgba(55, 128, 191, 0.7)\", \"line\": {\"color\": \"rgba(55, 128, 191, 1.0)\", \"width\": 2}}}, {\"type\": \"bar\", \"x\": [\"[0 - 16]\", \"(16 - 32]\", \"(32 - 48]\", \"(48 - 64]\", \"(64 - ...]\"], \"y\": [57, 281, 162, 39, 10], \"name\": \"Drowned\", \"marker\": {\"color\": \"rgba(219, 64, 82, 0.7)\", \"line\": {\"color\": \"rgba(219, 64, 82, 1.0)\", \"width\": 2}}}, {\"type\": \"scatter\", \"x\": [\"[0 - 16]\", \"(16 - 32]\", \"(32 - 48]\", \"(48 - 64]\", \"(64 - ...]\"], \"y\": [50.86206896551724, 36.13636363636363, 36.470588235294116, 43.47826086956522, 9.090909090909092], \"name\": \"Survival %\", \"mode\": \"lines+markers\", \"yaxis\": \"y2\"}], {\"barmode\": \"stack\", \"title\": \"Survival vs Age\", \"width\": 1000, \"height\": 500, \"paper_bgcolor\": \"rgb(243, 243, 243)\", \"plot_bgcolor\": \"rgb(243, 243, 243)\", \"yaxis\": {\"title\": \"Number of passengers\"}, \"xaxis\": {\"title\": \"Age\"}, \"yaxis2\": {\"title\": \"Survival %\", \"titlefont\": {\"color\": \"rgb(148, 103, 189)\"}, \"tickfont\": {\"color\": \"rgb(148, 103, 189)\"}, \"overlaying\": \"y\", \"side\": \"right\", \"anchor\": \"x\", \"rangemode\": \"tozero\", \"dtick\": 11.2}}, {\"showLink\": true, \"linkText\": \"Export to plot.ly\"})});</script>"
      ]
     },
     "metadata": {},
     "output_type": "display_data"
    }
   ],
   "source": [
    "age = dataset_train[['Age', 'Survived']].groupby(['Age']).count()\n",
    "age_sur = dataset_train[['Age', 'Survived']].groupby(['Age']).sum()\n",
    "\n",
    "trace1 = go.Bar(\n",
    "    x = ['[0 - 16]', '(16 - 32]', '(32 - 48]', '(48 - 64]', '(64 - ...]'],\n",
    "    y = age_sur['Survived'].tolist(),\n",
    "    name='Survived',\n",
    "    marker=dict(\n",
    "        color='rgba(55, 128, 191, 0.7)',\n",
    "        line=dict(\n",
    "            color='rgba(55, 128, 191, 1.0)',\n",
    "            width=2,\n",
    "        )\n",
    "    )\n",
    ")\n",
    "trace2 = go.Bar(\n",
    "    x = ['[0 - 16]', '(16 - 32]', '(32 - 48]', '(48 - 64]', '(64 - ...]'],\n",
    "    y = (age['Survived'] - age_sur['Survived']).tolist(),\n",
    "    name='Drowned',\n",
    "    marker=dict(\n",
    "        color='rgba(219, 64, 82, 0.7)',\n",
    "        line=dict(\n",
    "            color='rgba(219, 64, 82, 1.0)',\n",
    "            width=2,\n",
    "        )\n",
    "    )\n",
    ")\n",
    "trace3 = go.Scatter(\n",
    "    x = ['[0 - 16]', '(16 - 32]', '(32 - 48]', '(48 - 64]', '(64 - ...]'],\n",
    "    y = (age_sur['Survived'] * 100 / age['Survived']).tolist(),\n",
    "    name='Survival %',\n",
    "    mode = 'lines+markers',\n",
    "    yaxis='y2'\n",
    ")\n",
    "\n",
    "data = [trace1, trace2, trace3]\n",
    "layout = go.Layout(\n",
    "    barmode='stack',\n",
    "    title = 'Survival vs Age',\n",
    "    width=1000,\n",
    "    height=500,\n",
    "    paper_bgcolor='rgb(243, 243, 243)',\n",
    "    plot_bgcolor='rgb(243, 243, 243)',\n",
    "    yaxis = dict(title= 'Number of passengers'),\n",
    "    xaxis = dict(title= 'Age'),\n",
    "    yaxis2=dict(\n",
    "        title='Survival %',\n",
    "        titlefont=dict(\n",
    "            color='rgb(148, 103, 189)'\n",
    "        ),\n",
    "        tickfont=dict(\n",
    "            color='rgb(148, 103, 189)'\n",
    "        ),\n",
    "        overlaying='y',\n",
    "        side='right',\n",
    "        anchor = 'x',\n",
    "        rangemode = 'tozero',\n",
    "        dtick = 11.2\n",
    "    )\n",
    ")\n",
    "\n",
    "fig = go.Figure(data=data, layout=layout)\n",
    "py.iplot(fig)"
   ]
  },
  {
   "cell_type": "markdown",
   "metadata": {},
   "source": [
    "### 2.3.7. Cabin\n",
    "<a id=\"cabin\"></a>"
   ]
  },
  {
   "cell_type": "markdown",
   "metadata": {},
   "source": [
    "<b>NOTE:</b> Feature that tells whether a passenger had a cabin on the Titanic."
   ]
  },
  {
   "cell_type": "code",
   "execution_count": 22,
   "metadata": {
    "collapsed": true
   },
   "outputs": [],
   "source": [
    "for dataset in full_data:\n",
    "    dataset['Has_Cabin'] = dataset[\"Cabin\"].apply(lambda x: 0 if type(x) == float else 1)"
   ]
  },
  {
   "cell_type": "markdown",
   "metadata": {},
   "source": [
    "### 2.3.8. Title\n",
    "<a id=\"title\"></a>"
   ]
  },
  {
   "cell_type": "markdown",
   "metadata": {},
   "source": [
    "<b> NOTE: </b> Lastly we will use Name feature to create new one - Title. We will use short funtion to extract titles from name strings and transform them into numerical categorical values."
   ]
  },
  {
   "cell_type": "code",
   "execution_count": 23,
   "metadata": {},
   "outputs": [],
   "source": [
    "# Short function to extruct titles \n",
    "def get_title(name):\n",
    "    title_search = re.search(' ([A-Za-z]+)\\.', name)\n",
    "    # If the title exists, extract and return it.\n",
    "    if title_search:\n",
    "        return title_search.group(1)\n",
    "    return \"\"\n",
    "\n",
    "# Create a new feature Title, containing the titles of passenger names\n",
    "for dataset in full_data:\n",
    "    dataset['Title'] = dataset['Name'].apply(get_title)"
   ]
  },
  {
   "cell_type": "code",
   "execution_count": 24,
   "metadata": {
    "collapsed": true
   },
   "outputs": [],
   "source": [
    "# Group all non-common titles into one single grouping \"Rare\"\n",
    "for dataset in full_data:\n",
    "    dataset['Title'] = dataset['Title'].replace(['Lady', 'Countess','Capt', 'Col','Don', 'Dr', 'Major', 'Rev', 'Sir', 'Jonkheer', 'Dona'], 'Rare')\n",
    "    dataset['Title'] = dataset['Title'].replace('Mlle', 'Miss')\n",
    "    dataset['Title'] = dataset['Title'].replace('Ms', 'Miss')\n",
    "    dataset['Title'] = dataset['Title'].replace('Mme', 'Mrs')\n",
    "\n",
    "for dataset in full_data:\n",
    "    # Mapping titles\n",
    "    title_mapping = {\"Mr\": 1, \"Miss\": 2, \"Mrs\": 3, \"Master\": 4, \"Rare\": 5}\n",
    "    dataset['Title'] = dataset['Title'].map(title_mapping)\n",
    "    dataset['Title'] = dataset['Title'].fillna(0)\n"
   ]
  },
  {
   "cell_type": "code",
   "execution_count": 48,
   "metadata": {},
   "outputs": [
    {
     "data": {
      "application/vnd.plotly.v1+json": {
       "data": [
        {
         "marker": {
          "color": "rgba(55, 128, 191, 0.7)",
          "line": {
           "color": "rgba(55, 128, 191, 1.0)",
           "width": 2
          }
         },
         "name": "Survived",
         "type": "bar",
         "x": [
          "Mr",
          "Miss",
          "Mrs",
          "Master",
          "Rare"
         ],
         "y": [
          81,
          130,
          100,
          23,
          8
         ]
        },
        {
         "marker": {
          "color": "rgba(219, 64, 82, 0.7)",
          "line": {
           "color": "rgba(219, 64, 82, 1.0)",
           "width": 2
          }
         },
         "name": "Drowned",
         "type": "bar",
         "x": [
          "Mr",
          "Miss",
          "Mrs",
          "Master",
          "Rare"
         ],
         "y": [
          436,
          55,
          26,
          17,
          15
         ]
        },
        {
         "mode": "lines+markers",
         "name": "Survival %",
         "type": "scatter",
         "x": [
          "Mr",
          "Miss",
          "Mrs",
          "Master",
          "Rare"
         ],
         "y": [
          15.667311411992262,
          70.27027027027027,
          79.36507936507937,
          57.5,
          34.78260869565217
         ],
         "yaxis": "y2"
        }
       ],
       "layout": {
        "barmode": "stack",
        "height": 500,
        "paper_bgcolor": "rgb(243, 243, 243)",
        "plot_bgcolor": "rgb(243, 243, 243)",
        "title": "Survival vs Title",
        "width": 1000,
        "xaxis": {
         "title": "title"
        },
        "yaxis": {
         "title": "Number of passengers"
        },
        "yaxis2": {
         "anchor": "x",
         "dtick": 15.6,
         "overlaying": "y",
         "rangemode": "tozero",
         "side": "right",
         "tickfont": {
          "color": "rgb(148, 103, 189)"
         },
         "title": "Survival %",
         "titlefont": {
          "color": "rgb(148, 103, 189)"
         }
        }
       }
      },
      "text/html": [
       "<div id=\"823965ab-c201-4c81-9671-46449c776b2e\" style=\"height: 500px; width: 1000px;\" class=\"plotly-graph-div\"></div><script type=\"text/javascript\">require([\"plotly\"], function(Plotly) { window.PLOTLYENV=window.PLOTLYENV || {};window.PLOTLYENV.BASE_URL=\"https://plot.ly\";Plotly.newPlot(\"823965ab-c201-4c81-9671-46449c776b2e\", [{\"type\": \"bar\", \"x\": [\"Mr\", \"Miss\", \"Mrs\", \"Master\", \"Rare\"], \"y\": [81, 130, 100, 23, 8], \"name\": \"Survived\", \"marker\": {\"color\": \"rgba(55, 128, 191, 0.7)\", \"line\": {\"color\": \"rgba(55, 128, 191, 1.0)\", \"width\": 2}}}, {\"type\": \"bar\", \"x\": [\"Mr\", \"Miss\", \"Mrs\", \"Master\", \"Rare\"], \"y\": [436, 55, 26, 17, 15], \"name\": \"Drowned\", \"marker\": {\"color\": \"rgba(219, 64, 82, 0.7)\", \"line\": {\"color\": \"rgba(219, 64, 82, 1.0)\", \"width\": 2}}}, {\"type\": \"scatter\", \"x\": [\"Mr\", \"Miss\", \"Mrs\", \"Master\", \"Rare\"], \"y\": [15.667311411992262, 70.27027027027027, 79.36507936507937, 57.5, 34.78260869565217], \"name\": \"Survival %\", \"mode\": \"lines+markers\", \"yaxis\": \"y2\"}], {\"barmode\": \"stack\", \"title\": \"Survival vs Title\", \"width\": 1000, \"height\": 500, \"paper_bgcolor\": \"rgb(243, 243, 243)\", \"plot_bgcolor\": \"rgb(243, 243, 243)\", \"yaxis\": {\"title\": \"Number of passengers\"}, \"xaxis\": {\"title\": \"title\"}, \"yaxis2\": {\"title\": \"Survival %\", \"titlefont\": {\"color\": \"rgb(148, 103, 189)\"}, \"tickfont\": {\"color\": \"rgb(148, 103, 189)\"}, \"overlaying\": \"y\", \"side\": \"right\", \"anchor\": \"x\", \"rangemode\": \"tozero\", \"dtick\": 15.6}}, {\"showLink\": true, \"linkText\": \"Export to plot.ly\"})});</script>"
      ],
      "text/vnd.plotly.v1+html": [
       "<div id=\"823965ab-c201-4c81-9671-46449c776b2e\" style=\"height: 500px; width: 1000px;\" class=\"plotly-graph-div\"></div><script type=\"text/javascript\">require([\"plotly\"], function(Plotly) { window.PLOTLYENV=window.PLOTLYENV || {};window.PLOTLYENV.BASE_URL=\"https://plot.ly\";Plotly.newPlot(\"823965ab-c201-4c81-9671-46449c776b2e\", [{\"type\": \"bar\", \"x\": [\"Mr\", \"Miss\", \"Mrs\", \"Master\", \"Rare\"], \"y\": [81, 130, 100, 23, 8], \"name\": \"Survived\", \"marker\": {\"color\": \"rgba(55, 128, 191, 0.7)\", \"line\": {\"color\": \"rgba(55, 128, 191, 1.0)\", \"width\": 2}}}, {\"type\": \"bar\", \"x\": [\"Mr\", \"Miss\", \"Mrs\", \"Master\", \"Rare\"], \"y\": [436, 55, 26, 17, 15], \"name\": \"Drowned\", \"marker\": {\"color\": \"rgba(219, 64, 82, 0.7)\", \"line\": {\"color\": \"rgba(219, 64, 82, 1.0)\", \"width\": 2}}}, {\"type\": \"scatter\", \"x\": [\"Mr\", \"Miss\", \"Mrs\", \"Master\", \"Rare\"], \"y\": [15.667311411992262, 70.27027027027027, 79.36507936507937, 57.5, 34.78260869565217], \"name\": \"Survival %\", \"mode\": \"lines+markers\", \"yaxis\": \"y2\"}], {\"barmode\": \"stack\", \"title\": \"Survival vs Title\", \"width\": 1000, \"height\": 500, \"paper_bgcolor\": \"rgb(243, 243, 243)\", \"plot_bgcolor\": \"rgb(243, 243, 243)\", \"yaxis\": {\"title\": \"Number of passengers\"}, \"xaxis\": {\"title\": \"title\"}, \"yaxis2\": {\"title\": \"Survival %\", \"titlefont\": {\"color\": \"rgb(148, 103, 189)\"}, \"tickfont\": {\"color\": \"rgb(148, 103, 189)\"}, \"overlaying\": \"y\", \"side\": \"right\", \"anchor\": \"x\", \"rangemode\": \"tozero\", \"dtick\": 15.6}}, {\"showLink\": true, \"linkText\": \"Export to plot.ly\"})});</script>"
      ]
     },
     "metadata": {},
     "output_type": "display_data"
    }
   ],
   "source": [
    "title = dataset_train[['Title', 'Survived']].groupby(['Title']).count()\n",
    "title_sur = dataset_train[['Title', 'Survived']].groupby(['Title']).sum()\n",
    "\n",
    "trace1 = go.Bar(\n",
    "    x = ['Mr', 'Miss', 'Mrs', 'Master', 'Rare'],\n",
    "    y = title_sur['Survived'].tolist(),\n",
    "    name='Survived',\n",
    "    marker=dict(\n",
    "        color='rgba(55, 128, 191, 0.7)',\n",
    "        line=dict(\n",
    "            color='rgba(55, 128, 191, 1.0)',\n",
    "            width=2,\n",
    "        )\n",
    "    )\n",
    ")\n",
    "trace2 = go.Bar(\n",
    "   x = ['Mr', 'Miss', 'Mrs', 'Master', 'Rare'],\n",
    "    y = (title['Survived'] - title_sur['Survived']).tolist(),\n",
    "    name='Drowned',\n",
    "    marker=dict(\n",
    "        color='rgba(219, 64, 82, 0.7)',\n",
    "        line=dict(\n",
    "            color='rgba(219, 64, 82, 1.0)',\n",
    "            width=2,\n",
    "        )\n",
    "    )\n",
    ")\n",
    "trace3 = go.Scatter(\n",
    "    x = ['Mr', 'Miss', 'Mrs', 'Master', 'Rare'],\n",
    "    y = (title_sur['Survived'] * 100 / title['Survived']).tolist(),\n",
    "    name='Survival %',\n",
    "    mode = 'lines+markers',\n",
    "    yaxis='y2'\n",
    ")\n",
    "\n",
    "data = [trace1, trace2, trace3]\n",
    "layout = go.Layout(\n",
    "    barmode='stack',\n",
    "    title = 'Survival vs Title',\n",
    "    width=1000,\n",
    "    height=500,\n",
    "    paper_bgcolor='rgb(243, 243, 243)',\n",
    "    plot_bgcolor='rgb(243, 243, 243)',\n",
    "    yaxis = dict(title= 'Number of passengers'),\n",
    "    xaxis = dict(title= 'title'),\n",
    "    yaxis2=dict(\n",
    "        title='Survival %',\n",
    "        titlefont=dict(\n",
    "            color='rgb(148, 103, 189)'\n",
    "        ),\n",
    "        tickfont=dict(\n",
    "            color='rgb(148, 103, 189)'\n",
    "        ),\n",
    "        overlaying='y',\n",
    "        side='right',\n",
    "        anchor = 'x',\n",
    "        rangemode = 'tozero',\n",
    "        dtick = 15.6\n",
    "    )\n",
    ")\n",
    "\n",
    "fig = go.Figure(data=data, layout=layout)\n",
    "py.iplot(fig)"
   ]
  },
  {
   "cell_type": "markdown",
   "metadata": {},
   "source": [
    "### 2.3.9. Data Cleaning\n",
    "<a id=\"data_cleaning\"></a>"
   ]
  },
  {
   "cell_type": "code",
   "execution_count": 25,
   "metadata": {},
   "outputs": [
    {
     "name": "stdout",
     "output_type": "stream",
     "text": [
      "   Survived  Pclass  Sex  Age  Fare  Embarked  FamilySize  IsAlone  Has_Cabin  \\\n",
      "0         0       3    1    1     0         0           2        0          0   \n",
      "1         1       1    0    2     3         1           2        0          1   \n",
      "2         1       3    0    1     1         0           1        1          0   \n",
      "3         1       1    0    2     3         0           2        0          1   \n",
      "4         0       3    1    2     1         0           1        1          0   \n",
      "5         0       3    1    1     1         2           1        1          0   \n",
      "6         0       1    1    3     3         0           1        1          1   \n",
      "7         0       3    1    0     2         0           5        0          0   \n",
      "8         1       3    0    1     1         0           3        0          0   \n",
      "9         1       2    0    0     2         1           2        0          0   \n",
      "\n",
      "   Title  \n",
      "0      1  \n",
      "1      3  \n",
      "2      2  \n",
      "3      3  \n",
      "4      1  \n",
      "5      1  \n",
      "6      1  \n",
      "7      4  \n",
      "8      3  \n",
      "9      3  \n"
     ]
    }
   ],
   "source": [
    "# Feature Selection\n",
    "drop_elements = ['PassengerId', 'Name', 'Ticket', 'Cabin', 'SibSp',\\\n",
    "                 'Parch']\n",
    "\n",
    "dataset_train = dataset_train.drop(drop_elements, axis = 1)\n",
    "dataset_train = dataset_train.drop(['CategoricalAge', 'CategoricalFare'], axis = 1)\n",
    "\n",
    "dataset_test = dataset_test.drop(drop_elements, axis = 1)\n",
    "dataset_test = dataset_test.drop(['CategoricalAge', 'CategoricalFare'], axis = 1)\n",
    "\n",
    "print (dataset_train.head(10))\n",
    "\n",
    "train = dataset_train.values\n",
    "test  = dataset_test.values"
   ]
  },
  {
   "cell_type": "markdown",
   "metadata": {},
   "source": [
    "### 2.3.10. Correlation Heatmap\n",
    "<a id=\"correlation_heatmap\"></a>"
   ]
  },
  {
   "cell_type": "code",
   "execution_count": 26,
   "metadata": {},
   "outputs": [
    {
     "data": {
      "image/png": "[encoded data removed]",
      "text/plain": [
       "<matplotlib.figure.Figure at 0xd782a62550>"
      ]
     },
     "metadata": {},
     "output_type": "display_data"
    }
   ],
   "source": [
    "colormap = plt.cm.viridis\n",
    "plt.figure(figsize=(15,15))\n",
    "plt.title('Pearson Correlation of Features', y=1.05, size=15)\n",
    "sns.heatmap(dataset_train.astype(float).corr(),linewidths=0.1,vmax=1.0, square=True, cmap=colormap, linecolor='white', annot=True)\n",
    "plt.show()"
   ]
  },
  {
   "cell_type": "markdown",
   "metadata": {},
   "source": [
    "## 3. Classification\n",
    "<a id=\"classification\"></a>"
   ]
  },
  {
   "cell_type": "markdown",
   "metadata": {},
   "source": [
    "### 3.1. Dataset preperation\n",
    "<a id=\"dataset_preperation\"></a>"
   ]
  },
  {
   "cell_type": "code",
   "execution_count": 27,
   "metadata": {
    "collapsed": true
   },
   "outputs": [],
   "source": [
    "y_train = dataset_train['Survived'].ravel()\n",
    "X_train = dataset_train.drop(['Survived'], axis=1).values\n",
    "X_test = dataset_test.values"
   ]
  },
  {
   "cell_type": "markdown",
   "metadata": {},
   "source": [
    "### 3.2. Decision Tree Classifier\n",
    "<a id=\"decision_tree_classifier\"></a>"
   ]
  },
  {
   "cell_type": "code",
   "execution_count": 28,
   "metadata": {},
   "outputs": [
    {
     "data": {
      "text/plain": [
       "DecisionTreeClassifier(class_weight=None, criterion='gini', max_depth=None,\n",
       "            max_features=None, max_leaf_nodes=None,\n",
       "            min_impurity_decrease=0.0, min_impurity_split=None,\n",
       "            min_samples_leaf=1, min_samples_split=2,\n",
       "            min_weight_fraction_leaf=0.0, presort=False, random_state=0,\n",
       "            splitter='best')"
      ]
     },
     "execution_count": 28,
     "metadata": {},
     "output_type": "execute_result"
    }
   ],
   "source": [
    "from sklearn.tree import DecisionTreeClassifier\n",
    "classifier_DTC = DecisionTreeClassifier(criterion='gini', random_state = 0)\n",
    "classifier_DTC.fit(X_train, y_train)"
   ]
  },
  {
   "cell_type": "code",
   "execution_count": 49,
   "metadata": {},
   "outputs": [
    {
     "data": {
      "text/plain": [
       "array([ 0.08940103,  0.00695799,  0.05976639,  0.06210815,  0.03398398,\n",
       "        0.1842836 ,  0.        ,  0.06016824,  0.50333061])"
      ]
     },
     "execution_count": 49,
     "metadata": {},
     "output_type": "execute_result"
    }
   ],
   "source": [
    "# Feature importances for Decision Tree Classifier\n",
    "feature_importances_DTC = classifier_DTC.feature_importances_\n",
    "feature_importances_DTC"
   ]
  },
  {
   "cell_type": "code",
   "execution_count": 50,
   "metadata": {},
   "outputs": [
    {
     "data": {
      "text/plain": [
       "89.790000000000006"
      ]
     },
     "execution_count": 50,
     "metadata": {},
     "output_type": "execute_result"
    }
   ],
   "source": [
    "acc_DTC = round(classifier_DTC.score(X_train, y_train) * 100, 2)\n",
    "acc_DTC"
   ]
  },
  {
   "cell_type": "markdown",
   "metadata": {},
   "source": [
    "### 3.3. Random Forest Classifier\n",
    "<a id=\"random_forest_classifier\"></a>"
   ]
  },
  {
   "cell_type": "code",
   "execution_count": 36,
   "metadata": {},
   "outputs": [
    {
     "data": {
      "text/plain": [
       "RandomForestClassifier(bootstrap=True, class_weight=None, criterion='gini',\n",
       "            max_depth=6, max_features='sqrt', max_leaf_nodes=None,\n",
       "            min_impurity_decrease=0.0, min_impurity_split=None,\n",
       "            min_samples_leaf=2, min_samples_split=2,\n",
       "            min_weight_fraction_leaf=0.0, n_estimators=500, n_jobs=1,\n",
       "            oob_score=False, random_state=None, verbose=0, warm_start=True)"
      ]
     },
     "execution_count": 36,
     "metadata": {},
     "output_type": "execute_result"
    }
   ],
   "source": [
    "from sklearn.ensemble import RandomForestClassifier\n",
    "classifier_RFC = RandomForestClassifier(n_estimators = 500, warm_start = True, max_depth = 6, min_samples_leaf = 2, max_features = 'sqrt')\n",
    "classifier_RFC.fit(X_train, y_train)"
   ]
  },
  {
   "cell_type": "code",
   "execution_count": 51,
   "metadata": {},
   "outputs": [
    {
     "data": {
      "text/plain": [
       "array([ 0.12580572,  0.27081188,  0.04340915,  0.05680013,  0.02774424,\n",
       "        0.09122958,  0.01494195,  0.0676271 ,  0.30163024])"
      ]
     },
     "execution_count": 51,
     "metadata": {},
     "output_type": "execute_result"
    }
   ],
   "source": [
    "feature_importances_RFC = classifier_RFC.feature_importances_\n",
    "feature_importances_RFC"
   ]
  },
  {
   "cell_type": "code",
   "execution_count": 52,
   "metadata": {},
   "outputs": [
    {
     "data": {
      "text/plain": [
       "85.069999999999993"
      ]
     },
     "execution_count": 52,
     "metadata": {},
     "output_type": "execute_result"
    }
   ],
   "source": [
    "acc_RFC = round(classifier_RFC.score(X_train, y_train) * 100, 2)\n",
    "acc_RFC"
   ]
  },
  {
   "cell_type": "markdown",
   "metadata": {},
   "source": [
    "### 3.4. K Neighbors Classifier\n",
    "<a id=\"k_neighbors_classifier\"></a>"
   ]
  },
  {
   "cell_type": "code",
   "execution_count": null,
   "metadata": {
    "collapsed": true
   },
   "outputs": [],
   "source": []
  },
  {
   "cell_type": "code",
   "execution_count": null,
   "metadata": {
    "collapsed": true
   },
   "outputs": [],
   "source": []
  },
  {
   "cell_type": "code",
   "execution_count": null,
   "metadata": {
    "collapsed": true
   },
   "outputs": [],
   "source": []
  },
  {
   "cell_type": "code",
   "execution_count": null,
   "metadata": {
    "collapsed": true
   },
   "outputs": [],
   "source": []
  },
  {
   "cell_type": "code",
   "execution_count": 39,
   "metadata": {},
   "outputs": [
    {
     "data": {
      "text/plain": [
       "array(['Pclass', 'Sex', 'Age', 'Fare', 'Embarked', 'FamilySize', 'IsAlone',\n",
       "       'Has_Cabin', 'Title'], dtype=object)"
      ]
     },
     "execution_count": 39,
     "metadata": {},
     "output_type": "execute_result"
    }
   ],
   "source": [
    "dataset_train.drop(['Survived'], axis=1).columns.values"
   ]
  },
  {
   "cell_type": "code",
   "execution_count": 40,
   "metadata": {},
   "outputs": [
    {
     "data": {
      "text/plain": [
       "<matplotlib.figure.Figure at 0xd783f23b70>"
      ]
     },
     "metadata": {},
     "output_type": "display_data"
    },
    {
     "data": {
      "image/png": "[encoded data removed]",
      "text/plain": [
       "<matplotlib.figure.Figure at 0xd783f235f8>"
      ]
     },
     "metadata": {},
     "output_type": "display_data"
    }
   ],
   "source": [
    "plt.figure()\n",
    "plt.figure(figsize=(15,10))\n",
    "sns.set_style(\"whitegrid\")\n",
    "plt.title('Decision Tree Feature Importance', fontsize=20, fontweight='bold')\n",
    "plt.xlabel('Feature', fontsize=15)\n",
    "plt.ylabel('Feature Importance', fontsize=15)\n",
    "sns.stripplot(dataset_train.drop(['Survived'], axis=1).columns.values, feature_importances_RFC, s = 15, color=\"blue\")\n",
    "plt.show()"
   ]
  },
  {
   "cell_type": "code",
   "execution_count": null,
   "metadata": {
    "collapsed": true
   },
   "outputs": [],
   "source": []
  },
  {
   "cell_type": "markdown",
   "metadata": {},
   "source": [
    "## 5. Bibliography"
   ]
  },
  {
   "cell_type": "markdown",
   "metadata": {},
   "source": [
    "1. https://machinelearningmastery.com/implement-decision-tree-algorithm-scratch-python/\n",
    "2. https://www.analyticsvidhya.com/blog/2016/04/complete-tutorial-tree-based-modeling-scratch-in-python/\n",
    "3. https://en.wikipedia.org/wiki/Overfitting\n",
    "4. https://www.kaggle.com/arthurtok/introduction-to-ensembling-stacking-in-python/notebook\n",
    "5. https://www.kaggle.com/sinakhorami/titanic-best-working-classifier"
   ]
  },
  {
   "cell_type": "code",
   "execution_count": null,
   "metadata": {
    "collapsed": true
   },
   "outputs": [],
   "source": []
  }
 ],
 "metadata": {
  "kernelspec": {
   "display_name": "Python 3",
   "language": "python",
   "name": "python3"
  },
  "language_info": {
   "codemirror_mode": {
    "name": "ipython",
    "version": 3
   },
   "file_extension": ".py",
   "mimetype": "text/x-python",
   "name": "python",
   "nbconvert_exporter": "python",
   "pygments_lexer": "ipython3",
   "version": "3.6.2"
  }
 },
 "nbformat": 4,
 "nbformat_minor": 2
}
