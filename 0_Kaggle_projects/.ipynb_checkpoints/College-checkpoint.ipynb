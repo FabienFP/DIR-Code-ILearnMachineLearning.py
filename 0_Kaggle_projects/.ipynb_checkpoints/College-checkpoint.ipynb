{
 "cells": [
  {
   "cell_type": "markdown",
   "metadata": {},
   "source": [
    "# What to expect after graduation?\n",
    "***"
   ]
  },
  {
   "cell_type": "markdown",
   "metadata": {},
   "source": [
    "***Piotr Skalski - 02.11.2017***"
   ]
  },
  {
   "cell_type": "markdown",
   "metadata": {},
   "source": [
    "## Table of Contents\n",
    "***\n",
    "* [1. Introduction](#introduction) <br>\n",
    "* [2. Importing dataset and data preprocessing](#importing_dataset_and_data_preprocessing) <br>\n",
    "   * [2.1. Importing essential libraries](#importing_essential_libraries) <br>\n",
    "   * [2.2. Importing datasets](#importing_datasets) <br>\n",
    "   * [2.3. Let's summarize the datasets](#lets_summarize_the_dataset) <br>\n",
    "   * [2.4. Data preprocessing](#data_preprocessing) <br>\n",
    "* [3. Data Visualization](#data_visualization) <br>\n",
    "   * [3.1. Starting median salary distribution by major](#starting_median_salary_distribution) <br>\n",
    "   * [3.2. Long term investment](#long_term_investment) <br>   \n",
    "***"
   ]
  },
  {
   "cell_type": "markdown",
   "metadata": {},
   "source": [
    "## 1. Introduction\n",
    "<a id=\"introduction\"></a>"
   ]
  },
  {
   "cell_type": "markdown",
   "metadata": {},
   "source": [
    "The <a href=\"https://www.kaggle.com/wsj/college-salaries\">Where it Pays to Attend College</a> dataset is not new - it was published more than half a year ago. Unfortunately I was not a member of Kaggle back then. As I am a student myself, this problem is quite interesting to me, so I decided to check which majors offer the greatest prospects."
   ]
  },
  {
   "cell_type": "markdown",
   "metadata": {},
   "source": [
    "## 2. Importing dataset and data preprocessing\n",
    "<a id=\"importing_dataset_and_data_preprocessing\"></a>"
   ]
  },
  {
   "cell_type": "markdown",
   "metadata": {},
   "source": [
    "### 2.1. Importing essential libraries\n",
    "<a id=\"importing_essential_libraries\"></a>"
   ]
  },
  {
   "cell_type": "code",
   "execution_count": 127,
   "metadata": {},
   "outputs": [
    {
     "data": {
      "text/html": [
       "<script>requirejs.config({paths: { 'plotly': ['https://cdn.plot.ly/plotly-latest.min']},});if(!window.Plotly) {{require(['plotly'],function(plotly) {window.Plotly=plotly;});}}</script>"
      ],
      "text/vnd.plotly.v1+html": [
       "<script>requirejs.config({paths: { 'plotly': ['https://cdn.plot.ly/plotly-latest.min']},});if(!window.Plotly) {{require(['plotly'],function(plotly) {window.Plotly=plotly;});}}</script>"
      ]
     },
     "metadata": {},
     "output_type": "display_data"
    }
   ],
   "source": [
    "import numpy as np\n",
    "import pandas as pd\n",
    "import geopandas as gpd\n",
    "from scipy.optimize import curve_fit\n",
    "import seaborn as sns\n",
    "\n",
    "from math import radians, cos, sin, asin, sqrt\n",
    "\n",
    "from mpl_toolkits.basemap import Basemap\n",
    "import matplotlib.pyplot as plt\n",
    "import matplotlib.colors as colors\n",
    "%matplotlib inline\n",
    "\n",
    "import plotly.offline as py\n",
    "py.init_notebook_mode(connected=True)\n",
    "import plotly.graph_objs as go\n",
    "import plotly.tools as tls"
   ]
  },
  {
   "cell_type": "markdown",
   "metadata": {},
   "source": [
    "### 2.2. Importing datasets\n",
    "<a id=\"importing_datasets\"></a>"
   ]
  },
  {
   "cell_type": "code",
   "execution_count": 128,
   "metadata": {
    "collapsed": true
   },
   "outputs": [],
   "source": [
    "college = pd.read_csv('../00_Datasets/College/salaries-by-college-type.csv')\n",
    "region = pd.read_csv('../00_Datasets/College/salaries-by-region.csv')\n",
    "majors = pd.read_csv('../00_Datasets/College/degrees-that-pay-back.csv')\n",
    "# List of all datasets\n",
    "datasets_list = [college, region, majors]"
   ]
  },
  {
   "cell_type": "markdown",
   "metadata": {},
   "source": [
    "### 2.3. Let's summarize the datasets\n",
    "<a id=\"lets_summarize_the_dataset\"></a>"
   ]
  },
  {
   "cell_type": "code",
   "execution_count": 129,
   "metadata": {},
   "outputs": [
    {
     "data": {
      "text/html": [
       "<div>\n",
       "<style>\n",
       "    .dataframe thead tr:only-child th {\n",
       "        text-align: right;\n",
       "    }\n",
       "\n",
       "    .dataframe thead th {\n",
       "        text-align: left;\n",
       "    }\n",
       "\n",
       "    .dataframe tbody tr th {\n",
       "        vertical-align: top;\n",
       "    }\n",
       "</style>\n",
       "<table border=\"1\" class=\"dataframe\">\n",
       "  <thead>\n",
       "    <tr style=\"text-align: right;\">\n",
       "      <th></th>\n",
       "      <th>School Name</th>\n",
       "      <th>School Type</th>\n",
       "      <th>Starting Median Salary</th>\n",
       "      <th>Mid-Career Median Salary</th>\n",
       "      <th>Mid-Career 10th Percentile Salary</th>\n",
       "      <th>Mid-Career 25th Percentile Salary</th>\n",
       "      <th>Mid-Career 75th Percentile Salary</th>\n",
       "      <th>Mid-Career 90th Percentile Salary</th>\n",
       "    </tr>\n",
       "  </thead>\n",
       "  <tbody>\n",
       "    <tr>\n",
       "      <th>0</th>\n",
       "      <td>Massachusetts Institute of Technology (MIT)</td>\n",
       "      <td>Engineering</td>\n",
       "      <td>$72,200.00</td>\n",
       "      <td>$126,000.00</td>\n",
       "      <td>$76,800.00</td>\n",
       "      <td>$99,200.00</td>\n",
       "      <td>$168,000.00</td>\n",
       "      <td>$220,000.00</td>\n",
       "    </tr>\n",
       "    <tr>\n",
       "      <th>1</th>\n",
       "      <td>California Institute of Technology (CIT)</td>\n",
       "      <td>Engineering</td>\n",
       "      <td>$75,500.00</td>\n",
       "      <td>$123,000.00</td>\n",
       "      <td>NaN</td>\n",
       "      <td>$104,000.00</td>\n",
       "      <td>$161,000.00</td>\n",
       "      <td>NaN</td>\n",
       "    </tr>\n",
       "    <tr>\n",
       "      <th>2</th>\n",
       "      <td>Harvey Mudd College</td>\n",
       "      <td>Engineering</td>\n",
       "      <td>$71,800.00</td>\n",
       "      <td>$122,000.00</td>\n",
       "      <td>NaN</td>\n",
       "      <td>$96,000.00</td>\n",
       "      <td>$180,000.00</td>\n",
       "      <td>NaN</td>\n",
       "    </tr>\n",
       "    <tr>\n",
       "      <th>3</th>\n",
       "      <td>Polytechnic University of New York, Brooklyn</td>\n",
       "      <td>Engineering</td>\n",
       "      <td>$62,400.00</td>\n",
       "      <td>$114,000.00</td>\n",
       "      <td>$66,800.00</td>\n",
       "      <td>$94,300.00</td>\n",
       "      <td>$143,000.00</td>\n",
       "      <td>$190,000.00</td>\n",
       "    </tr>\n",
       "    <tr>\n",
       "      <th>4</th>\n",
       "      <td>Cooper Union</td>\n",
       "      <td>Engineering</td>\n",
       "      <td>$62,200.00</td>\n",
       "      <td>$114,000.00</td>\n",
       "      <td>NaN</td>\n",
       "      <td>$80,200.00</td>\n",
       "      <td>$142,000.00</td>\n",
       "      <td>NaN</td>\n",
       "    </tr>\n",
       "  </tbody>\n",
       "</table>\n",
       "</div>"
      ],
      "text/plain": [
       "                                    School Name  School Type  \\\n",
       "0   Massachusetts Institute of Technology (MIT)  Engineering   \n",
       "1      California Institute of Technology (CIT)  Engineering   \n",
       "2                           Harvey Mudd College  Engineering   \n",
       "3  Polytechnic University of New York, Brooklyn  Engineering   \n",
       "4                                  Cooper Union  Engineering   \n",
       "\n",
       "  Starting Median Salary Mid-Career Median Salary  \\\n",
       "0             $72,200.00              $126,000.00   \n",
       "1             $75,500.00              $123,000.00   \n",
       "2             $71,800.00              $122,000.00   \n",
       "3             $62,400.00              $114,000.00   \n",
       "4             $62,200.00              $114,000.00   \n",
       "\n",
       "  Mid-Career 10th Percentile Salary Mid-Career 25th Percentile Salary  \\\n",
       "0                        $76,800.00                        $99,200.00   \n",
       "1                               NaN                       $104,000.00   \n",
       "2                               NaN                        $96,000.00   \n",
       "3                        $66,800.00                        $94,300.00   \n",
       "4                               NaN                        $80,200.00   \n",
       "\n",
       "  Mid-Career 75th Percentile Salary Mid-Career 90th Percentile Salary  \n",
       "0                       $168,000.00                       $220,000.00  \n",
       "1                       $161,000.00                               NaN  \n",
       "2                       $180,000.00                               NaN  \n",
       "3                       $143,000.00                       $190,000.00  \n",
       "4                       $142,000.00                               NaN  "
      ]
     },
     "execution_count": 129,
     "metadata": {},
     "output_type": "execute_result"
    }
   ],
   "source": [
    "college.head()"
   ]
  },
  {
   "cell_type": "code",
   "execution_count": 130,
   "metadata": {},
   "outputs": [
    {
     "name": "stdout",
     "output_type": "stream",
     "text": [
      "<class 'pandas.core.frame.DataFrame'>\n",
      "RangeIndex: 269 entries, 0 to 268\n",
      "Data columns (total 8 columns):\n",
      "School Name                          269 non-null object\n",
      "School Type                          269 non-null object\n",
      "Starting Median Salary               269 non-null object\n",
      "Mid-Career Median Salary             269 non-null object\n",
      "Mid-Career 10th Percentile Salary    231 non-null object\n",
      "Mid-Career 25th Percentile Salary    269 non-null object\n",
      "Mid-Career 75th Percentile Salary    269 non-null object\n",
      "Mid-Career 90th Percentile Salary    231 non-null object\n",
      "dtypes: object(8)\n",
      "memory usage: 16.9+ KB\n"
     ]
    }
   ],
   "source": [
    "college.info()"
   ]
  },
  {
   "cell_type": "code",
   "execution_count": 131,
   "metadata": {},
   "outputs": [
    {
     "data": {
      "text/html": [
       "<div>\n",
       "<style>\n",
       "    .dataframe thead tr:only-child th {\n",
       "        text-align: right;\n",
       "    }\n",
       "\n",
       "    .dataframe thead th {\n",
       "        text-align: left;\n",
       "    }\n",
       "\n",
       "    .dataframe tbody tr th {\n",
       "        vertical-align: top;\n",
       "    }\n",
       "</style>\n",
       "<table border=\"1\" class=\"dataframe\">\n",
       "  <thead>\n",
       "    <tr style=\"text-align: right;\">\n",
       "      <th></th>\n",
       "      <th>School Name</th>\n",
       "      <th>Region</th>\n",
       "      <th>Starting Median Salary</th>\n",
       "      <th>Mid-Career Median Salary</th>\n",
       "      <th>Mid-Career 10th Percentile Salary</th>\n",
       "      <th>Mid-Career 25th Percentile Salary</th>\n",
       "      <th>Mid-Career 75th Percentile Salary</th>\n",
       "      <th>Mid-Career 90th Percentile Salary</th>\n",
       "    </tr>\n",
       "  </thead>\n",
       "  <tbody>\n",
       "    <tr>\n",
       "      <th>0</th>\n",
       "      <td>Stanford University</td>\n",
       "      <td>California</td>\n",
       "      <td>$70,400.00</td>\n",
       "      <td>$129,000.00</td>\n",
       "      <td>$68,400.00</td>\n",
       "      <td>$93,100.00</td>\n",
       "      <td>$184,000.00</td>\n",
       "      <td>$257,000.00</td>\n",
       "    </tr>\n",
       "    <tr>\n",
       "      <th>1</th>\n",
       "      <td>California Institute of Technology (CIT)</td>\n",
       "      <td>California</td>\n",
       "      <td>$75,500.00</td>\n",
       "      <td>$123,000.00</td>\n",
       "      <td>NaN</td>\n",
       "      <td>$104,000.00</td>\n",
       "      <td>$161,000.00</td>\n",
       "      <td>NaN</td>\n",
       "    </tr>\n",
       "    <tr>\n",
       "      <th>2</th>\n",
       "      <td>Harvey Mudd College</td>\n",
       "      <td>California</td>\n",
       "      <td>$71,800.00</td>\n",
       "      <td>$122,000.00</td>\n",
       "      <td>NaN</td>\n",
       "      <td>$96,000.00</td>\n",
       "      <td>$180,000.00</td>\n",
       "      <td>NaN</td>\n",
       "    </tr>\n",
       "    <tr>\n",
       "      <th>3</th>\n",
       "      <td>University of California, Berkeley</td>\n",
       "      <td>California</td>\n",
       "      <td>$59,900.00</td>\n",
       "      <td>$112,000.00</td>\n",
       "      <td>$59,500.00</td>\n",
       "      <td>$81,000.00</td>\n",
       "      <td>$149,000.00</td>\n",
       "      <td>$201,000.00</td>\n",
       "    </tr>\n",
       "    <tr>\n",
       "      <th>4</th>\n",
       "      <td>Occidental College</td>\n",
       "      <td>California</td>\n",
       "      <td>$51,900.00</td>\n",
       "      <td>$105,000.00</td>\n",
       "      <td>NaN</td>\n",
       "      <td>$54,800.00</td>\n",
       "      <td>$157,000.00</td>\n",
       "      <td>NaN</td>\n",
       "    </tr>\n",
       "  </tbody>\n",
       "</table>\n",
       "</div>"
      ],
      "text/plain": [
       "                                School Name      Region  \\\n",
       "0                       Stanford University  California   \n",
       "1  California Institute of Technology (CIT)  California   \n",
       "2                       Harvey Mudd College  California   \n",
       "3        University of California, Berkeley  California   \n",
       "4                        Occidental College  California   \n",
       "\n",
       "  Starting Median Salary Mid-Career Median Salary  \\\n",
       "0             $70,400.00              $129,000.00   \n",
       "1             $75,500.00              $123,000.00   \n",
       "2             $71,800.00              $122,000.00   \n",
       "3             $59,900.00              $112,000.00   \n",
       "4             $51,900.00              $105,000.00   \n",
       "\n",
       "  Mid-Career 10th Percentile Salary Mid-Career 25th Percentile Salary  \\\n",
       "0                        $68,400.00                        $93,100.00   \n",
       "1                               NaN                       $104,000.00   \n",
       "2                               NaN                        $96,000.00   \n",
       "3                        $59,500.00                        $81,000.00   \n",
       "4                               NaN                        $54,800.00   \n",
       "\n",
       "  Mid-Career 75th Percentile Salary Mid-Career 90th Percentile Salary  \n",
       "0                       $184,000.00                       $257,000.00  \n",
       "1                       $161,000.00                               NaN  \n",
       "2                       $180,000.00                               NaN  \n",
       "3                       $149,000.00                       $201,000.00  \n",
       "4                       $157,000.00                               NaN  "
      ]
     },
     "execution_count": 131,
     "metadata": {},
     "output_type": "execute_result"
    }
   ],
   "source": [
    "region.head()"
   ]
  },
  {
   "cell_type": "code",
   "execution_count": 132,
   "metadata": {},
   "outputs": [
    {
     "name": "stdout",
     "output_type": "stream",
     "text": [
      "<class 'pandas.core.frame.DataFrame'>\n",
      "RangeIndex: 320 entries, 0 to 319\n",
      "Data columns (total 8 columns):\n",
      "School Name                          320 non-null object\n",
      "Region                               320 non-null object\n",
      "Starting Median Salary               320 non-null object\n",
      "Mid-Career Median Salary             320 non-null object\n",
      "Mid-Career 10th Percentile Salary    273 non-null object\n",
      "Mid-Career 25th Percentile Salary    320 non-null object\n",
      "Mid-Career 75th Percentile Salary    320 non-null object\n",
      "Mid-Career 90th Percentile Salary    273 non-null object\n",
      "dtypes: object(8)\n",
      "memory usage: 20.1+ KB\n"
     ]
    }
   ],
   "source": [
    "region.info()"
   ]
  },
  {
   "cell_type": "code",
   "execution_count": 133,
   "metadata": {},
   "outputs": [
    {
     "data": {
      "text/html": [
       "<div>\n",
       "<style>\n",
       "    .dataframe thead tr:only-child th {\n",
       "        text-align: right;\n",
       "    }\n",
       "\n",
       "    .dataframe thead th {\n",
       "        text-align: left;\n",
       "    }\n",
       "\n",
       "    .dataframe tbody tr th {\n",
       "        vertical-align: top;\n",
       "    }\n",
       "</style>\n",
       "<table border=\"1\" class=\"dataframe\">\n",
       "  <thead>\n",
       "    <tr style=\"text-align: right;\">\n",
       "      <th></th>\n",
       "      <th>Undergraduate Major</th>\n",
       "      <th>Starting Median Salary</th>\n",
       "      <th>Mid-Career Median Salary</th>\n",
       "      <th>Percent change from Starting to Mid-Career Salary</th>\n",
       "      <th>Mid-Career 10th Percentile Salary</th>\n",
       "      <th>Mid-Career 25th Percentile Salary</th>\n",
       "      <th>Mid-Career 75th Percentile Salary</th>\n",
       "      <th>Mid-Career 90th Percentile Salary</th>\n",
       "    </tr>\n",
       "  </thead>\n",
       "  <tbody>\n",
       "    <tr>\n",
       "      <th>0</th>\n",
       "      <td>Accounting</td>\n",
       "      <td>$46,000.00</td>\n",
       "      <td>$77,100.00</td>\n",
       "      <td>67.6</td>\n",
       "      <td>$42,200.00</td>\n",
       "      <td>$56,100.00</td>\n",
       "      <td>$108,000.00</td>\n",
       "      <td>$152,000.00</td>\n",
       "    </tr>\n",
       "    <tr>\n",
       "      <th>1</th>\n",
       "      <td>Aerospace Engineering</td>\n",
       "      <td>$57,700.00</td>\n",
       "      <td>$101,000.00</td>\n",
       "      <td>75.0</td>\n",
       "      <td>$64,300.00</td>\n",
       "      <td>$82,100.00</td>\n",
       "      <td>$127,000.00</td>\n",
       "      <td>$161,000.00</td>\n",
       "    </tr>\n",
       "    <tr>\n",
       "      <th>2</th>\n",
       "      <td>Agriculture</td>\n",
       "      <td>$42,600.00</td>\n",
       "      <td>$71,900.00</td>\n",
       "      <td>68.8</td>\n",
       "      <td>$36,300.00</td>\n",
       "      <td>$52,100.00</td>\n",
       "      <td>$96,300.00</td>\n",
       "      <td>$150,000.00</td>\n",
       "    </tr>\n",
       "    <tr>\n",
       "      <th>3</th>\n",
       "      <td>Anthropology</td>\n",
       "      <td>$36,800.00</td>\n",
       "      <td>$61,500.00</td>\n",
       "      <td>67.1</td>\n",
       "      <td>$33,800.00</td>\n",
       "      <td>$45,500.00</td>\n",
       "      <td>$89,300.00</td>\n",
       "      <td>$138,000.00</td>\n",
       "    </tr>\n",
       "    <tr>\n",
       "      <th>4</th>\n",
       "      <td>Architecture</td>\n",
       "      <td>$41,600.00</td>\n",
       "      <td>$76,800.00</td>\n",
       "      <td>84.6</td>\n",
       "      <td>$50,600.00</td>\n",
       "      <td>$62,200.00</td>\n",
       "      <td>$97,000.00</td>\n",
       "      <td>$136,000.00</td>\n",
       "    </tr>\n",
       "  </tbody>\n",
       "</table>\n",
       "</div>"
      ],
      "text/plain": [
       "     Undergraduate Major Starting Median Salary Mid-Career Median Salary  \\\n",
       "0             Accounting             $46,000.00               $77,100.00   \n",
       "1  Aerospace Engineering             $57,700.00              $101,000.00   \n",
       "2            Agriculture             $42,600.00               $71,900.00   \n",
       "3           Anthropology             $36,800.00               $61,500.00   \n",
       "4           Architecture             $41,600.00               $76,800.00   \n",
       "\n",
       "   Percent change from Starting to Mid-Career Salary  \\\n",
       "0                                               67.6   \n",
       "1                                               75.0   \n",
       "2                                               68.8   \n",
       "3                                               67.1   \n",
       "4                                               84.6   \n",
       "\n",
       "  Mid-Career 10th Percentile Salary Mid-Career 25th Percentile Salary  \\\n",
       "0                        $42,200.00                        $56,100.00   \n",
       "1                        $64,300.00                        $82,100.00   \n",
       "2                        $36,300.00                        $52,100.00   \n",
       "3                        $33,800.00                        $45,500.00   \n",
       "4                        $50,600.00                        $62,200.00   \n",
       "\n",
       "  Mid-Career 75th Percentile Salary Mid-Career 90th Percentile Salary  \n",
       "0                       $108,000.00                       $152,000.00  \n",
       "1                       $127,000.00                       $161,000.00  \n",
       "2                        $96,300.00                       $150,000.00  \n",
       "3                        $89,300.00                       $138,000.00  \n",
       "4                        $97,000.00                       $136,000.00  "
      ]
     },
     "execution_count": 133,
     "metadata": {},
     "output_type": "execute_result"
    }
   ],
   "source": [
    "majors.head()"
   ]
  },
  {
   "cell_type": "code",
   "execution_count": 134,
   "metadata": {},
   "outputs": [
    {
     "name": "stdout",
     "output_type": "stream",
     "text": [
      "<class 'pandas.core.frame.DataFrame'>\n",
      "RangeIndex: 50 entries, 0 to 49\n",
      "Data columns (total 8 columns):\n",
      "Undergraduate Major                                  50 non-null object\n",
      "Starting Median Salary                               50 non-null object\n",
      "Mid-Career Median Salary                             50 non-null object\n",
      "Percent change from Starting to Mid-Career Salary    50 non-null float64\n",
      "Mid-Career 10th Percentile Salary                    50 non-null object\n",
      "Mid-Career 25th Percentile Salary                    50 non-null object\n",
      "Mid-Career 75th Percentile Salary                    50 non-null object\n",
      "Mid-Career 90th Percentile Salary                    50 non-null object\n",
      "dtypes: float64(1), object(7)\n",
      "memory usage: 3.2+ KB\n"
     ]
    }
   ],
   "source": [
    "majors.info()"
   ]
  },
  {
   "cell_type": "markdown",
   "metadata": {},
   "source": [
    "<b>NOTE:</b> Right away we see two things: First, the data contained in the set are incomplete. Secondly, most of the data was loaded in type that is useless to us. Let's conduct simple data preprocessing to fix second problem."
   ]
  },
  {
   "cell_type": "markdown",
   "metadata": {},
   "source": [
    "### 2.4. Data preprocessing\n",
    "<a id=\"data_preprocessing\"></a>"
   ]
  },
  {
   "cell_type": "markdown",
   "metadata": {},
   "source": [
    "<b>NOTE:</b> Let's start by renaming the columns. This makes it much easier to work with a datasets."
   ]
  },
  {
   "cell_type": "code",
   "execution_count": 135,
   "metadata": {},
   "outputs": [],
   "source": [
    "college_columns = {\n",
    "    \"School Name\" : \"name\",\n",
    "    \"School Type\" : \"type\",\n",
    "    \"Starting Median Salary\" : \"start_p50\",\n",
    "    \"Mid-Career Median Salary\" : \"mid_p50\",\n",
    "    \"Mid-Career 10th Percentile Salary\" : \"mid_p10\",\n",
    "    \"Mid-Career 25th Percentile Salary\" : \"mid_p25\",\n",
    "    \"Mid-Career 75th Percentile Salary\" : \"mid_p75\",\n",
    "    \"Mid-Career 90th Percentile Salary\" : \"mid_p90\"\n",
    "}\n",
    "\n",
    "college.rename(columns=college_columns, inplace=True)\n",
    "\n",
    "region_columns = {\n",
    "    \"School Name\" : \"name\",\n",
    "    \"Region\" : \"region\",\n",
    "    \"Starting Median Salary\" : \"start_p50\",\n",
    "    \"Mid-Career Median Salary\" : \"mid_p50\",\n",
    "    \"Mid-Career 10th Percentile Salary\" : \"mid_p10\",\n",
    "    \"Mid-Career 25th Percentile Salary\" : \"mid_p25\",\n",
    "    \"Mid-Career 75th Percentile Salary\" : \"mid_p75\",\n",
    "    \"Mid-Career 90th Percentile Salary\" : \"mid_p90\"\n",
    "}\n",
    "\n",
    "region.rename(columns=region_columns, inplace=True)\n",
    "\n",
    "majors_columns = {\n",
    "    \"Undergraduate Major\" : \"name\",\n",
    "    \"Starting Median Salary\" : \"start_p50\",\n",
    "    \"Mid-Career Median Salary\" : \"mid_p50\",\n",
    "    \"Percent change from Starting to Mid-Career Salary\" : \"increase\",\n",
    "    \"Mid-Career 10th Percentile Salary\" : \"mid_p10\",\n",
    "    \"Mid-Career 25th Percentile Salary\" : \"mid_p25\",\n",
    "    \"Mid-Career 75th Percentile Salary\" : \"mid_p75\",\n",
    "    \"Mid-Career 90th Percentile Salary\" : \"mid_p90\"\n",
    "}\n",
    "\n",
    "majors.rename(columns=majors_columns, inplace=True)"
   ]
  },
  {
   "cell_type": "markdown",
   "metadata": {},
   "source": [
    "<b>NOTE:</b> Let's use a dedicated function to convert the selected columns to numeric values."
   ]
  },
  {
   "cell_type": "code",
   "execution_count": 136,
   "metadata": {},
   "outputs": [],
   "source": [
    "selected_columns = [\"start_p50\", \"mid_p50\", \"mid_p10\", \"mid_p25\", \"mid_p75\", \"mid_p90\"]\n",
    "\n",
    "for dataset in datasets_list:\n",
    "    for column in selected_columns:\n",
    "        dataset[column] = dataset[column].str.replace(\"$\",\"\")\n",
    "        dataset[column] = dataset[column].str.replace(\",\",\"\")\n",
    "        dataset[column] = pd.to_numeric(dataset[column])"
   ]
  },
  {
   "cell_type": "markdown",
   "metadata": {},
   "source": [
    "## 3. Data Visualization\n",
    "<a id=\"data_visualization\"></a>"
   ]
  },
  {
   "cell_type": "markdown",
   "metadata": {},
   "source": [
    "### 3.1. Starting median salary distribution by major\n",
    "<a id=\"starting_median_salary_distribution\"></a>"
   ]
  },
  {
   "cell_type": "code",
   "execution_count": 137,
   "metadata": {
    "scrolled": false
   },
   "outputs": [
    {
     "data": {
      "image/png": "[encoded data removed]",
      "text/plain": [
       "<matplotlib.figure.Figure at 0x92fa440748>"
      ]
     },
     "metadata": {},
     "output_type": "display_data"
    }
   ],
   "source": [
    "short_term = college.sort_values(\"start_p50\", ascending=False)\n",
    "values = short_term[\"start_p50\"].tolist()\n",
    "ind = np.arange(len(values))\n",
    "\n",
    "\n",
    "# Creating new plot\n",
    "fig = plt.figure(figsize=(20,10))\n",
    "ax = fig.add_subplot(111)\n",
    "ax.yaxis.grid()\n",
    "ax.xaxis.grid()\n",
    "bars = ax.bar(ind, y)\n",
    "\n",
    "for i, b in enumerate(bars):\n",
    "    b.set_color(plt.cm.summer(1. * i / (len(values) - 1)))\n",
    "    \n",
    "plt.ylabel('Starting Median Salary [$]', fontsize=20)\n",
    "plt.xlabel('Distribution Among Universities', fontsize=20)\n",
    "plt.title('Instant income? Not for everyone.', fontsize=35, fontweight='bold')\n",
    "plt.xticks(np.arange(0, len(ind), (len(ind)-1)/5), [0, 20, 40, 60, 80, 100])\n",
    "\n",
    "plt.show()"
   ]
  },
  {
   "cell_type": "markdown",
   "metadata": {},
   "source": [
    "### 3.2. Long term investment\n",
    "<a id=\"long_term_investment\"></a>"
   ]
  },
  {
   "cell_type": "code",
   "execution_count": 138,
   "metadata": {},
   "outputs": [
    {
     "data": {
      "application/vnd.plotly.v1+json": {
       "data": [
        {
         "marker": {
          "color": "rgba(55, 128, 191, 0.7)",
          "line": {
           "color": "rgba(55, 128, 191, 1.0)",
           "width": 2
          }
         },
         "name": "Starting",
         "type": "bar",
         "x": [
          "Chemical Engineering",
          "Computer Engineering",
          "Electrical Engineering",
          "Aerospace Engineering",
          "Economics",
          "Physics",
          "Computer Science",
          "Industrial Engineering",
          "Mechanical Engineering",
          "Math",
          "Physician Assistant",
          "Civil Engineering",
          "Construction",
          "Finance",
          "Management Information Systems (MIS)",
          "Philosophy",
          "International Relations",
          "Chemistry",
          "Marketing",
          "Geology"
         ],
         "y": [
          63200,
          61400,
          60900,
          57700,
          50100,
          50300,
          55900,
          57700,
          57900,
          45400,
          74300,
          53900,
          53700,
          47900,
          49200,
          39900,
          40900,
          42600,
          40800,
          43500
         ]
        },
        {
         "marker": {
          "color": "rgba(219, 64, 82, 0.7)",
          "line": {
           "color": "rgba(219, 64, 82, 1.0)",
           "width": 2
          }
         },
         "name": "Mid-Career",
         "type": "bar",
         "x": [
          "Chemical Engineering",
          "Computer Engineering",
          "Electrical Engineering",
          "Aerospace Engineering",
          "Economics",
          "Physics",
          "Computer Science",
          "Industrial Engineering",
          "Mechanical Engineering",
          "Math",
          "Physician Assistant",
          "Civil Engineering",
          "Construction",
          "Finance",
          "Management Information Systems (MIS)",
          "Philosophy",
          "International Relations",
          "Chemistry",
          "Marketing",
          "Geology"
         ],
         "y": [
          107000,
          105000,
          103000,
          101000,
          98600,
          97300,
          95500,
          94700,
          93600,
          92400,
          91700,
          90500,
          88900,
          88300,
          82300,
          81200,
          80900,
          79900,
          79600,
          79500
         ]
        },
        {
         "mode": "lines+markers",
         "name": "Percent change",
         "type": "scatter",
         "x": [
          "Chemical Engineering",
          "Computer Engineering",
          "Electrical Engineering",
          "Aerospace Engineering",
          "Economics",
          "Physics",
          "Computer Science",
          "Industrial Engineering",
          "Mechanical Engineering",
          "Math",
          "Physician Assistant",
          "Civil Engineering",
          "Construction",
          "Finance",
          "Management Information Systems (MIS)",
          "Philosophy",
          "International Relations",
          "Chemistry",
          "Marketing",
          "Geology"
         ],
         "y": [
          69.3,
          71,
          69.1,
          75,
          96.8,
          93.4,
          70.8,
          64.1,
          61.7,
          103.5,
          23.4,
          67.9,
          65.5,
          84.3,
          67.3,
          103.5,
          97.8,
          87.6,
          95.1,
          82.8
         ],
         "yaxis": "y2"
        }
       ],
       "layout": {
        "barmode": "group",
        "height": 500,
        "legend": {
         "x": 0.1,
         "y": 0.05
        },
        "margin": {
         "b": 120,
         "l": 75,
         "pad": 10,
         "r": 75,
         "t": 80
        },
        "paper_bgcolor": "rgb(244, 238, 225)",
        "plot_bgcolor": "rgb(244, 238, 225)",
        "title": "Sometimes you have to wait for fruits to work",
        "width": 850,
        "yaxis": {
         "anchor": "x",
         "rangemode": "tozero",
         "title": "Median Salary [$]"
        },
        "yaxis2": {
         "anchor": "x",
         "dtick": 19.5,
         "overlaying": "y",
         "rangemode": "tozero",
         "side": "right",
         "tickfont": {
          "color": "rgb(148, 103, 189)"
         },
         "title": "Change [%]",
         "titlefont": {
          "color": "rgb(148, 103, 189)"
         }
        }
       }
      },
      "text/html": [
       "<div id=\"d5f67a6a-a609-43c2-8702-81e20d3dc044\" style=\"height: 500px; width: 850px;\" class=\"plotly-graph-div\"></div><script type=\"text/javascript\">require([\"plotly\"], function(Plotly) { window.PLOTLYENV=window.PLOTLYENV || {};window.PLOTLYENV.BASE_URL=\"https://plot.ly\";Plotly.newPlot(\"d5f67a6a-a609-43c2-8702-81e20d3dc044\", [{\"type\": \"bar\", \"x\": [\"Chemical Engineering\", \"Computer Engineering\", \"Electrical Engineering\", \"Aerospace Engineering\", \"Economics\", \"Physics\", \"Computer Science\", \"Industrial Engineering\", \"Mechanical Engineering\", \"Math\", \"Physician Assistant\", \"Civil Engineering\", \"Construction\", \"Finance\", \"Management Information Systems (MIS)\", \"Philosophy\", \"International Relations\", \"Chemistry\", \"Marketing\", \"Geology\"], \"y\": [63200.0, 61400.0, 60900.0, 57700.0, 50100.0, 50300.0, 55900.0, 57700.0, 57900.0, 45400.0, 74300.0, 53900.0, 53700.0, 47900.0, 49200.0, 39900.0, 40900.0, 42600.0, 40800.0, 43500.0], \"name\": \"Starting\", \"marker\": {\"color\": \"rgba(55, 128, 191, 0.7)\", \"line\": {\"color\": \"rgba(55, 128, 191, 1.0)\", \"width\": 2}}}, {\"type\": \"bar\", \"x\": [\"Chemical Engineering\", \"Computer Engineering\", \"Electrical Engineering\", \"Aerospace Engineering\", \"Economics\", \"Physics\", \"Computer Science\", \"Industrial Engineering\", \"Mechanical Engineering\", \"Math\", \"Physician Assistant\", \"Civil Engineering\", \"Construction\", \"Finance\", \"Management Information Systems (MIS)\", \"Philosophy\", \"International Relations\", \"Chemistry\", \"Marketing\", \"Geology\"], \"y\": [107000.0, 105000.0, 103000.0, 101000.0, 98600.0, 97300.0, 95500.0, 94700.0, 93600.0, 92400.0, 91700.0, 90500.0, 88900.0, 88300.0, 82300.0, 81200.0, 80900.0, 79900.0, 79600.0, 79500.0], \"name\": \"Mid-Career\", \"marker\": {\"color\": \"rgba(219, 64, 82, 0.7)\", \"line\": {\"color\": \"rgba(219, 64, 82, 1.0)\", \"width\": 2}}}, {\"type\": \"scatter\", \"x\": [\"Chemical Engineering\", \"Computer Engineering\", \"Electrical Engineering\", \"Aerospace Engineering\", \"Economics\", \"Physics\", \"Computer Science\", \"Industrial Engineering\", \"Mechanical Engineering\", \"Math\", \"Physician Assistant\", \"Civil Engineering\", \"Construction\", \"Finance\", \"Management Information Systems (MIS)\", \"Philosophy\", \"International Relations\", \"Chemistry\", \"Marketing\", \"Geology\"], \"y\": [69.3, 71.0, 69.1, 75.0, 96.8, 93.4, 70.8, 64.1, 61.7, 103.5, 23.4, 67.9, 65.5, 84.3, 67.3, 103.5, 97.8, 87.6, 95.1, 82.8], \"name\": \"Percent change\", \"mode\": \"lines+markers\", \"yaxis\": \"y2\"}], {\"barmode\": \"group\", \"title\": \"Sometimes you have to wait for fruits to work\", \"width\": 850, \"height\": 500, \"margin\": {\"l\": 75, \"r\": 75, \"b\": 120, \"t\": 80, \"pad\": 10}, \"paper_bgcolor\": \"rgb(244, 238, 225)\", \"plot_bgcolor\": \"rgb(244, 238, 225)\", \"yaxis\": {\"title\": \"Median Salary [$]\", \"anchor\": \"x\", \"rangemode\": \"tozero\"}, \"yaxis2\": {\"title\": \"Change [%]\", \"titlefont\": {\"color\": \"rgb(148, 103, 189)\"}, \"tickfont\": {\"color\": \"rgb(148, 103, 189)\"}, \"overlaying\": \"y\", \"side\": \"right\", \"anchor\": \"x\", \"rangemode\": \"tozero\", \"dtick\": 19.5}, \"legend\": {\"x\": 0.1, \"y\": 0.05}}, {\"showLink\": true, \"linkText\": \"Export to plot.ly\"})});</script>"
      ],
      "text/vnd.plotly.v1+html": [
       "<div id=\"d5f67a6a-a609-43c2-8702-81e20d3dc044\" style=\"height: 500px; width: 850px;\" class=\"plotly-graph-div\"></div><script type=\"text/javascript\">require([\"plotly\"], function(Plotly) { window.PLOTLYENV=window.PLOTLYENV || {};window.PLOTLYENV.BASE_URL=\"https://plot.ly\";Plotly.newPlot(\"d5f67a6a-a609-43c2-8702-81e20d3dc044\", [{\"type\": \"bar\", \"x\": [\"Chemical Engineering\", \"Computer Engineering\", \"Electrical Engineering\", \"Aerospace Engineering\", \"Economics\", \"Physics\", \"Computer Science\", \"Industrial Engineering\", \"Mechanical Engineering\", \"Math\", \"Physician Assistant\", \"Civil Engineering\", \"Construction\", \"Finance\", \"Management Information Systems (MIS)\", \"Philosophy\", \"International Relations\", \"Chemistry\", \"Marketing\", \"Geology\"], \"y\": [63200.0, 61400.0, 60900.0, 57700.0, 50100.0, 50300.0, 55900.0, 57700.0, 57900.0, 45400.0, 74300.0, 53900.0, 53700.0, 47900.0, 49200.0, 39900.0, 40900.0, 42600.0, 40800.0, 43500.0], \"name\": \"Starting\", \"marker\": {\"color\": \"rgba(55, 128, 191, 0.7)\", \"line\": {\"color\": \"rgba(55, 128, 191, 1.0)\", \"width\": 2}}}, {\"type\": \"bar\", \"x\": [\"Chemical Engineering\", \"Computer Engineering\", \"Electrical Engineering\", \"Aerospace Engineering\", \"Economics\", \"Physics\", \"Computer Science\", \"Industrial Engineering\", \"Mechanical Engineering\", \"Math\", \"Physician Assistant\", \"Civil Engineering\", \"Construction\", \"Finance\", \"Management Information Systems (MIS)\", \"Philosophy\", \"International Relations\", \"Chemistry\", \"Marketing\", \"Geology\"], \"y\": [107000.0, 105000.0, 103000.0, 101000.0, 98600.0, 97300.0, 95500.0, 94700.0, 93600.0, 92400.0, 91700.0, 90500.0, 88900.0, 88300.0, 82300.0, 81200.0, 80900.0, 79900.0, 79600.0, 79500.0], \"name\": \"Mid-Career\", \"marker\": {\"color\": \"rgba(219, 64, 82, 0.7)\", \"line\": {\"color\": \"rgba(219, 64, 82, 1.0)\", \"width\": 2}}}, {\"type\": \"scatter\", \"x\": [\"Chemical Engineering\", \"Computer Engineering\", \"Electrical Engineering\", \"Aerospace Engineering\", \"Economics\", \"Physics\", \"Computer Science\", \"Industrial Engineering\", \"Mechanical Engineering\", \"Math\", \"Physician Assistant\", \"Civil Engineering\", \"Construction\", \"Finance\", \"Management Information Systems (MIS)\", \"Philosophy\", \"International Relations\", \"Chemistry\", \"Marketing\", \"Geology\"], \"y\": [69.3, 71.0, 69.1, 75.0, 96.8, 93.4, 70.8, 64.1, 61.7, 103.5, 23.4, 67.9, 65.5, 84.3, 67.3, 103.5, 97.8, 87.6, 95.1, 82.8], \"name\": \"Percent change\", \"mode\": \"lines+markers\", \"yaxis\": \"y2\"}], {\"barmode\": \"group\", \"title\": \"Sometimes you have to wait for fruits to work\", \"width\": 850, \"height\": 500, \"margin\": {\"l\": 75, \"r\": 75, \"b\": 120, \"t\": 80, \"pad\": 10}, \"paper_bgcolor\": \"rgb(244, 238, 225)\", \"plot_bgcolor\": \"rgb(244, 238, 225)\", \"yaxis\": {\"title\": \"Median Salary [$]\", \"anchor\": \"x\", \"rangemode\": \"tozero\"}, \"yaxis2\": {\"title\": \"Change [%]\", \"titlefont\": {\"color\": \"rgb(148, 103, 189)\"}, \"tickfont\": {\"color\": \"rgb(148, 103, 189)\"}, \"overlaying\": \"y\", \"side\": \"right\", \"anchor\": \"x\", \"rangemode\": \"tozero\", \"dtick\": 19.5}, \"legend\": {\"x\": 0.1, \"y\": 0.05}}, {\"showLink\": true, \"linkText\": \"Export to plot.ly\"})});</script>"
      ]
     },
     "metadata": {},
     "output_type": "display_data"
    }
   ],
   "source": [
    "majors_sort = majors.sort_values(\"mid_p50\", ascending=False).head(20)\n",
    "\n",
    "trace1 = go.Bar(\n",
    "    x = majors_sort[\"name\"].tolist(),\n",
    "    y = majors_sort[\"start_p50\"].tolist(),\n",
    "    name='Starting',\n",
    "    marker=dict(\n",
    "        color='rgba(55, 128, 191, 0.7)',\n",
    "        line=dict(\n",
    "            color='rgba(55, 128, 191, 1.0)',\n",
    "            width=2,\n",
    "        )\n",
    "    )\n",
    ")\n",
    "trace2 = go.Bar(\n",
    "    x = majors_sort[\"name\"].tolist(),\n",
    "    y = majors_sort[\"mid_p50\"].tolist(),\n",
    "    name='Mid-Career',\n",
    "    marker=dict(\n",
    "        color='rgba(219, 64, 82, 0.7)',\n",
    "        line=dict(\n",
    "            color='rgba(219, 64, 82, 1.0)',\n",
    "            width=2,\n",
    "        )\n",
    "    )\n",
    ")\n",
    "\n",
    "trace3 = go.Scatter(\n",
    "    x = majors_sort[\"name\"].tolist(),\n",
    "    y = majors_sort[\"increase\"].tolist(),\n",
    "    name='Percent change',\n",
    "    mode = 'lines+markers',\n",
    "    yaxis='y2'\n",
    ")\n",
    "\n",
    "data = [trace1, trace2, trace3]\n",
    "layout = go.Layout(\n",
    "    barmode='group',\n",
    "    title = 'Sometimes you have to wait for fruits to work',\n",
    "    width=850,\n",
    "    height=500,\n",
    "    margin=go.Margin(\n",
    "        l=75,\n",
    "        r=75,\n",
    "        b=120,\n",
    "        t=80,\n",
    "        pad=10\n",
    "    ),\n",
    "    paper_bgcolor='rgb(244, 238, 225)',\n",
    "    plot_bgcolor='rgb(244, 238, 225)',\n",
    "    yaxis = dict(\n",
    "        title= 'Median Salary [$]',\n",
    "        anchor = 'x',\n",
    "        rangemode='tozero'\n",
    "    ),   \n",
    "    yaxis2=dict(\n",
    "        title='Change [%]',\n",
    "        titlefont=dict(\n",
    "            color='rgb(148, 103, 189)'\n",
    "        ),\n",
    "        tickfont=dict(\n",
    "            color='rgb(148, 103, 189)'\n",
    "        ),\n",
    "        overlaying='y',\n",
    "        side='right',\n",
    "        anchor = 'x',\n",
    "        rangemode = 'tozero',\n",
    "        dtick = 19.5\n",
    "    ),\n",
    "    #legend=dict(x=-.1, y=1.2)\n",
    "    legend=dict(x=0.1, y=0.05)\n",
    ")\n",
    "\n",
    "fig = go.Figure(data=data, layout=layout)\n",
    "py.iplot(fig)"
   ]
  },
  {
   "cell_type": "markdown",
   "metadata": {},
   "source": [
    "# To be continued..."
   ]
  },
  {
   "cell_type": "code",
   "execution_count": null,
   "metadata": {
    "collapsed": true
   },
   "outputs": [],
   "source": []
  }
 ],
 "metadata": {
  "kernelspec": {
   "display_name": "Python 3",
   "language": "python",
   "name": "python3"
  },
  "language_info": {
   "codemirror_mode": {
    "name": "ipython",
    "version": 3
   },
   "file_extension": ".py",
   "mimetype": "text/x-python",
   "name": "python",
   "nbconvert_exporter": "python",
   "pygments_lexer": "ipython3",
   "version": "3.6.2"
  }
 },
 "nbformat": 4,
 "nbformat_minor": 2
}
