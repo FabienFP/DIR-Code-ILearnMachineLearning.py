{
 "cells": [
  {
   "cell_type": "markdown",
   "metadata": {},
   "source": [
    "# What it takes to be Data Scientist?\n",
    "***"
   ]
  },
  {
   "cell_type": "markdown",
   "metadata": {},
   "source": [
    "<img src='https://c2.staticflickr.com/8/7187/6964774217_53d449288a_b.jpg'>"
   ]
  },
  {
   "cell_type": "markdown",
   "metadata": {},
   "source": [
    "## Table of Contents\n",
    "***\n",
    "* [1. Introduction](#introduction) <br>\n",
    "* [2. Importing dataset and data preprocessing](#importing_dataset_and_data_preprocessing) <br>\n",
    "   * [2.1. Importing essential libraries](#importing_essential_libraries) <br>\n",
    "   * [2.2. Importing Datasets](#importing_datasets) <br>\n",
    "   * [2.3. Let's try to summarize the Datasets](#lets_summarize_the_dataset) <br>"
   ]
  },
  {
   "cell_type": "markdown",
   "metadata": {
    "collapsed": true
   },
   "source": [
    "## 1. Introduction\n",
    "<a id=\"introduction\"></a>"
   ]
  },
  {
   "cell_type": "markdown",
   "metadata": {},
   "source": [
    "## 2. Importing dataset and data preprocessing\n",
    "<a id=\"importing_dataset_and_data_preprocessing\"></a>"
   ]
  },
  {
   "cell_type": "markdown",
   "metadata": {},
   "source": [
    "### 2.1. Importing essential libraries\n",
    "<a id=\"importing_essential_libraries\"></a>"
   ]
  },
  {
   "cell_type": "code",
   "execution_count": null,
   "metadata": {
    "collapsed": true
   },
   "outputs": [],
   "source": []
  }
 ],
 "metadata": {
  "kernelspec": {
   "display_name": "Python 3",
   "language": "python",
   "name": "python3"
  },
  "language_info": {
   "codemirror_mode": {
    "name": "ipython",
    "version": 3
   },
   "file_extension": ".py",
   "mimetype": "text/x-python",
   "name": "python",
   "nbconvert_exporter": "python",
   "pygments_lexer": "ipython3",
   "version": "3.6.2"
  }
 },
 "nbformat": 4,
 "nbformat_minor": 2
}
